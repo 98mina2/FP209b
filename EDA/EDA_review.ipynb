{
 "cells": [
  {
   "cell_type": "markdown",
   "id": "f9e7e1fa",
   "metadata": {},
   "source": [
    "# Insights on Review Dataset"
   ]
  },
  {
   "cell_type": "code",
   "execution_count": 2,
   "id": "9f63d890",
   "metadata": {},
   "outputs": [],
   "source": [
    "from pprint import pprint\n",
    "\n",
    "import numpy as np\n",
    "import pandas as pd\n",
    "import seaborn as sns\n",
    "import matplotlib.pyplot as plt\n",
    "\n",
    "from nltk.sentiment.vader import SentimentIntensityAnalyzer as SIA"
   ]
  },
  {
   "cell_type": "markdown",
   "id": "fe566b19",
   "metadata": {},
   "source": [
    "## Summary of the Data"
   ]
  },
  {
   "cell_type": "markdown",
   "id": "cad08403",
   "metadata": {},
   "source": [
    "### Import the Cleaned Dataset of Review & shape of the data\n",
    "* _Preprocessing the dataset is done in review_data_inspect.ipynb_"
   ]
  },
  {
   "cell_type": "code",
   "execution_count": 2,
   "id": "d65ce898",
   "metadata": {},
   "outputs": [
    {
     "name": "stdout",
     "output_type": "stream",
     "text": [
      "There are 5257329 review records with 9 total features.\n"
     ]
    },
    {
     "data": {
      "text/html": [
       "<div>\n",
       "<style scoped>\n",
       "    .dataframe tbody tr th:only-of-type {\n",
       "        vertical-align: middle;\n",
       "    }\n",
       "\n",
       "    .dataframe tbody tr th {\n",
       "        vertical-align: top;\n",
       "    }\n",
       "\n",
       "    .dataframe thead th {\n",
       "        text-align: right;\n",
       "    }\n",
       "</style>\n",
       "<table border=\"1\" class=\"dataframe\">\n",
       "  <thead>\n",
       "    <tr style=\"text-align: right;\">\n",
       "      <th></th>\n",
       "      <th>review_id</th>\n",
       "      <th>user_id</th>\n",
       "      <th>business_id</th>\n",
       "      <th>text</th>\n",
       "      <th>date</th>\n",
       "      <th>stars</th>\n",
       "      <th>useful</th>\n",
       "      <th>funny</th>\n",
       "      <th>cool</th>\n",
       "    </tr>\n",
       "  </thead>\n",
       "  <tbody>\n",
       "    <tr>\n",
       "      <th>0</th>\n",
       "      <td>KU_O5udG6zpxOg-VcAEodg</td>\n",
       "      <td>mh_-eMZ6K5RLWhZyISBhwA</td>\n",
       "      <td>XQfwVwDr-v0ZS3_CbbE5Xw</td>\n",
       "      <td>If you decide to eat here, just be aware it is...</td>\n",
       "      <td>2018-07-07 22:09:11</td>\n",
       "      <td>-0.577114</td>\n",
       "      <td>-0.365960</td>\n",
       "      <td>-0.184315</td>\n",
       "      <td>-0.229438</td>\n",
       "    </tr>\n",
       "    <tr>\n",
       "      <th>1</th>\n",
       "      <td>saUsX_uimxRlCVr67Z4Jig</td>\n",
       "      <td>8g_iMtfSiwikVnbP2etR0A</td>\n",
       "      <td>YjUWPpI6HXG530lwP-fb2A</td>\n",
       "      <td>Family diner. Had the buffet. Eclectic assortm...</td>\n",
       "      <td>2014-02-05 20:30:30</td>\n",
       "      <td>-0.577114</td>\n",
       "      <td>-0.365960</td>\n",
       "      <td>-0.184315</td>\n",
       "      <td>-0.229438</td>\n",
       "    </tr>\n",
       "    <tr>\n",
       "      <th>2</th>\n",
       "      <td>AqPFMleE6RsU23_auESxiA</td>\n",
       "      <td>_7bHUi9Uuf5__HHc_Q8guQ</td>\n",
       "      <td>kxX2SOes4o-D3ZQBkiMRfA</td>\n",
       "      <td>Wow!  Yummy, different,  delicious.   Our favo...</td>\n",
       "      <td>2015-01-04 00:01:03</td>\n",
       "      <td>0.858133</td>\n",
       "      <td>-0.007821</td>\n",
       "      <td>-0.184315</td>\n",
       "      <td>0.224182</td>\n",
       "    </tr>\n",
       "  </tbody>\n",
       "</table>\n",
       "</div>"
      ],
      "text/plain": [
       "                review_id                 user_id             business_id  \\\n",
       "0  KU_O5udG6zpxOg-VcAEodg  mh_-eMZ6K5RLWhZyISBhwA  XQfwVwDr-v0ZS3_CbbE5Xw   \n",
       "1  saUsX_uimxRlCVr67Z4Jig  8g_iMtfSiwikVnbP2etR0A  YjUWPpI6HXG530lwP-fb2A   \n",
       "2  AqPFMleE6RsU23_auESxiA  _7bHUi9Uuf5__HHc_Q8guQ  kxX2SOes4o-D3ZQBkiMRfA   \n",
       "\n",
       "                                                text                date  \\\n",
       "0  If you decide to eat here, just be aware it is... 2018-07-07 22:09:11   \n",
       "1  Family diner. Had the buffet. Eclectic assortm... 2014-02-05 20:30:30   \n",
       "2  Wow!  Yummy, different,  delicious.   Our favo... 2015-01-04 00:01:03   \n",
       "\n",
       "      stars    useful     funny      cool  \n",
       "0 -0.577114 -0.365960 -0.184315 -0.229438  \n",
       "1 -0.577114 -0.365960 -0.184315 -0.229438  \n",
       "2  0.858133 -0.007821 -0.184315  0.224182  "
      ]
     },
     "execution_count": 2,
     "metadata": {},
     "output_type": "execute_result"
    }
   ],
   "source": [
    "df = pd.read_feather(\"../data/yelp_review_cleaned.feather\")\n",
    "print(f\"There are {df.shape[0]} review records with {df.shape[1]} total features.\")\n",
    "df.head(3)"
   ]
  },
  {
   "cell_type": "markdown",
   "id": "b11c9fc1",
   "metadata": {},
   "source": [
    "### Data Types"
   ]
  },
  {
   "cell_type": "code",
   "execution_count": 3,
   "id": "1ec01cdb",
   "metadata": {},
   "outputs": [
    {
     "name": "stdout",
     "output_type": "stream",
     "text": [
      "<class 'pandas.core.frame.DataFrame'>\n",
      "RangeIndex: 5257329 entries, 0 to 5257328\n",
      "Data columns (total 9 columns):\n",
      " #   Column       Dtype         \n",
      "---  ------       -----         \n",
      " 0   review_id    object        \n",
      " 1   user_id      object        \n",
      " 2   business_id  object        \n",
      " 3   text         object        \n",
      " 4   date         datetime64[ns]\n",
      " 5   stars        float64       \n",
      " 6   useful       float64       \n",
      " 7   funny        float64       \n",
      " 8   cool         float64       \n",
      "dtypes: datetime64[ns](1), float64(4), object(4)\n",
      "memory usage: 361.0+ MB\n"
     ]
    }
   ],
   "source": [
    "# data types of review dataset\n",
    "df.info()"
   ]
  },
  {
   "cell_type": "markdown",
   "id": "78247bbf",
   "metadata": {},
   "source": [
    "### Numeric Variables "
   ]
  },
  {
   "cell_type": "markdown",
   "id": "62e8824f",
   "metadata": {},
   "source": [
    "#### Descriptive statistics such as mean, max, min, std"
   ]
  },
  {
   "cell_type": "code",
   "execution_count": 4,
   "id": "6e6b2641",
   "metadata": {},
   "outputs": [
    {
     "data": {
      "text/html": [
       "<div>\n",
       "<style scoped>\n",
       "    .dataframe tbody tr th:only-of-type {\n",
       "        vertical-align: middle;\n",
       "    }\n",
       "\n",
       "    .dataframe tbody tr th {\n",
       "        vertical-align: top;\n",
       "    }\n",
       "\n",
       "    .dataframe thead th {\n",
       "        text-align: right;\n",
       "    }\n",
       "</style>\n",
       "<table border=\"1\" class=\"dataframe\">\n",
       "  <thead>\n",
       "    <tr style=\"text-align: right;\">\n",
       "      <th></th>\n",
       "      <th>stars</th>\n",
       "      <th>useful</th>\n",
       "      <th>funny</th>\n",
       "      <th>cool</th>\n",
       "    </tr>\n",
       "  </thead>\n",
       "  <tbody>\n",
       "    <tr>\n",
       "      <th>count</th>\n",
       "      <td>5.257329e+06</td>\n",
       "      <td>5.257329e+06</td>\n",
       "      <td>5.257329e+06</td>\n",
       "      <td>5.257329e+06</td>\n",
       "    </tr>\n",
       "    <tr>\n",
       "      <th>mean</th>\n",
       "      <td>1.150474e-13</td>\n",
       "      <td>3.171765e-13</td>\n",
       "      <td>-1.903410e-13</td>\n",
       "      <td>-1.795072e-13</td>\n",
       "    </tr>\n",
       "    <tr>\n",
       "      <th>std</th>\n",
       "      <td>1.000000e+00</td>\n",
       "      <td>1.000000e+00</td>\n",
       "      <td>1.000000e+00</td>\n",
       "      <td>1.000000e+00</td>\n",
       "    </tr>\n",
       "    <tr>\n",
       "      <th>min</th>\n",
       "      <td>-2.012361e+00</td>\n",
       "      <td>-7.241003e-01</td>\n",
       "      <td>-7.627253e-01</td>\n",
       "      <td>-6.830580e-01</td>\n",
       "    </tr>\n",
       "    <tr>\n",
       "      <th>25%</th>\n",
       "      <td>-5.771139e-01</td>\n",
       "      <td>-3.659604e-01</td>\n",
       "      <td>-1.843155e-01</td>\n",
       "      <td>-2.294381e-01</td>\n",
       "    </tr>\n",
       "    <tr>\n",
       "      <th>50%</th>\n",
       "      <td>1.405098e-01</td>\n",
       "      <td>-3.659604e-01</td>\n",
       "      <td>-1.843155e-01</td>\n",
       "      <td>-2.294381e-01</td>\n",
       "    </tr>\n",
       "    <tr>\n",
       "      <th>75%</th>\n",
       "      <td>8.581335e-01</td>\n",
       "      <td>-7.820544e-03</td>\n",
       "      <td>-1.843155e-01</td>\n",
       "      <td>-2.294381e-01</td>\n",
       "    </tr>\n",
       "    <tr>\n",
       "      <th>max</th>\n",
       "      <td>8.581335e-01</td>\n",
       "      <td>1.500528e+02</td>\n",
       "      <td>4.579163e+02</td>\n",
       "      <td>1.830330e+02</td>\n",
       "    </tr>\n",
       "  </tbody>\n",
       "</table>\n",
       "</div>"
      ],
      "text/plain": [
       "              stars        useful         funny          cool\n",
       "count  5.257329e+06  5.257329e+06  5.257329e+06  5.257329e+06\n",
       "mean   1.150474e-13  3.171765e-13 -1.903410e-13 -1.795072e-13\n",
       "std    1.000000e+00  1.000000e+00  1.000000e+00  1.000000e+00\n",
       "min   -2.012361e+00 -7.241003e-01 -7.627253e-01 -6.830580e-01\n",
       "25%   -5.771139e-01 -3.659604e-01 -1.843155e-01 -2.294381e-01\n",
       "50%    1.405098e-01 -3.659604e-01 -1.843155e-01 -2.294381e-01\n",
       "75%    8.581335e-01 -7.820544e-03 -1.843155e-01 -2.294381e-01\n",
       "max    8.581335e-01  1.500528e+02  4.579163e+02  1.830330e+02"
      ]
     },
     "execution_count": 4,
     "metadata": {},
     "output_type": "execute_result"
    }
   ],
   "source": [
    "# Focusing on numerica variables\n",
    "df[['stars', 'useful','funny','cool']].describe()"
   ]
  },
  {
   "cell_type": "code",
   "execution_count": 5,
   "id": "b74c0731",
   "metadata": {},
   "outputs": [
    {
     "name": "stdout",
     "output_type": "stream",
     "text": [
      "\n",
      "The mean stars is 0.0000 \n",
      "The mean number of useful is 0.0000 \n",
      "The mean number of funny is -0.0000 \n",
      "The mean number of cool is -0.0000 \n",
      "The minimum and maximum values of stars is -2.0124 and 0.8581\n",
      "The minimum and maximum values of useful is -0.7241 and 150.0528\n",
      "The minimum and maximum values of funny is -0.7627 and 457.9163\n",
      "The minimum and maximum values of cool is -0.6831 and 183.0330\n"
     ]
    }
   ],
   "source": [
    "mean_stars = df[\"stars\"].mean() \n",
    "mean_useful = df[\"useful\"].mean()\n",
    "mean_funny = df['funny'].mean()\n",
    "mean_cool = df['cool'].mean()\n",
    "\n",
    "min_stars = df['stars'].min()\n",
    "min_useful = df['useful'].min()\n",
    "min_funny = df['funny'].min()\n",
    "min_cool = df['cool'].min()\n",
    "\n",
    "max_stars = df['stars'].max()\n",
    "max_useful = df['useful'].max()\n",
    "max_funny = df['funny'].max()\n",
    "max_cool = df['cool'].max()\n",
    "\n",
    "print(\n",
    "    \"\\n\"\n",
    "    f\"The mean stars is {mean_stars:.4f} \\n\"\n",
    "    f\"The mean number of useful is {mean_useful:.4f} \\n\"\n",
    "    f\"The mean number of funny is {mean_funny:.4f} \\n\"\n",
    "    f\"The mean number of cool is {mean_cool:.4f} \\n\"\n",
    "    f\"The minimum and maximum values of stars is {min_stars:.4f} and {max_stars:.4f}\\n\"\n",
    "    f\"The minimum and maximum values of useful is {min_useful:.4f} and {max_useful:.4f}\\n\"\n",
    "    f\"The minimum and maximum values of funny is {min_funny:.4f} and {max_funny:.4f}\\n\"\n",
    "    f\"The minimum and maximum values of cool is {min_cool:.4f} and {max_cool:.4f}\"\n",
    ")"
   ]
  },
  {
   "cell_type": "markdown",
   "id": "c7d7aaa5",
   "metadata": {},
   "source": [
    "#### Correlation Check on Numeric Variables"
   ]
  },
  {
   "cell_type": "code",
   "execution_count": 6,
   "id": "b6d24729",
   "metadata": {},
   "outputs": [
    {
     "data": {
      "image/png": "[encoded data removed]",
      "text/plain": [
       "<Figure size 640x480 with 2 Axes>"
      ]
     },
     "metadata": {},
     "output_type": "display_data"
    }
   ],
   "source": [
    "cor = df.corr()\n",
    "sns.heatmap(cor, cmap = 'Blues')\n",
    "plt.title(\"Review Dataset Correlation Map\")\n",
    "plt.show()"
   ]
  },
  {
   "cell_type": "markdown",
   "id": "a8e7337c",
   "metadata": {},
   "source": [
    "## Deeper Understanding of the Data"
   ]
  },
  {
   "cell_type": "markdown",
   "id": "dac98799",
   "metadata": {},
   "source": [
    "### Checking the counts of reviews by business"
   ]
  },
  {
   "cell_type": "code",
   "execution_count": 7,
   "id": "c14b600f",
   "metadata": {},
   "outputs": [
    {
     "data": {
      "text/plain": [
       "business_id\n",
       "_ab50qdWOk0DdB6XOrBitw    7673\n",
       "ac1AeYqs8Z4_e2X5M3if2A    7516\n",
       "GXFMD0Z4jEVZBCsbPf4CTQ    6160\n",
       "ytynqOUb3hjKeJfRj5Tshw    5778\n",
       "oBNrLz4EDhiscSlbOl8uAw    5264\n",
       "                          ... \n",
       "4uEND5go9zoJyqbuO2xDWg       5\n",
       "HpQPUBiALc8TXFv4KMONKQ       5\n",
       "1P1xD7dYMrd9VseziFi0bQ       5\n",
       "gayQ5JeBfFF1bTYdGu6tgg       5\n",
       "7K-VVWa_nZgviO39sPfd2A       5\n",
       "Name: review_id, Length: 68054, dtype: int64"
      ]
     },
     "execution_count": 7,
     "metadata": {},
     "output_type": "execute_result"
    }
   ],
   "source": [
    "review_count_by_business = df.groupby('business_id')['review_id'].count().sort_values(ascending=False)\n",
    "review_count_by_business"
   ]
  },
  {
   "cell_type": "code",
   "execution_count": 8,
   "id": "5083da0a",
   "metadata": {},
   "outputs": [
    {
     "name": "stdout",
     "output_type": "stream",
     "text": [
      "There are 68054 business received reviews.\n"
     ]
    },
    {
     "data": {
      "image/png": "[encoded data removed]",
      "text/plain": [
       "<Figure size 640x480 with 1 Axes>"
      ]
     },
     "metadata": {},
     "output_type": "display_data"
    }
   ],
   "source": [
    "plt.bar(np.arange(review_count_by_business.shape[0]), review_count_by_business);\n",
    "plt.title('Review Count by Business')\n",
    "plt.ylabel('Number of Reviews')\n",
    "print(f\"There are {len(review_count_by_business)} business received reviews.\")\n",
    "plt.show()"
   ]
  },
  {
   "cell_type": "markdown",
   "id": "61228ba3",
   "metadata": {},
   "source": [
    "* There is an imbalance of the number of reviews received by each business\n",
    "* But, we will not mitigate this imbalance since the number of reviews acts as an indicator for popularity, under-sampling some of the popular restaurants will likely hurt the performance of our model."
   ]
  },
  {
   "cell_type": "markdown",
   "id": "1325c58a",
   "metadata": {},
   "source": [
    "### Check the number of reviews by `state`"
   ]
  },
  {
   "cell_type": "markdown",
   "id": "c1eb11fc",
   "metadata": {},
   "source": [
    "#### Merge `State` column from Business Dataset to check the distribution of reviews based on the states"
   ]
  },
  {
   "cell_type": "code",
   "execution_count": 9,
   "id": "7b0ffb06",
   "metadata": {},
   "outputs": [
    {
     "data": {
      "text/html": [
       "<div>\n",
       "<style scoped>\n",
       "    .dataframe tbody tr th:only-of-type {\n",
       "        vertical-align: middle;\n",
       "    }\n",
       "\n",
       "    .dataframe tbody tr th {\n",
       "        vertical-align: top;\n",
       "    }\n",
       "\n",
       "    .dataframe thead th {\n",
       "        text-align: right;\n",
       "    }\n",
       "</style>\n",
       "<table border=\"1\" class=\"dataframe\">\n",
       "  <thead>\n",
       "    <tr style=\"text-align: right;\">\n",
       "      <th></th>\n",
       "      <th>original_index</th>\n",
       "      <th>business_id</th>\n",
       "      <th>name</th>\n",
       "      <th>address</th>\n",
       "      <th>city</th>\n",
       "      <th>state</th>\n",
       "      <th>postal_code</th>\n",
       "      <th>latitude</th>\n",
       "      <th>longitude</th>\n",
       "      <th>stars</th>\n",
       "      <th>...</th>\n",
       "      <th>music_live</th>\n",
       "      <th>music_video</th>\n",
       "      <th>music_karaoke</th>\n",
       "      <th>hours_Monday</th>\n",
       "      <th>hours_Tuesday</th>\n",
       "      <th>hours_Wednesday</th>\n",
       "      <th>hours_Thursday</th>\n",
       "      <th>hours_Friday</th>\n",
       "      <th>hours_Saturday</th>\n",
       "      <th>hours_Sunday</th>\n",
       "    </tr>\n",
       "  </thead>\n",
       "  <tbody>\n",
       "    <tr>\n",
       "      <th>0</th>\n",
       "      <td>3</td>\n",
       "      <td>MTSW4McQd7CbVtyjqoe9mw</td>\n",
       "      <td>St Honore Pastries</td>\n",
       "      <td>935 Race St</td>\n",
       "      <td>Philadelphia</td>\n",
       "      <td>PA</td>\n",
       "      <td>19107</td>\n",
       "      <td>39.955505</td>\n",
       "      <td>-75.155564</td>\n",
       "      <td>4.0</td>\n",
       "      <td>...</td>\n",
       "      <td>None</td>\n",
       "      <td>None</td>\n",
       "      <td>None</td>\n",
       "      <td>7:0-20:0</td>\n",
       "      <td>7:0-20:0</td>\n",
       "      <td>7:0-20:0</td>\n",
       "      <td>7:0-20:0</td>\n",
       "      <td>7:0-21:0</td>\n",
       "      <td>7:0-21:0</td>\n",
       "      <td>7:0-21:0</td>\n",
       "    </tr>\n",
       "  </tbody>\n",
       "</table>\n",
       "<p>1 rows × 84 columns</p>\n",
       "</div>"
      ],
      "text/plain": [
       "   original_index             business_id                name      address  \\\n",
       "0               3  MTSW4McQd7CbVtyjqoe9mw  St Honore Pastries  935 Race St   \n",
       "\n",
       "           city state postal_code   latitude  longitude  stars  ...  \\\n",
       "0  Philadelphia    PA       19107  39.955505 -75.155564    4.0  ...   \n",
       "\n",
       "   music_live  music_video music_karaoke hours_Monday  hours_Tuesday  \\\n",
       "0        None         None          None     7:0-20:0       7:0-20:0   \n",
       "\n",
       "  hours_Wednesday hours_Thursday hours_Friday hours_Saturday hours_Sunday  \n",
       "0        7:0-20:0       7:0-20:0     7:0-21:0       7:0-21:0     7:0-21:0  \n",
       "\n",
       "[1 rows x 84 columns]"
      ]
     },
     "execution_count": 9,
     "metadata": {},
     "output_type": "execute_result"
    }
   ],
   "source": [
    "business = pd.read_feather(\"../data/yelp_business_cleaned.feather\")\n",
    "business.head(1)"
   ]
  },
  {
   "cell_type": "code",
   "execution_count": 10,
   "id": "471aab23",
   "metadata": {},
   "outputs": [
    {
     "data": {
      "text/html": [
       "<div>\n",
       "<style scoped>\n",
       "    .dataframe tbody tr th:only-of-type {\n",
       "        vertical-align: middle;\n",
       "    }\n",
       "\n",
       "    .dataframe tbody tr th {\n",
       "        vertical-align: top;\n",
       "    }\n",
       "\n",
       "    .dataframe thead th {\n",
       "        text-align: right;\n",
       "    }\n",
       "</style>\n",
       "<table border=\"1\" class=\"dataframe\">\n",
       "  <thead>\n",
       "    <tr style=\"text-align: right;\">\n",
       "      <th></th>\n",
       "      <th>review_id</th>\n",
       "      <th>user_id</th>\n",
       "      <th>business_id</th>\n",
       "      <th>text</th>\n",
       "      <th>date</th>\n",
       "      <th>stars_x</th>\n",
       "      <th>useful</th>\n",
       "      <th>funny</th>\n",
       "      <th>cool</th>\n",
       "      <th>original_index</th>\n",
       "      <th>...</th>\n",
       "      <th>music_live</th>\n",
       "      <th>music_video</th>\n",
       "      <th>music_karaoke</th>\n",
       "      <th>hours_Monday</th>\n",
       "      <th>hours_Tuesday</th>\n",
       "      <th>hours_Wednesday</th>\n",
       "      <th>hours_Thursday</th>\n",
       "      <th>hours_Friday</th>\n",
       "      <th>hours_Saturday</th>\n",
       "      <th>hours_Sunday</th>\n",
       "    </tr>\n",
       "  </thead>\n",
       "  <tbody>\n",
       "    <tr>\n",
       "      <th>0</th>\n",
       "      <td>KU_O5udG6zpxOg-VcAEodg</td>\n",
       "      <td>mh_-eMZ6K5RLWhZyISBhwA</td>\n",
       "      <td>XQfwVwDr-v0ZS3_CbbE5Xw</td>\n",
       "      <td>If you decide to eat here, just be aware it is...</td>\n",
       "      <td>2018-07-07 22:09:11</td>\n",
       "      <td>-0.577114</td>\n",
       "      <td>-0.36596</td>\n",
       "      <td>-0.184315</td>\n",
       "      <td>-0.229438</td>\n",
       "      <td>1867</td>\n",
       "      <td>...</td>\n",
       "      <td>None</td>\n",
       "      <td>None</td>\n",
       "      <td>None</td>\n",
       "      <td>17:0-22:0</td>\n",
       "      <td>17:0-22:0</td>\n",
       "      <td>17:0-22:0</td>\n",
       "      <td>17:0-22:0</td>\n",
       "      <td>17:0-22:0</td>\n",
       "      <td>17:0-22:0</td>\n",
       "      <td>17:0-22:0</td>\n",
       "    </tr>\n",
       "    <tr>\n",
       "      <th>1</th>\n",
       "      <td>VJxlBnJmCDIy8DFG0kjSow</td>\n",
       "      <td>Iaee7y6zdSB3B-kRCo4z1w</td>\n",
       "      <td>XQfwVwDr-v0ZS3_CbbE5Xw</td>\n",
       "      <td>This is the second time we tried turning point...</td>\n",
       "      <td>2017-05-13 17:06:55</td>\n",
       "      <td>-1.294738</td>\n",
       "      <td>-0.36596</td>\n",
       "      <td>-0.184315</td>\n",
       "      <td>-0.229438</td>\n",
       "      <td>1867</td>\n",
       "      <td>...</td>\n",
       "      <td>None</td>\n",
       "      <td>None</td>\n",
       "      <td>None</td>\n",
       "      <td>17:0-22:0</td>\n",
       "      <td>17:0-22:0</td>\n",
       "      <td>17:0-22:0</td>\n",
       "      <td>17:0-22:0</td>\n",
       "      <td>17:0-22:0</td>\n",
       "      <td>17:0-22:0</td>\n",
       "      <td>17:0-22:0</td>\n",
       "    </tr>\n",
       "  </tbody>\n",
       "</table>\n",
       "<p>2 rows × 92 columns</p>\n",
       "</div>"
      ],
      "text/plain": [
       "                review_id                 user_id             business_id  \\\n",
       "0  KU_O5udG6zpxOg-VcAEodg  mh_-eMZ6K5RLWhZyISBhwA  XQfwVwDr-v0ZS3_CbbE5Xw   \n",
       "1  VJxlBnJmCDIy8DFG0kjSow  Iaee7y6zdSB3B-kRCo4z1w  XQfwVwDr-v0ZS3_CbbE5Xw   \n",
       "\n",
       "                                                text                date  \\\n",
       "0  If you decide to eat here, just be aware it is... 2018-07-07 22:09:11   \n",
       "1  This is the second time we tried turning point... 2017-05-13 17:06:55   \n",
       "\n",
       "    stars_x   useful     funny      cool  original_index  ... music_live  \\\n",
       "0 -0.577114 -0.36596 -0.184315 -0.229438            1867  ...       None   \n",
       "1 -1.294738 -0.36596 -0.184315 -0.229438            1867  ...       None   \n",
       "\n",
       "  music_video music_karaoke hours_Monday hours_Tuesday  hours_Wednesday  \\\n",
       "0        None          None    17:0-22:0     17:0-22:0        17:0-22:0   \n",
       "1        None          None    17:0-22:0     17:0-22:0        17:0-22:0   \n",
       "\n",
       "   hours_Thursday  hours_Friday  hours_Saturday  hours_Sunday  \n",
       "0       17:0-22:0     17:0-22:0       17:0-22:0     17:0-22:0  \n",
       "1       17:0-22:0     17:0-22:0       17:0-22:0     17:0-22:0  \n",
       "\n",
       "[2 rows x 92 columns]"
      ]
     },
     "execution_count": 10,
     "metadata": {},
     "output_type": "execute_result"
    }
   ],
   "source": [
    "merge = pd.merge(df, business, on='business_id', how='outer')\n",
    "merge.head(2)"
   ]
  },
  {
   "cell_type": "markdown",
   "id": "b633f9dc",
   "metadata": {},
   "source": [
    "#### Keep original columns from review dataset and `State`, `Name`, `City` from Business Data"
   ]
  },
  {
   "cell_type": "code",
   "execution_count": 11,
   "id": "c04e0d0e",
   "metadata": {},
   "outputs": [
    {
     "data": {
      "text/plain": [
       "Index(['review_id', 'user_id', 'business_id', 'text', 'date', 'stars',\n",
       "       'useful', 'funny', 'cool'],\n",
       "      dtype='object')"
      ]
     },
     "execution_count": 11,
     "metadata": {},
     "output_type": "execute_result"
    }
   ],
   "source": [
    "# list the original columns in the review dataset\n",
    "df.columns"
   ]
  },
  {
   "cell_type": "code",
   "execution_count": 12,
   "id": "1a3b3198",
   "metadata": {},
   "outputs": [
    {
     "name": "stdout",
     "output_type": "stream",
     "text": [
      "There are 5257329 review records with 12 total features.\n"
     ]
    }
   ],
   "source": [
    "merge = merge[['review_id', 'user_id', 'business_id', 'text', 'date', 'stars_x',\n",
    "       'useful', 'funny', 'cool','state','city','name']].rename(columns={'stars_x':'stars'})\n",
    "print(f\"There are {merge.shape[0]} review records with {merge.shape[1]} total features.\")"
   ]
  },
  {
   "cell_type": "code",
   "execution_count": 13,
   "id": "e5e468a8",
   "metadata": {},
   "outputs": [
    {
     "data": {
      "text/html": [
       "<div>\n",
       "<style scoped>\n",
       "    .dataframe tbody tr th:only-of-type {\n",
       "        vertical-align: middle;\n",
       "    }\n",
       "\n",
       "    .dataframe tbody tr th {\n",
       "        vertical-align: top;\n",
       "    }\n",
       "\n",
       "    .dataframe thead th {\n",
       "        text-align: right;\n",
       "    }\n",
       "</style>\n",
       "<table border=\"1\" class=\"dataframe\">\n",
       "  <thead>\n",
       "    <tr style=\"text-align: right;\">\n",
       "      <th></th>\n",
       "      <th>review_id</th>\n",
       "      <th>user_id</th>\n",
       "      <th>business_id</th>\n",
       "      <th>text</th>\n",
       "      <th>date</th>\n",
       "      <th>stars</th>\n",
       "      <th>useful</th>\n",
       "      <th>funny</th>\n",
       "      <th>cool</th>\n",
       "      <th>state</th>\n",
       "      <th>city</th>\n",
       "      <th>name</th>\n",
       "    </tr>\n",
       "  </thead>\n",
       "  <tbody>\n",
       "    <tr>\n",
       "      <th>0</th>\n",
       "      <td>KU_O5udG6zpxOg-VcAEodg</td>\n",
       "      <td>mh_-eMZ6K5RLWhZyISBhwA</td>\n",
       "      <td>XQfwVwDr-v0ZS3_CbbE5Xw</td>\n",
       "      <td>If you decide to eat here, just be aware it is...</td>\n",
       "      <td>2018-07-07 22:09:11</td>\n",
       "      <td>-0.577114</td>\n",
       "      <td>-0.365960</td>\n",
       "      <td>-0.184315</td>\n",
       "      <td>-0.229438</td>\n",
       "      <td>PA</td>\n",
       "      <td>North Wales</td>\n",
       "      <td>Turning Point of North Wales</td>\n",
       "    </tr>\n",
       "    <tr>\n",
       "      <th>1</th>\n",
       "      <td>VJxlBnJmCDIy8DFG0kjSow</td>\n",
       "      <td>Iaee7y6zdSB3B-kRCo4z1w</td>\n",
       "      <td>XQfwVwDr-v0ZS3_CbbE5Xw</td>\n",
       "      <td>This is the second time we tried turning point...</td>\n",
       "      <td>2017-05-13 17:06:55</td>\n",
       "      <td>-1.294738</td>\n",
       "      <td>-0.365960</td>\n",
       "      <td>-0.184315</td>\n",
       "      <td>-0.229438</td>\n",
       "      <td>PA</td>\n",
       "      <td>North Wales</td>\n",
       "      <td>Turning Point of North Wales</td>\n",
       "    </tr>\n",
       "    <tr>\n",
       "      <th>2</th>\n",
       "      <td>S6pQZQocMB1WHMjTRbt77A</td>\n",
       "      <td>ejFxLGqQcWNLdNByJlIhnQ</td>\n",
       "      <td>XQfwVwDr-v0ZS3_CbbE5Xw</td>\n",
       "      <td>The place is cute and the staff was very frien...</td>\n",
       "      <td>2017-08-08 00:58:18</td>\n",
       "      <td>0.140510</td>\n",
       "      <td>0.350319</td>\n",
       "      <td>-0.184315</td>\n",
       "      <td>0.224182</td>\n",
       "      <td>PA</td>\n",
       "      <td>North Wales</td>\n",
       "      <td>Turning Point of North Wales</td>\n",
       "    </tr>\n",
       "  </tbody>\n",
       "</table>\n",
       "</div>"
      ],
      "text/plain": [
       "                review_id                 user_id             business_id  \\\n",
       "0  KU_O5udG6zpxOg-VcAEodg  mh_-eMZ6K5RLWhZyISBhwA  XQfwVwDr-v0ZS3_CbbE5Xw   \n",
       "1  VJxlBnJmCDIy8DFG0kjSow  Iaee7y6zdSB3B-kRCo4z1w  XQfwVwDr-v0ZS3_CbbE5Xw   \n",
       "2  S6pQZQocMB1WHMjTRbt77A  ejFxLGqQcWNLdNByJlIhnQ  XQfwVwDr-v0ZS3_CbbE5Xw   \n",
       "\n",
       "                                                text                date  \\\n",
       "0  If you decide to eat here, just be aware it is... 2018-07-07 22:09:11   \n",
       "1  This is the second time we tried turning point... 2017-05-13 17:06:55   \n",
       "2  The place is cute and the staff was very frien... 2017-08-08 00:58:18   \n",
       "\n",
       "      stars    useful     funny      cool state         city  \\\n",
       "0 -0.577114 -0.365960 -0.184315 -0.229438    PA  North Wales   \n",
       "1 -1.294738 -0.365960 -0.184315 -0.229438    PA  North Wales   \n",
       "2  0.140510  0.350319 -0.184315  0.224182    PA  North Wales   \n",
       "\n",
       "                           name  \n",
       "0  Turning Point of North Wales  \n",
       "1  Turning Point of North Wales  \n",
       "2  Turning Point of North Wales  "
      ]
     },
     "execution_count": 13,
     "metadata": {},
     "output_type": "execute_result"
    }
   ],
   "source": [
    "merge.head(3)"
   ]
  },
  {
   "cell_type": "markdown",
   "id": "ad909dbb",
   "metadata": {},
   "source": [
    "#### Count each `state`: numbers of reviews"
   ]
  },
  {
   "cell_type": "code",
   "execution_count": 14,
   "id": "ed06b949",
   "metadata": {},
   "outputs": [
    {
     "data": {
      "text/plain": [
       "state\n",
       "PA    1214380\n",
       "FL     873392\n",
       "LA     622762\n",
       "TN     480381\n",
       "MO     392605\n",
       "IN     378521\n",
       "AZ     296986\n",
       "NV     276845\n",
       "CA     245014\n",
       "NJ     191125\n",
       "ID     112915\n",
       "AB      79000\n",
       "DE      53198\n",
       "IL      40205\n",
       "Name: business_id, dtype: int64"
      ]
     },
     "execution_count": 14,
     "metadata": {},
     "output_type": "execute_result"
    }
   ],
   "source": [
    "state_count_by_business = merge.groupby('state')['business_id'].count().sort_values(ascending=False)\n",
    "state_count_by_business"
   ]
  },
  {
   "cell_type": "code",
   "execution_count": 15,
   "id": "714aebd3",
   "metadata": {},
   "outputs": [
    {
     "data": {
      "image/png": "[encoded data removed]",
      "text/plain": [
       "<Figure size 1000x800 with 1 Axes>"
      ]
     },
     "metadata": {},
     "output_type": "display_data"
    }
   ],
   "source": [
    "# Pie plot to see the portion as well\n",
    "plt.figure(figsize=(10,8))\n",
    "colors = sns.color_palette('bright')[0:14]\n",
    "plt.pie(state_count_by_business.array, labels=state_count_by_business.index, colors = colors, autopct='%.0f%%')\n",
    "plt.title(\"Reviews Distribution by State\")\n",
    "plt.show()"
   ]
  },
  {
   "cell_type": "markdown",
   "id": "402d9981",
   "metadata": {},
   "source": [
    "* We can see that Pennsylavnia has the largest amount of reviews from the user on business whereas Illinois has the smallest amount of reviews among the states we have in the dataset."
   ]
  },
  {
   "cell_type": "code",
   "execution_count": 16,
   "id": "31efef15",
   "metadata": {},
   "outputs": [],
   "source": [
    "merge.reset_index(drop=True).to_csv('../data/yelp_review_merged.csv')"
   ]
  },
  {
   "cell_type": "markdown",
   "id": "f5d0656a",
   "metadata": {},
   "source": [
    "### Check the number of reviews by `user_id`"
   ]
  },
  {
   "cell_type": "code",
   "execution_count": 17,
   "id": "6395dc1c",
   "metadata": {},
   "outputs": [
    {
     "data": {
      "text/plain": [
       "user_id\n",
       "_BcWyKQL16ndpBdggh2kNA    2146\n",
       "-G7Zkl1wIWBBmD0KRy_sCw    1462\n",
       "1HM81n6n4iPIFU5d2Lokhw    1325\n",
       "ET8n-r7glWYqZhuR6GcdNw    1321\n",
       "Xw7ZjaGfr0WNVt6s_5KZfA    1283\n",
       "                          ... \n",
       "Yma0KF3Sz8fLGt4BMgp4qw       1\n",
       "Ym_zry1BWV9mC_rQ82R18Q       1\n",
       "Ym_yzdsmf_4pMYW_PpqXOw       1\n",
       "Ym_g2M-o8Oet9FxBW5sV8w       1\n",
       "zzzUFM4HFe0SFG0bPjntQA       1\n",
       "Name: business_id, Length: 1532233, dtype: int64"
      ]
     },
     "execution_count": 17,
     "metadata": {},
     "output_type": "execute_result"
    }
   ],
   "source": [
    "user_count = merge.groupby(by=[\"user_id\"])['business_id'].count().sort_values(ascending=False)\n",
    "user_count"
   ]
  },
  {
   "cell_type": "code",
   "execution_count": 18,
   "id": "e864ad6b",
   "metadata": {},
   "outputs": [
    {
     "name": "stdout",
     "output_type": "stream",
     "text": [
      "1532233 users have written the 5257329 reviews on business in the dataset.\n"
     ]
    }
   ],
   "source": [
    "# checking unique users\n",
    "print(f\"{len(user_count)} users have written the {merge.shape[0]} reviews on business in the dataset.\")"
   ]
  },
  {
   "cell_type": "code",
   "execution_count": 19,
   "id": "37fea19d",
   "metadata": {},
   "outputs": [
    {
     "name": "stdout",
     "output_type": "stream",
     "text": [
      "There are 76869 users who have written more than 10 reviews on businesses.\n"
     ]
    }
   ],
   "source": [
    "# checking unique users with more than 10 reviews written\n",
    "user_count = user_count.to_frame()\n",
    "users_aboveten = user_count[user_count['business_id'] > 10]['business_id']\n",
    "print(f\"There are {users_aboveten.shape[0]} users who have written more than 10 reviews on businesses.\")"
   ]
  },
  {
   "cell_type": "code",
   "execution_count": 20,
   "id": "85768e13",
   "metadata": {},
   "outputs": [
    {
     "data": {
      "text/plain": [
       "user_id\n",
       "_BcWyKQL16ndpBdggh2kNA    2146\n",
       "-G7Zkl1wIWBBmD0KRy_sCw    1462\n",
       "1HM81n6n4iPIFU5d2Lokhw    1325\n",
       "ET8n-r7glWYqZhuR6GcdNw    1321\n",
       "Xw7ZjaGfr0WNVt6s_5KZfA    1283\n",
       "                          ... \n",
       "X3Cxf9v0gDuQAC1fL8pm-g      11\n",
       "InZF69K1u6jY1jh8OHBbGg      11\n",
       "X3Cqj9LnFZ44IV12sh6WyA      11\n",
       "WEnfD0P8fBjMvZ0Pzh22SA      11\n",
       "Ajl-q1qJhk6BYXiihW7p8g      11\n",
       "Name: business_id, Length: 76869, dtype: int64"
      ]
     },
     "execution_count": 20,
     "metadata": {},
     "output_type": "execute_result"
    }
   ],
   "source": [
    "# Checking top five reviewers\n",
    "users_aboveten"
   ]
  },
  {
   "cell_type": "code",
   "execution_count": 21,
   "id": "ad745d61",
   "metadata": {},
   "outputs": [
    {
     "data": {
      "image/png": "[encoded data removed]",
      "text/plain": [
       "<Figure size 640x480 with 1 Axes>"
      ]
     },
     "metadata": {},
     "output_type": "display_data"
    }
   ],
   "source": [
    "# Plot the counts of reviews by users\n",
    "plt.bar(np.arange(users_aboveten.shape[0]), users_aboveten);\n",
    "plt.title('Review Count by Users')\n",
    "plt.ylabel('Number of Reviews')\n",
    "plt.show()"
   ]
  },
  {
   "cell_type": "markdown",
   "id": "26fadf92",
   "metadata": {},
   "source": [
    "* Did not use pie chart becuase there are too many unique users.\n",
    "* There is an imbalance of the number of reviews writeen by the users.\n",
    "* Same logic applies to the number of reviews received by the business.\n",
    "* We will not mitigate this imbalance since the number of reviews acts as an indicator for user's activeness, under-sampling some of the users will likely hurt the performance of our model."
   ]
  },
  {
   "cell_type": "markdown",
   "id": "0b8c916a",
   "metadata": {},
   "source": [
    "## Sentiment Analysis"
   ]
  },
  {
   "cell_type": "code",
   "execution_count": 22,
   "id": "c6bdddd0",
   "metadata": {},
   "outputs": [
    {
     "data": {
      "text/html": [
       "<div>\n",
       "<style scoped>\n",
       "    .dataframe tbody tr th:only-of-type {\n",
       "        vertical-align: middle;\n",
       "    }\n",
       "\n",
       "    .dataframe tbody tr th {\n",
       "        vertical-align: top;\n",
       "    }\n",
       "\n",
       "    .dataframe thead th {\n",
       "        text-align: right;\n",
       "    }\n",
       "</style>\n",
       "<table border=\"1\" class=\"dataframe\">\n",
       "  <thead>\n",
       "    <tr style=\"text-align: right;\">\n",
       "      <th></th>\n",
       "      <th>review_id</th>\n",
       "      <th>user_id</th>\n",
       "      <th>business_id</th>\n",
       "      <th>text</th>\n",
       "      <th>date</th>\n",
       "    </tr>\n",
       "  </thead>\n",
       "  <tbody>\n",
       "    <tr>\n",
       "      <th>0</th>\n",
       "      <td>KU_O5udG6zpxOg-VcAEodg</td>\n",
       "      <td>mh_-eMZ6K5RLWhZyISBhwA</td>\n",
       "      <td>XQfwVwDr-v0ZS3_CbbE5Xw</td>\n",
       "      <td>If you decide to eat here, just be aware it is...</td>\n",
       "      <td>2018-07-07 22:09:11</td>\n",
       "    </tr>\n",
       "    <tr>\n",
       "      <th>1</th>\n",
       "      <td>VJxlBnJmCDIy8DFG0kjSow</td>\n",
       "      <td>Iaee7y6zdSB3B-kRCo4z1w</td>\n",
       "      <td>XQfwVwDr-v0ZS3_CbbE5Xw</td>\n",
       "      <td>This is the second time we tried turning point...</td>\n",
       "      <td>2017-05-13 17:06:55</td>\n",
       "    </tr>\n",
       "    <tr>\n",
       "      <th>2</th>\n",
       "      <td>S6pQZQocMB1WHMjTRbt77A</td>\n",
       "      <td>ejFxLGqQcWNLdNByJlIhnQ</td>\n",
       "      <td>XQfwVwDr-v0ZS3_CbbE5Xw</td>\n",
       "      <td>The place is cute and the staff was very frien...</td>\n",
       "      <td>2017-08-08 00:58:18</td>\n",
       "    </tr>\n",
       "    <tr>\n",
       "      <th>3</th>\n",
       "      <td>WqgTKVqWVHDHjnjEsBvUgg</td>\n",
       "      <td>f7xa0p_1V9lx53iIGN5Sug</td>\n",
       "      <td>XQfwVwDr-v0ZS3_CbbE5Xw</td>\n",
       "      <td>We came on a Saturday morning after waiting a ...</td>\n",
       "      <td>2017-11-19 02:20:23</td>\n",
       "    </tr>\n",
       "    <tr>\n",
       "      <th>4</th>\n",
       "      <td>M0wzFFb7pefOPcxeRVbLag</td>\n",
       "      <td>dCooFVCk8M1nVaQqcfTL3Q</td>\n",
       "      <td>XQfwVwDr-v0ZS3_CbbE5Xw</td>\n",
       "      <td>Mediocre at best. The decor is very nice, and ...</td>\n",
       "      <td>2017-09-09 17:49:47</td>\n",
       "    </tr>\n",
       "  </tbody>\n",
       "</table>\n",
       "</div>"
      ],
      "text/plain": [
       "                review_id                 user_id             business_id  \\\n",
       "0  KU_O5udG6zpxOg-VcAEodg  mh_-eMZ6K5RLWhZyISBhwA  XQfwVwDr-v0ZS3_CbbE5Xw   \n",
       "1  VJxlBnJmCDIy8DFG0kjSow  Iaee7y6zdSB3B-kRCo4z1w  XQfwVwDr-v0ZS3_CbbE5Xw   \n",
       "2  S6pQZQocMB1WHMjTRbt77A  ejFxLGqQcWNLdNByJlIhnQ  XQfwVwDr-v0ZS3_CbbE5Xw   \n",
       "3  WqgTKVqWVHDHjnjEsBvUgg  f7xa0p_1V9lx53iIGN5Sug  XQfwVwDr-v0ZS3_CbbE5Xw   \n",
       "4  M0wzFFb7pefOPcxeRVbLag  dCooFVCk8M1nVaQqcfTL3Q  XQfwVwDr-v0ZS3_CbbE5Xw   \n",
       "\n",
       "                                                text                date  \n",
       "0  If you decide to eat here, just be aware it is... 2018-07-07 22:09:11  \n",
       "1  This is the second time we tried turning point... 2017-05-13 17:06:55  \n",
       "2  The place is cute and the staff was very frien... 2017-08-08 00:58:18  \n",
       "3  We came on a Saturday morning after waiting a ... 2017-11-19 02:20:23  \n",
       "4  Mediocre at best. The decor is very nice, and ... 2017-09-09 17:49:47  "
      ]
     },
     "execution_count": 22,
     "metadata": {},
     "output_type": "execute_result"
    }
   ],
   "source": [
    "# create a new dataframe without numeric variables\n",
    "sent = merge.loc[:, ['review_id', 'user_id', 'business_id', 'text', 'date']].copy()\n",
    "sent.dropna(inplace = True)\n",
    "sent.head()"
   ]
  },
  {
   "cell_type": "code",
   "execution_count": 23,
   "id": "4e6ab25d",
   "metadata": {},
   "outputs": [
    {
     "data": {
      "text/html": [
       "<div>\n",
       "<style scoped>\n",
       "    .dataframe tbody tr th:only-of-type {\n",
       "        vertical-align: middle;\n",
       "    }\n",
       "\n",
       "    .dataframe tbody tr th {\n",
       "        vertical-align: top;\n",
       "    }\n",
       "\n",
       "    .dataframe thead th {\n",
       "        text-align: right;\n",
       "    }\n",
       "</style>\n",
       "<table border=\"1\" class=\"dataframe\">\n",
       "  <thead>\n",
       "    <tr style=\"text-align: right;\">\n",
       "      <th></th>\n",
       "      <th>review_id</th>\n",
       "      <th>user_id</th>\n",
       "      <th>business_id</th>\n",
       "      <th>text</th>\n",
       "      <th>date</th>\n",
       "      <th>rating</th>\n",
       "    </tr>\n",
       "  </thead>\n",
       "  <tbody>\n",
       "    <tr>\n",
       "      <th>0</th>\n",
       "      <td>KU_O5udG6zpxOg-VcAEodg</td>\n",
       "      <td>mh_-eMZ6K5RLWhZyISBhwA</td>\n",
       "      <td>XQfwVwDr-v0ZS3_CbbE5Xw</td>\n",
       "      <td>If you decide to eat here, just be aware it is...</td>\n",
       "      <td>2018-07-07 22:09:11</td>\n",
       "      <td>{'neg': 0.0, 'neu': 0.888, 'pos': 0.112, 'comp...</td>\n",
       "    </tr>\n",
       "    <tr>\n",
       "      <th>1</th>\n",
       "      <td>VJxlBnJmCDIy8DFG0kjSow</td>\n",
       "      <td>Iaee7y6zdSB3B-kRCo4z1w</td>\n",
       "      <td>XQfwVwDr-v0ZS3_CbbE5Xw</td>\n",
       "      <td>This is the second time we tried turning point...</td>\n",
       "      <td>2017-05-13 17:06:55</td>\n",
       "      <td>{'neg': 0.052, 'neu': 0.92, 'pos': 0.028, 'com...</td>\n",
       "    </tr>\n",
       "    <tr>\n",
       "      <th>2</th>\n",
       "      <td>S6pQZQocMB1WHMjTRbt77A</td>\n",
       "      <td>ejFxLGqQcWNLdNByJlIhnQ</td>\n",
       "      <td>XQfwVwDr-v0ZS3_CbbE5Xw</td>\n",
       "      <td>The place is cute and the staff was very frien...</td>\n",
       "      <td>2017-08-08 00:58:18</td>\n",
       "      <td>{'neg': 0.0, 'neu': 0.633, 'pos': 0.367, 'comp...</td>\n",
       "    </tr>\n",
       "    <tr>\n",
       "      <th>3</th>\n",
       "      <td>WqgTKVqWVHDHjnjEsBvUgg</td>\n",
       "      <td>f7xa0p_1V9lx53iIGN5Sug</td>\n",
       "      <td>XQfwVwDr-v0ZS3_CbbE5Xw</td>\n",
       "      <td>We came on a Saturday morning after waiting a ...</td>\n",
       "      <td>2017-11-19 02:20:23</td>\n",
       "      <td>{'neg': 0.014, 'neu': 0.907, 'pos': 0.079, 'co...</td>\n",
       "    </tr>\n",
       "    <tr>\n",
       "      <th>4</th>\n",
       "      <td>M0wzFFb7pefOPcxeRVbLag</td>\n",
       "      <td>dCooFVCk8M1nVaQqcfTL3Q</td>\n",
       "      <td>XQfwVwDr-v0ZS3_CbbE5Xw</td>\n",
       "      <td>Mediocre at best. The decor is very nice, and ...</td>\n",
       "      <td>2017-09-09 17:49:47</td>\n",
       "      <td>{'neg': 0.087, 'neu': 0.805, 'pos': 0.107, 'co...</td>\n",
       "    </tr>\n",
       "  </tbody>\n",
       "</table>\n",
       "</div>"
      ],
      "text/plain": [
       "                review_id                 user_id             business_id  \\\n",
       "0  KU_O5udG6zpxOg-VcAEodg  mh_-eMZ6K5RLWhZyISBhwA  XQfwVwDr-v0ZS3_CbbE5Xw   \n",
       "1  VJxlBnJmCDIy8DFG0kjSow  Iaee7y6zdSB3B-kRCo4z1w  XQfwVwDr-v0ZS3_CbbE5Xw   \n",
       "2  S6pQZQocMB1WHMjTRbt77A  ejFxLGqQcWNLdNByJlIhnQ  XQfwVwDr-v0ZS3_CbbE5Xw   \n",
       "3  WqgTKVqWVHDHjnjEsBvUgg  f7xa0p_1V9lx53iIGN5Sug  XQfwVwDr-v0ZS3_CbbE5Xw   \n",
       "4  M0wzFFb7pefOPcxeRVbLag  dCooFVCk8M1nVaQqcfTL3Q  XQfwVwDr-v0ZS3_CbbE5Xw   \n",
       "\n",
       "                                                text                date  \\\n",
       "0  If you decide to eat here, just be aware it is... 2018-07-07 22:09:11   \n",
       "1  This is the second time we tried turning point... 2017-05-13 17:06:55   \n",
       "2  The place is cute and the staff was very frien... 2017-08-08 00:58:18   \n",
       "3  We came on a Saturday morning after waiting a ... 2017-11-19 02:20:23   \n",
       "4  Mediocre at best. The decor is very nice, and ... 2017-09-09 17:49:47   \n",
       "\n",
       "                                              rating  \n",
       "0  {'neg': 0.0, 'neu': 0.888, 'pos': 0.112, 'comp...  \n",
       "1  {'neg': 0.052, 'neu': 0.92, 'pos': 0.028, 'com...  \n",
       "2  {'neg': 0.0, 'neu': 0.633, 'pos': 0.367, 'comp...  \n",
       "3  {'neg': 0.014, 'neu': 0.907, 'pos': 0.079, 'co...  \n",
       "4  {'neg': 0.087, 'neu': 0.805, 'pos': 0.107, 'co...  "
      ]
     },
     "execution_count": 23,
     "metadata": {},
     "output_type": "execute_result"
    }
   ],
   "source": [
    "analyzer = SIA()\n",
    "# using sentiment analysis and get negative, neutral, poisitve scores on columns \"rating\"\n",
    "sent['rating'] = sent['text'].apply(analyzer.polarity_scores)\n",
    "sent.head()"
   ]
  },
  {
   "cell_type": "code",
   "execution_count": 25,
   "id": "746c283a",
   "metadata": {},
   "outputs": [],
   "source": [
    "# saved the dataframe to prevent kernel crash\n",
    "sent.to_csv('../data/sentiment.csv')"
   ]
  },
  {
   "cell_type": "code",
   "execution_count": null,
   "id": "aab5f678",
   "metadata": {},
   "outputs": [],
   "source": []
  }
 ],
 "metadata": {
  "kernelspec": {
   "display_name": "Python 3 (ipykernel)",
   "language": "python",
   "name": "python3"
  },
  "language_info": {
   "codemirror_mode": {
    "name": "ipython",
    "version": 3
   },
   "file_extension": ".py",
   "mimetype": "text/x-python",
   "name": "python",
   "nbconvert_exporter": "python",
   "pygments_lexer": "ipython3",
   "version": "3.8.5"
  }
 },
 "nbformat": 4,
 "nbformat_minor": 5
}
