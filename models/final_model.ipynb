{
 "cells": [
  {
   "cell_type": "markdown",
   "id": "b3f19562-a407-4de9-88f0-b4ac46374197",
   "metadata": {},
   "source": [
    "# Advanced Model"
   ]
  },
  {
   "cell_type": "code",
   "execution_count": 53,
   "id": "bc7ea1d3-43df-4745-99fb-f6eec0410d69",
   "metadata": {},
   "outputs": [],
   "source": [
    "import pandas as pd\n",
    "import numpy as np\n",
    "from sklearn.model_selection import train_test_split\n",
    "from sklearn.preprocessing import LabelEncoder, MinMaxScaler\n",
    "from sklearn.decomposition import PCA\n",
    "from sklearn.cluster import DBSCAN\n",
    "from sklearn.metrics import silhouette_score\n",
    "from keras.models import Model\n",
    "from keras.layers import Input, Embedding, Flatten, Dot, Dense, Concatenate\n",
    "from keras.optimizers import Adam\n",
    "# pip install textblob\n",
    "from textblob import TextBlob\n",
    "from datetime import datetime\n",
    "\n",
    "np.random.seed(209)\n",
    "t0 = datetime.now()"
   ]
  },
  {
   "cell_type": "markdown",
   "id": "f9d939c2-ec4d-4685-8f86-2d0fcf964aaf",
   "metadata": {},
   "source": [
    "## Intro"
   ]
  },
  {
   "cell_type": "markdown",
   "id": "739ea597-879c-4e07-9488-62692d3afdca",
   "metadata": {},
   "source": [
    "Previously we built a base model, which essentially used a 2D user-item interaction matrix under the hood; it worked by simply calculating cosine similarity scores. Now we want to make the model more robust; we will accomplish this by perfoming the following:\n",
    "\n",
    "- Extend the 2D user-item matrix into a tensor by adding in features from both the users' side and items' side\n",
    "- Use a neural network\n",
    "\n",
    "This is known as the neural collaborative filtering (NCF) approach."
   ]
  },
  {
   "cell_type": "markdown",
   "id": "af8c8a49-21d8-45ab-bc6a-3ca12ebf7c98",
   "metadata": {},
   "source": [
    "## Prep Data"
   ]
  },
  {
   "cell_type": "markdown",
   "id": "af620d51-13d2-4eb1-a66f-a2f3f5bbde87",
   "metadata": {},
   "source": [
    "We will now load in datasets from all necessary sources: users, restaurants, and reviews:"
   ]
  },
  {
   "cell_type": "code",
   "execution_count": 2,
   "id": "81f0741d-ebcc-4148-8cc3-e836d5af403e",
   "metadata": {},
   "outputs": [
    {
     "name": "stdout",
     "output_type": "stream",
     "text": [
      "CPU times: user 5.27 s, sys: 5.48 s, total: 10.7 s\n",
      "Wall time: 20.6 s\n"
     ]
    }
   ],
   "source": [
    "%%time\n",
    "user_df = pd.read_feather('../data/yelp_user_cleaned.feather')  # 100 MB\n",
    "business_df = pd.read_feather('../data/yelp_business_cleaned.feather')  # 40 MB\n",
    "review_df = pd.read_feather('../data/yelp_review_cleaned.feather')  # 2.3 GB"
   ]
  },
  {
   "cell_type": "markdown",
   "id": "089c9378-745a-4d64-be39-c13e5199c2e9",
   "metadata": {},
   "source": [
    "Sanity check:"
   ]
  },
  {
   "cell_type": "code",
   "execution_count": 3,
   "id": "da007292-4da6-4065-a564-27a5b81da058",
   "metadata": {},
   "outputs": [
    {
     "data": {
      "text/plain": [
       "((1532223,), (1532233,))"
      ]
     },
     "execution_count": 3,
     "metadata": {},
     "output_type": "execute_result"
    }
   ],
   "source": [
    "user_df.user_id.unique().shape, review_df.user_id.unique().shape"
   ]
  },
  {
   "cell_type": "code",
   "execution_count": 4,
   "id": "7cf674a8-c1a9-4249-adbc-1e774f032762",
   "metadata": {},
   "outputs": [
    {
     "data": {
      "text/plain": [
       "((68054,), (68054,))"
      ]
     },
     "execution_count": 4,
     "metadata": {},
     "output_type": "execute_result"
    }
   ],
   "source": [
    "business_df.business_id.unique().shape, review_df.business_id.unique().shape"
   ]
  },
  {
   "cell_type": "markdown",
   "id": "24e6c01e-7192-4693-9fd2-95f32705ca44",
   "metadata": {},
   "source": [
    "Take a sample out of concern for hardware:"
   ]
  },
  {
   "cell_type": "code",
   "execution_count": 5,
   "id": "097c1c11-4f49-46e6-b979-8c7ac7391957",
   "metadata": {},
   "outputs": [],
   "source": [
    "review_df = review_df.sample(100_000, random_state=42)"
   ]
  },
  {
   "cell_type": "markdown",
   "id": "00c075ec-c363-408d-be77-ff6cf4c6da6f",
   "metadata": {},
   "source": [
    "We will use the review dataset to build our user-item matrix."
   ]
  },
  {
   "cell_type": "markdown",
   "id": "b78d8d1d-0481-42fb-a067-28547092498b",
   "metadata": {},
   "source": [
    "Note that previously we only kept these columns for building user-item matrix: `['user_id', 'business_id', 'stars']`, but now we'd like to include more features from review data: `['useful', 'funny', 'cool']`. Notice that there is also a `text` column; we could apply sentiment analysis to extract sentiment categories, and use those for a new feature; but we will not do it at this section; this could be a future extension. But we will save it nonetheless, soon."
   ]
  },
  {
   "cell_type": "code",
   "execution_count": 6,
   "id": "ba0489f7-3bdb-4fcf-8314-00315ce2caec",
   "metadata": {},
   "outputs": [
    {
     "data": {
      "text/html": [
       "<div>\n",
       "<style scoped>\n",
       "    .dataframe tbody tr th:only-of-type {\n",
       "        vertical-align: middle;\n",
       "    }\n",
       "\n",
       "    .dataframe tbody tr th {\n",
       "        vertical-align: top;\n",
       "    }\n",
       "\n",
       "    .dataframe thead th {\n",
       "        text-align: right;\n",
       "    }\n",
       "</style>\n",
       "<table border=\"1\" class=\"dataframe\">\n",
       "  <thead>\n",
       "    <tr style=\"text-align: right;\">\n",
       "      <th></th>\n",
       "      <th>user_id</th>\n",
       "      <th>business_id</th>\n",
       "      <th>stars</th>\n",
       "      <th>useful</th>\n",
       "      <th>funny</th>\n",
       "      <th>cool</th>\n",
       "      <th>text</th>\n",
       "    </tr>\n",
       "  </thead>\n",
       "  <tbody>\n",
       "    <tr>\n",
       "      <th>1322294</th>\n",
       "      <td>0lpxU4Dfi8AeBt0SeCrEuw</td>\n",
       "      <td>tQKqrLs16Xi-lFrd3_CBAQ</td>\n",
       "      <td>1</td>\n",
       "      <td>2</td>\n",
       "      <td>0</td>\n",
       "      <td>0</td>\n",
       "      <td>My friends and I went there on a Friday night ...</td>\n",
       "    </tr>\n",
       "    <tr>\n",
       "      <th>4297632</th>\n",
       "      <td>5nw1Zc3fi_ehDJFd3mUEYA</td>\n",
       "      <td>nLxNJuvgoHQHn_IGYifRnw</td>\n",
       "      <td>1</td>\n",
       "      <td>1</td>\n",
       "      <td>0</td>\n",
       "      <td>0</td>\n",
       "      <td>Clean, friendly waitstaff.  The food, well, to...</td>\n",
       "    </tr>\n",
       "    <tr>\n",
       "      <th>2143059</th>\n",
       "      <td>7fDqaGdUMccXQ4bnPwR6yg</td>\n",
       "      <td>etaIhl-sduOKc6J_qHmmtA</td>\n",
       "      <td>3</td>\n",
       "      <td>2</td>\n",
       "      <td>0</td>\n",
       "      <td>2</td>\n",
       "      <td>Super swanky lunch spot in Clayton.  I love, l...</td>\n",
       "    </tr>\n",
       "  </tbody>\n",
       "</table>\n",
       "</div>"
      ],
      "text/plain": [
       "                        user_id             business_id  stars  useful  funny  \\\n",
       "1322294  0lpxU4Dfi8AeBt0SeCrEuw  tQKqrLs16Xi-lFrd3_CBAQ      1       2      0   \n",
       "4297632  5nw1Zc3fi_ehDJFd3mUEYA  nLxNJuvgoHQHn_IGYifRnw      1       1      0   \n",
       "2143059  7fDqaGdUMccXQ4bnPwR6yg  etaIhl-sduOKc6J_qHmmtA      3       2      0   \n",
       "\n",
       "         cool                                               text  \n",
       "1322294     0  My friends and I went there on a Friday night ...  \n",
       "4297632     0  Clean, friendly waitstaff.  The food, well, to...  \n",
       "2143059     2  Super swanky lunch spot in Clayton.  I love, l...  "
      ]
     },
     "execution_count": 6,
     "metadata": {},
     "output_type": "execute_result"
    }
   ],
   "source": [
    "review_df = review_df.loc[:, ['user_id', 'business_id', 'stars', 'useful', 'funny', 'cool', 'text']]\n",
    "review_df.head(3)"
   ]
  },
  {
   "cell_type": "markdown",
   "id": "143dff04-8e64-4568-9e72-7f430131edef",
   "metadata": {},
   "source": [
    "We also subset and rename columns for the other two data frames before merging all:"
   ]
  },
  {
   "cell_type": "code",
   "execution_count": 7,
   "id": "9053bbb4-e3e8-4c29-a2c2-d115e037d902",
   "metadata": {},
   "outputs": [],
   "source": [
    "user_df.drop(['name'], axis=1, inplace=True)"
   ]
  },
  {
   "cell_type": "code",
   "execution_count": 8,
   "id": "dd6a6b29-57e2-447f-bc7f-30fd45001823",
   "metadata": {},
   "outputs": [],
   "source": [
    "# why we rename it here and not use the suffixes for merging:\n",
    "# we will later need to know which features are related to users\n",
    "# keep a list of column names here is more convenient\n",
    "user_df.rename({'useful': 'useful_user',\n",
    "                'funny': 'funny_user',\n",
    "                'cool': 'cool_user',\n",
    "                'review_count': 'review_count_user'}, axis=1, inplace=True)"
   ]
  },
  {
   "cell_type": "code",
   "execution_count": 9,
   "id": "388555f6-ea1d-4b51-9c8d-510297d290a4",
   "metadata": {},
   "outputs": [],
   "source": [
    "# note: we've already expanded the dictionaries such as attributes in business_data_inspect.ipynb\n",
    "business_df.drop(['original_index', 'name', 'address', 'city', 'state',\n",
    "                  'postal_code', 'latitude', 'longitude',\n",
    "                  'attributes', 'categories', 'is_restaurant', 'GoodForMeal', 'BestNights'], axis=1, inplace=True)"
   ]
  },
  {
   "cell_type": "code",
   "execution_count": 10,
   "id": "c8afc83f-f2fe-44d0-a9cb-8ab9164462d6",
   "metadata": {},
   "outputs": [],
   "source": [
    "business_df.rename({'stars': 'stars_business',\n",
    "                    'review_count': 'review_count_business'}, axis=1, inplace=True)"
   ]
  },
  {
   "cell_type": "markdown",
   "id": "601ca403-85f2-42ec-aa38-ea20a958acb4",
   "metadata": {},
   "source": [
    "Business data has categorical features; need to one-hot encode them (but do not encode id's):"
   ]
  },
  {
   "cell_type": "code",
   "execution_count": 11,
   "id": "f14c15da-16cb-45a8-b5ac-ad751f1b0a4f",
   "metadata": {},
   "outputs": [],
   "source": [
    "dummies = pd.get_dummies(business_df.drop('business_id', axis=1), drop_first=True)"
   ]
  },
  {
   "cell_type": "code",
   "execution_count": 12,
   "id": "9102ba4d-aabd-49ae-9643-f112ec8efcc6",
   "metadata": {},
   "outputs": [],
   "source": [
    "business_df = pd.concat([business_df.loc[:, ['business_id']], dummies], axis=1)"
   ]
  },
  {
   "cell_type": "markdown",
   "id": "b709a26a-cfd7-40be-a6b6-5881f35c8d54",
   "metadata": {},
   "source": [
    "Next, we merge all three data frames together:"
   ]
  },
  {
   "cell_type": "code",
   "execution_count": 13,
   "id": "53cd4c3d-c4ae-42c2-902a-2b4900925b0e",
   "metadata": {},
   "outputs": [],
   "source": [
    "df = pd.merge(review_df, user_df, on='user_id')"
   ]
  },
  {
   "cell_type": "code",
   "execution_count": 14,
   "id": "ee047775-8c6b-486e-9fb9-376cc850761d",
   "metadata": {},
   "outputs": [],
   "source": [
    "df = pd.merge(df, business_df, on='business_id')"
   ]
  },
  {
   "cell_type": "markdown",
   "id": "1bb3fb5e-16c2-421c-a0e3-00f3699efd10",
   "metadata": {},
   "source": [
    "Remember to remove text:"
   ]
  },
  {
   "cell_type": "code",
   "execution_count": 15,
   "id": "ffe38332-8609-4699-8c02-31b9d3c3198e",
   "metadata": {},
   "outputs": [],
   "source": [
    "df.drop('text', axis=1, inplace=True)"
   ]
  },
  {
   "cell_type": "markdown",
   "id": "d9b12eac-1930-468f-a57b-0f2853533370",
   "metadata": {},
   "source": [
    "Take a sample out of concern for hardware:"
   ]
  },
  {
   "cell_type": "code",
   "execution_count": 16,
   "id": "ef5f7203-dc06-40a1-ba32-6cd4883e4725",
   "metadata": {},
   "outputs": [],
   "source": [
    "df = df.sample(10_000, random_state=42).reset_index(drop=True)"
   ]
  },
  {
   "cell_type": "code",
   "execution_count": 17,
   "id": "756e0826-94e6-4a3e-ab64-7aa78a9981ec",
   "metadata": {},
   "outputs": [
    {
     "data": {
      "text/plain": [
       "(10000, 7470)"
      ]
     },
     "execution_count": 17,
     "metadata": {},
     "output_type": "execute_result"
    }
   ],
   "source": [
    "df.shape"
   ]
  },
  {
   "cell_type": "markdown",
   "id": "c844cfbe-1a01-499f-86d8-573575afe06e",
   "metadata": {},
   "source": [
    "Filter out unneeded rows in `user_df`, `business_df`, and `review_df` to match `df`:"
   ]
  },
  {
   "cell_type": "code",
   "execution_count": 18,
   "id": "149d16bf-22b4-4d2b-b112-98dce1669302",
   "metadata": {},
   "outputs": [],
   "source": [
    "user_df = user_df.loc[user_df['user_id'].isin(df['user_id']), :].copy().reset_index(drop=True)\n",
    "business_df = business_df.loc[business_df['business_id'].isin(df['business_id']), :].copy().reset_index(drop=True)\n",
    "review_df = review_df.loc[(review_df['user_id'].isin(df['user_id'])) & \\\n",
    "                    (review_df['business_id'].isin(df['business_id'])), :].copy().reset_index(drop=True)"
   ]
  },
  {
   "cell_type": "markdown",
   "id": "317b6a94-92e3-4228-ba34-e7f5d0ce0f70",
   "metadata": {},
   "source": [
    "Remove `text` from `review_df` for now, but save it."
   ]
  },
  {
   "cell_type": "code",
   "execution_count": 19,
   "id": "2a3d3e31-e8be-4c61-b958-486c6f979ec0",
   "metadata": {},
   "outputs": [],
   "source": [
    "review_text = review_df['text'].copy()"
   ]
  },
  {
   "cell_type": "code",
   "execution_count": 20,
   "id": "0dd58e6a-67ab-4e3b-bdca-bec4fdee92ec",
   "metadata": {},
   "outputs": [],
   "source": [
    "review_df.drop('text', axis=1, inplace=True)"
   ]
  },
  {
   "cell_type": "markdown",
   "id": "44e1df14-5e27-47e4-8148-b440c8cd9707",
   "metadata": {},
   "source": [
    "Encode `user_id` and `business_id` to convert string into integers:"
   ]
  },
  {
   "cell_type": "code",
   "execution_count": 21,
   "id": "abc9b3d2-f752-4fef-adc1-cf2c12d6f21f",
   "metadata": {},
   "outputs": [],
   "source": [
    "user_id_encoder = LabelEncoder()\n",
    "business_id_encoder = LabelEncoder()\n",
    "\n",
    "user_df['user_id'] = user_id_encoder.fit_transform(user_df['user_id'])\n",
    "review_df['user_id'] = user_id_encoder.transform(review_df['user_id'])\n",
    "business_df['business_id'] = business_id_encoder.fit_transform(business_df['business_id'])\n",
    "review_df['business_id'] = business_id_encoder.transform(review_df['business_id'])\n",
    "\n",
    "df['user_id'] = user_id_encoder.transform(df['user_id'])\n",
    "df['business_id'] = business_id_encoder.transform(df['business_id'])"
   ]
  },
  {
   "cell_type": "markdown",
   "id": "fbe99ee4-3001-478b-8fc7-6431d471c938",
   "metadata": {},
   "source": [
    "## Modeling"
   ]
  },
  {
   "cell_type": "markdown",
   "id": "420b1563-3144-4f83-b80c-d643badfc45c",
   "metadata": {},
   "source": [
    "Train test split:"
   ]
  },
  {
   "cell_type": "code",
   "execution_count": 22,
   "id": "c36cedf5-b404-4ff7-a25f-a6947f01ecf5",
   "metadata": {},
   "outputs": [],
   "source": [
    "df_train, df_test = train_test_split(df, test_size=0.2, random_state=42)"
   ]
  },
  {
   "cell_type": "markdown",
   "id": "ac3a5993-2968-4913-91dd-71d49abe3c3e",
   "metadata": {},
   "source": [
    "Feature scaling:"
   ]
  },
  {
   "cell_type": "code",
   "execution_count": 23,
   "id": "51b4f665-7824-47c1-a512-60f724f9265d",
   "metadata": {},
   "outputs": [],
   "source": [
    "def feature_scaling(df_train, df_test):\n",
    "    # save stars (target, do not scale)\n",
    "    stars_train = df_train['stars'].copy()\n",
    "    stars_test = df_test['stars'].copy()\n",
    "\n",
    "    # scale features\n",
    "    scaler = MinMaxScaler()\n",
    "    df_train = scaler.fit_transform(df_train)\n",
    "    df_test = scaler.transform(df_test)\n",
    "\n",
    "    # convert back to data frames\n",
    "    df_train = pd.DataFrame(df_train, columns=df.columns)\n",
    "    df_test = pd.DataFrame(df_test, columns=df.columns)\n",
    "\n",
    "    # restore stars\n",
    "    df_train['stars'] = stars_train.values\n",
    "    df_test['stars'] = stars_test.values\n",
    "\n",
    "    return df_train, df_test"
   ]
  },
  {
   "cell_type": "code",
   "execution_count": 24,
   "id": "865a910e-4c51-435b-a9de-eeb5e705cc01",
   "metadata": {},
   "outputs": [],
   "source": [
    "df_train, df_test = feature_scaling(df_train, df_test)"
   ]
  },
  {
   "cell_type": "markdown",
   "id": "10d99646-1d03-4084-9c61-eec70be35059",
   "metadata": {},
   "source": [
    "Build model:"
   ]
  },
  {
   "cell_type": "code",
   "execution_count": 25,
   "id": "2bd55eb9-87e6-47ca-84c5-bae3443850ee",
   "metadata": {},
   "outputs": [],
   "source": [
    "def build_model(df=df, user_df=user_df, business_df=business_df):\n",
    "    # helper constants\n",
    "    num_users = df['user_id'].nunique()\n",
    "    num_businesses = df['business_id'].nunique()\n",
    "    \n",
    "    # Model architecture:\n",
    "    \n",
    "    # embeddings for id's\n",
    "    user_input = Input(shape=(1,), name='user_input')\n",
    "    user_embedding = Embedding(num_users, 16, name='user_embedding')(user_input)\n",
    "    user_flatten = Flatten(name='user_flatten')(user_embedding)\n",
    "\n",
    "    business_input = Input(shape=(1,), name='business_input')\n",
    "    business_embedding = Embedding(num_businesses, 16, name='business_embedding')(business_input)\n",
    "    business_flatten = Flatten(name='business_flatten')(business_embedding)\n",
    "\n",
    "    dot_product = Dot(axes=1, name='dot_product')([user_flatten, business_flatten])\n",
    "\n",
    "    # add in user and business features\n",
    "    user_features_input = Input(shape=(user_df.shape[1] - 1,), name='user_features_input')\n",
    "    business_features_input = Input(shape=(business_df.shape[1] - 1,), name='business_features_input')\n",
    "    concat_features = Concatenate(name='concat_features')([dot_product, user_features_input, business_features_input])\n",
    "\n",
    "    dense_layer = Dense(64, activation='relu', name='dense_layer')(concat_features)\n",
    "    output = Dense(1, activation='linear', name='output')(dense_layer)\n",
    "\n",
    "    model = Model(inputs=[user_input, business_input, user_features_input, business_features_input], outputs=output)\n",
    "    model.compile(optimizer=Adam(0.0001), loss='mean_squared_error')\n",
    "    \n",
    "    return model"
   ]
  },
  {
   "cell_type": "code",
   "execution_count": 26,
   "id": "1abce7ea-977d-4e5f-aeec-c68bacbe8b8b",
   "metadata": {},
   "outputs": [],
   "source": [
    "model = build_model()"
   ]
  },
  {
   "cell_type": "markdown",
   "id": "a9a5d4f3-bf8b-4667-b5d1-6b1b5ed34dd2",
   "metadata": {},
   "source": [
    "Train:"
   ]
  },
  {
   "cell_type": "code",
   "execution_count": 27,
   "id": "f9dc7d77-7b97-46d5-9f46-5aeda032ba23",
   "metadata": {},
   "outputs": [],
   "source": [
    "def train_model(model, df_train=df_train, user_df=user_df, business_df=business_df):\n",
    "    train_inputs = [\n",
    "        df_train['user_id'].values,\n",
    "        df_train['business_id'].values,\n",
    "        df_train[user_df.columns[1:]].values,\n",
    "        df_train[business_df.columns[1:]].values\n",
    "    ]\n",
    "\n",
    "    model.fit(train_inputs, df_train['stars'].values, epochs=15, validation_split=0.1)"
   ]
  },
  {
   "cell_type": "code",
   "execution_count": 28,
   "id": "eea8189d-546d-4654-874c-ae3c3be17a23",
   "metadata": {},
   "outputs": [
    {
     "name": "stdout",
     "output_type": "stream",
     "text": [
      "Epoch 1/15\n"
     ]
    },
    {
     "name": "stderr",
     "output_type": "stream",
     "text": [
      "2023-05-07 02:42:34.012802: W tensorflow/tsl/platform/profile_utils/cpu_utils.cc:128] Failed to get CPU frequency: 0 Hz\n"
     ]
    },
    {
     "name": "stdout",
     "output_type": "stream",
     "text": [
      "225/225 [==============================] - 1s 3ms/step - loss: 6.9872 - val_loss: 2.2190\n",
      "Epoch 2/15\n",
      "225/225 [==============================] - 1s 2ms/step - loss: 1.9814 - val_loss: 2.0129\n",
      "Epoch 3/15\n",
      "225/225 [==============================] - 1s 3ms/step - loss: 1.8929 - val_loss: 1.9614\n",
      "Epoch 4/15\n",
      "225/225 [==============================] - 1s 2ms/step - loss: 1.8408 - val_loss: 1.9188\n",
      "Epoch 5/15\n",
      "225/225 [==============================] - 1s 3ms/step - loss: 1.7934 - val_loss: 1.8813\n",
      "Epoch 6/15\n",
      "225/225 [==============================] - 1s 3ms/step - loss: 1.7503 - val_loss: 1.8419\n",
      "Epoch 7/15\n",
      "225/225 [==============================] - 1s 3ms/step - loss: 1.7044 - val_loss: 1.8007\n",
      "Epoch 8/15\n",
      "225/225 [==============================] - 1s 3ms/step - loss: 1.6558 - val_loss: 1.7550\n",
      "Epoch 9/15\n",
      "225/225 [==============================] - 1s 3ms/step - loss: 1.6074 - val_loss: 1.7433\n",
      "Epoch 10/15\n",
      "225/225 [==============================] - 1s 3ms/step - loss: 1.5632 - val_loss: 1.6931\n",
      "Epoch 11/15\n",
      "225/225 [==============================] - 1s 3ms/step - loss: 1.5158 - val_loss: 1.6548\n",
      "Epoch 12/15\n",
      "225/225 [==============================] - 1s 3ms/step - loss: 1.4737 - val_loss: 1.6224\n",
      "Epoch 13/15\n",
      "225/225 [==============================] - 1s 3ms/step - loss: 1.4275 - val_loss: 1.5857\n",
      "Epoch 14/15\n",
      "225/225 [==============================] - 1s 3ms/step - loss: 1.3904 - val_loss: 1.5570\n",
      "Epoch 15/15\n",
      "225/225 [==============================] - 1s 3ms/step - loss: 1.3486 - val_loss: 1.5406\n",
      "CPU times: user 20.6 s, sys: 5.59 s, total: 26.2 s\n",
      "Wall time: 10.3 s\n"
     ]
    }
   ],
   "source": [
    "%%time\n",
    "train_model(model)"
   ]
  },
  {
   "cell_type": "markdown",
   "id": "db71b73b-2671-4a3d-b6a4-a17d16fddac2",
   "metadata": {},
   "source": [
    "Test:"
   ]
  },
  {
   "cell_type": "code",
   "execution_count": 29,
   "id": "fe92b4ff-a46a-48e3-aabf-8bb47af2f853",
   "metadata": {},
   "outputs": [],
   "source": [
    "def test_model(model, df_test=df_test, user_df=user_df, business_df=business_df):\n",
    "    test_inputs = [\n",
    "        df_test['user_id'].values,\n",
    "        df_test['business_id'].values,\n",
    "        df_test[user_df.columns[1:]].values,\n",
    "        df_test[business_df.columns[1:]].values\n",
    "    ]\n",
    "\n",
    "    test_loss = model.evaluate(test_inputs, df_test['stars'].values)\n",
    "    print(f'Test loss (MSE): {round(test_loss, 3)}')"
   ]
  },
  {
   "cell_type": "code",
   "execution_count": 30,
   "id": "4a29a3a9-c9bf-41a9-a116-8b5ca2aa1360",
   "metadata": {},
   "outputs": [
    {
     "name": "stdout",
     "output_type": "stream",
     "text": [
      "63/63 [==============================] - 0s 796us/step - loss: 1.4664\n",
      "Test loss (MSE): 1.466\n"
     ]
    }
   ],
   "source": [
    "test_model(model)"
   ]
  },
  {
   "cell_type": "markdown",
   "id": "71d7ef2f-3b05-49f0-831b-dfe0af905c3e",
   "metadata": {},
   "source": [
    "Note that the base model had an MSE of 1.96; we are certainly seeing an improvement here with our more advanced model."
   ]
  },
  {
   "cell_type": "markdown",
   "id": "cc30345f-5243-4f66-bea7-870fcca338e6",
   "metadata": {},
   "source": [
    "## Model Extension 1: Cluster Labels"
   ]
  },
  {
   "cell_type": "markdown",
   "id": "715b0a46-1e00-4e0f-b81e-55f6f19ba301",
   "metadata": {},
   "source": [
    "We'd like to improve the performance of our model by adding in new features to the training set. In this section, we will perform clustering on users and businesses; the cluster labels will be a new feature we can use. This is called a mixed cluster network."
   ]
  },
  {
   "cell_type": "markdown",
   "id": "0ce19cf9-1e6f-4c35-a4e1-6cb7d7787028",
   "metadata": {},
   "source": [
    "Scale `user_df`:"
   ]
  },
  {
   "cell_type": "code",
   "execution_count": 31,
   "id": "6ac9d2b6-0e40-446b-85da-244360929dad",
   "metadata": {},
   "outputs": [],
   "source": [
    "def scale(df):\n",
    "    scaler = MinMaxScaler()\n",
    "    return scaler.fit_transform(df)"
   ]
  },
  {
   "cell_type": "code",
   "execution_count": 32,
   "id": "521384bd-b547-48e7-8547-3a357a7bd043",
   "metadata": {},
   "outputs": [],
   "source": [
    "user_df_scaled = scale(user_df)"
   ]
  },
  {
   "cell_type": "markdown",
   "id": "cc2fceab-64b2-428f-a0ef-549f960b6319",
   "metadata": {},
   "source": [
    "Apply dimensionality reduction:"
   ]
  },
  {
   "cell_type": "code",
   "execution_count": 33,
   "id": "36a04afb-6a6e-4d7d-aea9-96609567a0b1",
   "metadata": {},
   "outputs": [],
   "source": [
    "def pca(df_scaled):\n",
    "    pca = PCA(n_components=10)\n",
    "    return pca.fit_transform(df_scaled)"
   ]
  },
  {
   "cell_type": "code",
   "execution_count": 34,
   "id": "92f252fa-6bde-43e0-871b-8b5403b077f1",
   "metadata": {},
   "outputs": [],
   "source": [
    "user_df_pca = pca(user_df_scaled)"
   ]
  },
  {
   "cell_type": "markdown",
   "id": "50044c56-6bd1-4286-8b30-c204f59441ce",
   "metadata": {},
   "source": [
    "Hypterparameter tuning:"
   ]
  },
  {
   "cell_type": "code",
   "execution_count": 35,
   "id": "b6589dbe-f361-4f55-a7a1-5fbb2785b14c",
   "metadata": {},
   "outputs": [],
   "source": [
    "def tune_clusterer(df_pca):\n",
    "    best_score = -1\n",
    "\n",
    "    for eps in np.arange(0.1, 2, 0.1):\n",
    "        for min_samples in range(2, 3):\n",
    "            dbscan = DBSCAN(eps=eps, min_samples=min_samples)\n",
    "            labels = dbscan.fit_predict(df_pca)\n",
    "            n_clusters = len(set(labels)) - (1 if -1 in labels else 0)\n",
    "            if n_clusters > 1:\n",
    "                score = silhouette_score(df_pca, labels)\n",
    "                if score > best_score:\n",
    "                    best_score = score\n",
    "                    best_eps = eps\n",
    "                    best_min_samples = min_samples\n",
    "\n",
    "    print(\"Best Silhouette Score:\", best_score)\n",
    "    print(\"Best eps:\", best_eps)\n",
    "    print(\"Best min_samples:\", best_min_samples)\n",
    "    \n",
    "    return best_eps, best_min_samples"
   ]
  },
  {
   "cell_type": "code",
   "execution_count": 36,
   "id": "7ceb981b-adeb-431e-b2f6-1b1bd79f8457",
   "metadata": {},
   "outputs": [
    {
     "name": "stdout",
     "output_type": "stream",
     "text": [
      "Best Silhouette Score: 0.5545330937146582\n",
      "Best eps: 0.30000000000000004\n",
      "Best min_samples: 2\n",
      "CPU times: user 18.3 s, sys: 4.73 s, total: 23 s\n",
      "Wall time: 22.2 s\n"
     ]
    }
   ],
   "source": [
    "%%time\n",
    "best_eps, best_min_samples = tune_clusterer(user_df_pca)"
   ]
  },
  {
   "cell_type": "markdown",
   "id": "70a442e2-6fc9-4cac-8b54-b437749d223f",
   "metadata": {},
   "source": [
    "Get clusters:"
   ]
  },
  {
   "cell_type": "code",
   "execution_count": 37,
   "id": "75cc73fa-71d5-473a-aaa4-f716f2caebef",
   "metadata": {},
   "outputs": [],
   "source": [
    "def generate_clusters(df_pca, best_eps, best_min_samples):\n",
    "    dbscan = DBSCAN(eps=best_eps, min_samples=best_min_samples)\n",
    "    labels = dbscan.fit_predict(df_pca)\n",
    "    return labels"
   ]
  },
  {
   "cell_type": "code",
   "execution_count": 38,
   "id": "eb5d8374-1281-493d-8cac-36cf998894b8",
   "metadata": {},
   "outputs": [
    {
     "data": {
      "text/plain": [
       "array([-1,  0,  1])"
      ]
     },
     "execution_count": 38,
     "metadata": {},
     "output_type": "execute_result"
    }
   ],
   "source": [
    "user_df['user_clusters'] = generate_clusters(user_df_pca, best_eps, best_min_samples)\n",
    "np.unique(user_df['user_clusters'])"
   ]
  },
  {
   "cell_type": "markdown",
   "id": "7fd8ddd6-8e92-4460-ab02-ee344cffb3d7",
   "metadata": {},
   "source": [
    "Evaluation:"
   ]
  },
  {
   "cell_type": "code",
   "execution_count": 39,
   "id": "48d9fd28-7cf4-48b2-ac9a-3677fddf75e3",
   "metadata": {},
   "outputs": [
    {
     "name": "stdout",
     "output_type": "stream",
     "text": [
      "Silhouette Score: 0.5545330937146582\n"
     ]
    }
   ],
   "source": [
    "print(f\"Silhouette Score: {silhouette_score(user_df_pca, user_df['user_clusters'])}\")"
   ]
  },
  {
   "cell_type": "markdown",
   "id": "5cddd3ea-c452-4298-8189-3bf3b580eea0",
   "metadata": {},
   "source": [
    "Perform the same procedures for `business_df`:"
   ]
  },
  {
   "cell_type": "code",
   "execution_count": 40,
   "id": "d7c05c37-3dd8-4ab2-bf42-73a0493d58b5",
   "metadata": {},
   "outputs": [
    {
     "name": "stdout",
     "output_type": "stream",
     "text": [
      "Best Silhouette Score: 0.11639984752658532\n",
      "Best eps: 1.9000000000000001\n",
      "Best min_samples: 2\n",
      "Silhouette Score: 0.11639984752658532\n",
      "CPU times: user 27.4 s, sys: 4.35 s, total: 31.8 s\n",
      "Wall time: 17.7 s\n"
     ]
    }
   ],
   "source": [
    "%%time\n",
    "business_df_scaled = scale(business_df)\n",
    "business_df_pca = pca(business_df_scaled)\n",
    "best_eps, best_min_samples = tune_clusterer(business_df_pca)\n",
    "business_df['business_clusters'] = generate_clusters(business_df_pca, best_eps, best_min_samples)\n",
    "print(f\"Silhouette Score: {silhouette_score(business_df_pca, business_df['business_clusters'])}\")"
   ]
  },
  {
   "cell_type": "markdown",
   "id": "90492ca5-4876-4a50-b5b0-3f6dd60a80b2",
   "metadata": {},
   "source": [
    "## Model Extension 2: Sentiment Labels"
   ]
  },
  {
   "cell_type": "markdown",
   "id": "890d0df7-30c2-45ca-b6c1-48fb789caf56",
   "metadata": {},
   "source": [
    "Like the first extension we added, we will now perform sentiment analysis on review text; the sentiment labels will be another new feature we can use. We thought about using transfer learning on BERT to fine tune our own sentiment analysis model; however, transfer learning requires labeled data (the ground truth sentiment labels), which we do not have. So instaed, we will be using a pre-trained model. Note that transformers are really slow, so we will be using the Python library named `TextBlob` which is really fast."
   ]
  },
  {
   "cell_type": "code",
   "execution_count": 41,
   "id": "84287bb6-6113-4eda-99ca-e872306a9163",
   "metadata": {},
   "outputs": [],
   "source": [
    "def get_sentiment(text):\n",
    "    blob = TextBlob(text)\n",
    "    return blob.sentiment.polarity"
   ]
  },
  {
   "cell_type": "code",
   "execution_count": 42,
   "id": "a7095082-58a4-4949-98d5-bf47e96ef64c",
   "metadata": {},
   "outputs": [
    {
     "name": "stdout",
     "output_type": "stream",
     "text": [
      "CPU times: user 3.95 s, sys: 111 ms, total: 4.06 s\n",
      "Wall time: 4.13 s\n"
     ]
    }
   ],
   "source": [
    "%%time\n",
    "review_df['review_sentiment'] = review_text.apply(get_sentiment)"
   ]
  },
  {
   "cell_type": "code",
   "execution_count": 43,
   "id": "983f96b3-8bc9-412f-aecd-c462c1f328d3",
   "metadata": {},
   "outputs": [
    {
     "data": {
      "text/plain": [
       "0    0.535714\n",
       "1    0.159977\n",
       "2    0.733333\n",
       "3   -0.551515\n",
       "4    0.097064\n",
       "Name: review_sentiment, dtype: float64"
      ]
     },
     "execution_count": 43,
     "metadata": {},
     "output_type": "execute_result"
    }
   ],
   "source": [
    "review_df['review_sentiment'].head()"
   ]
  },
  {
   "cell_type": "code",
   "execution_count": 44,
   "id": "7c2e7ba8-f5ac-4f92-8a80-ea84db78345c",
   "metadata": {},
   "outputs": [
    {
     "data": {
      "text/plain": [
       "count    11946.000000\n",
       "mean         0.260394\n",
       "std          0.230792\n",
       "min         -1.000000\n",
       "25%          0.130695\n",
       "50%          0.264103\n",
       "75%          0.398842\n",
       "max          1.000000\n",
       "Name: review_sentiment, dtype: float64"
      ]
     },
     "execution_count": 44,
     "metadata": {},
     "output_type": "execute_result"
    }
   ],
   "source": [
    "review_df['review_sentiment'].describe()"
   ]
  },
  {
   "cell_type": "markdown",
   "id": "0a7aac21-ee6b-4ad5-a6a0-63937e0a31b1",
   "metadata": {},
   "source": [
    "## Re-train Model with Extensions"
   ]
  },
  {
   "cell_type": "code",
   "execution_count": 45,
   "id": "58f58843-2fd7-43b2-a9a4-542bdf673ab2",
   "metadata": {},
   "outputs": [],
   "source": [
    "df = pd.merge(review_df, user_df, on='user_id')\n",
    "df = pd.merge(df, business_df, on='business_id')"
   ]
  },
  {
   "cell_type": "code",
   "execution_count": 46,
   "id": "c0d2d461-ae99-4e02-97ed-6fd1666ce4cb",
   "metadata": {},
   "outputs": [],
   "source": [
    "df_train, df_test = train_test_split(df, test_size=0.2, random_state=42)"
   ]
  },
  {
   "cell_type": "code",
   "execution_count": 47,
   "id": "f3e4949c-bccb-4d83-b6d0-dc7f1c40a797",
   "metadata": {},
   "outputs": [],
   "source": [
    "df_train, df_test = feature_scaling(df_train, df_test)"
   ]
  },
  {
   "cell_type": "code",
   "execution_count": 48,
   "id": "43d66bd4-18d1-4527-8fbb-bd04b9984ffa",
   "metadata": {},
   "outputs": [],
   "source": [
    "model = build_model(df=df, user_df=user_df, business_df=business_df)"
   ]
  },
  {
   "cell_type": "code",
   "execution_count": 49,
   "id": "2e430dfa-7710-4051-aadd-725ccf91837b",
   "metadata": {},
   "outputs": [
    {
     "name": "stdout",
     "output_type": "stream",
     "text": [
      "Epoch 1/15\n",
      "269/269 [==============================] - 1s 3ms/step - loss: 4.8267 - val_loss: 1.9525\n",
      "Epoch 2/15\n",
      "269/269 [==============================] - 1s 3ms/step - loss: 1.7788 - val_loss: 1.8663\n",
      "Epoch 3/15\n",
      "269/269 [==============================] - 1s 3ms/step - loss: 1.7025 - val_loss: 1.8238\n",
      "Epoch 4/15\n",
      "269/269 [==============================] - 1s 3ms/step - loss: 1.6480 - val_loss: 1.7902\n",
      "Epoch 5/15\n",
      "269/269 [==============================] - 1s 3ms/step - loss: 1.5982 - val_loss: 1.7579\n",
      "Epoch 6/15\n",
      "269/269 [==============================] - 1s 3ms/step - loss: 1.5479 - val_loss: 1.7270\n",
      "Epoch 7/15\n",
      "269/269 [==============================] - 1s 3ms/step - loss: 1.4955 - val_loss: 1.6964\n",
      "Epoch 8/15\n",
      "269/269 [==============================] - 1s 3ms/step - loss: 1.4432 - val_loss: 1.6647\n",
      "Epoch 9/15\n",
      "269/269 [==============================] - 1s 3ms/step - loss: 1.3919 - val_loss: 1.6356\n",
      "Epoch 10/15\n",
      "269/269 [==============================] - 1s 3ms/step - loss: 1.3380 - val_loss: 1.6062\n",
      "Epoch 11/15\n",
      "269/269 [==============================] - 1s 3ms/step - loss: 1.2896 - val_loss: 1.5916\n",
      "Epoch 12/15\n",
      "269/269 [==============================] - 1s 3ms/step - loss: 1.2413 - val_loss: 1.5555\n",
      "Epoch 13/15\n",
      "269/269 [==============================] - 1s 3ms/step - loss: 1.1998 - val_loss: 1.5274\n",
      "Epoch 14/15\n",
      "269/269 [==============================] - 1s 3ms/step - loss: 1.1585 - val_loss: 1.5183\n",
      "Epoch 15/15\n",
      "269/269 [==============================] - 1s 3ms/step - loss: 1.1253 - val_loss: 1.4898\n",
      "CPU times: user 23.7 s, sys: 6.66 s, total: 30.4 s\n",
      "Wall time: 12 s\n"
     ]
    }
   ],
   "source": [
    "%%time\n",
    "train_model(model, df_train=df_train, user_df=user_df, business_df=business_df)"
   ]
  },
  {
   "cell_type": "code",
   "execution_count": 50,
   "id": "4726e274-3272-4bf8-a423-492561912087",
   "metadata": {},
   "outputs": [
    {
     "name": "stdout",
     "output_type": "stream",
     "text": [
      "75/75 [==============================] - 0s 762us/step - loss: 1.3766\n",
      "Test loss (MSE): 1.377\n"
     ]
    }
   ],
   "source": [
    "test_model(model, df_test=df_test, user_df=user_df, business_df=business_df)"
   ]
  },
  {
   "cell_type": "code",
   "execution_count": 51,
   "id": "7f851022-694c-4d45-8b1e-587d6fe74407",
   "metadata": {},
   "outputs": [],
   "source": [
    "t1 = datetime.now()"
   ]
  },
  {
   "cell_type": "code",
   "execution_count": 52,
   "id": "3b8c40bc-65bd-4611-b135-1747db68f699",
   "metadata": {},
   "outputs": [
    {
     "name": "stdout",
     "output_type": "stream",
     "text": [
      "Time elapsed running notebook: 0:01:49.898218\n"
     ]
    }
   ],
   "source": [
    "print(f'Time elapsed running notebook: {t1 - t0}')"
   ]
  },
  {
   "cell_type": "markdown",
   "id": "49c9ca36-13e1-4d7c-ad4f-c0f8c859d6fd",
   "metadata": {},
   "source": [
    "We observe that the model had similar performances to its previous state without the extensions. But it still beats the baseline model."
   ]
  },
  {
   "cell_type": "code",
   "execution_count": null,
   "id": "cb9b76b2-b1f9-4029-90eb-633d72813b74",
   "metadata": {},
   "outputs": [],
   "source": []
  }
 ],
 "metadata": {
  "kernelspec": {
   "display_name": "Python 3 (ipykernel)",
   "language": "python",
   "name": "python3"
  },
  "language_info": {
   "codemirror_mode": {
    "name": "ipython",
    "version": 3
   },
   "file_extension": ".py",
   "mimetype": "text/x-python",
   "name": "python",
   "nbconvert_exporter": "python",
   "pygments_lexer": "ipython3",
   "version": "3.10.8"
  }
 },
 "nbformat": 4,
 "nbformat_minor": 5
}
