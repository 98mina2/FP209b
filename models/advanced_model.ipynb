{
 "cells": [
  {
   "cell_type": "markdown",
   "id": "b3f19562-a407-4de9-88f0-b4ac46374197",
   "metadata": {},
   "source": [
    "# Advanced Model"
   ]
  },
  {
   "cell_type": "code",
   "execution_count": 1,
   "id": "bc7ea1d3-43df-4745-99fb-f6eec0410d69",
   "metadata": {},
   "outputs": [],
   "source": [
    "import pandas as pd\n",
    "import numpy as np\n",
    "from sklearn.model_selection import train_test_split\n",
    "from sklearn.preprocessing import LabelEncoder\n",
    "from keras.models import Model\n",
    "from keras.layers import Input, Embedding, Flatten, Dot, Dense, Concatenate\n",
    "from keras.optimizers import Adam"
   ]
  },
  {
   "cell_type": "markdown",
   "id": "f9d939c2-ec4d-4685-8f86-2d0fcf964aaf",
   "metadata": {},
   "source": [
    "## Intro"
   ]
  },
  {
   "cell_type": "markdown",
   "id": "739ea597-879c-4e07-9488-62692d3afdca",
   "metadata": {},
   "source": [
    "Previously we built a base model, which essentially used a 2D user-item interaction matrix under the hood; it worked by simply calculating cosine similarity scores. Now we want to make the model more robust; we will accomplish this by perfoming the following:\n",
    "\n",
    "- Extend the 2D user-item matrix into a tensor by adding in features from both the users' side and items' side\n",
    "- Use a neural network\n",
    "\n",
    "This is known as the neural collaborative filtering (NCF) approach."
   ]
  },
  {
   "cell_type": "markdown",
   "id": "af8c8a49-21d8-45ab-bc6a-3ca12ebf7c98",
   "metadata": {},
   "source": [
    "## Prep Data"
   ]
  },
  {
   "cell_type": "markdown",
   "id": "af620d51-13d2-4eb1-a66f-a2f3f5bbde87",
   "metadata": {},
   "source": [
    "We will now load in datasets from all necessary sources: users, restaurants, and reviews:"
   ]
  },
  {
   "cell_type": "code",
   "execution_count": 2,
   "id": "81f0741d-ebcc-4148-8cc3-e836d5af403e",
   "metadata": {},
   "outputs": [
    {
     "name": "stdout",
     "output_type": "stream",
     "text": [
      "CPU times: user 5.19 s, sys: 5.15 s, total: 10.3 s\n",
      "Wall time: 19.5 s\n"
     ]
    }
   ],
   "source": [
    "%%time\n",
    "user_df = pd.read_feather('../data/yelp_user_cleaned.feather')  # 100 MB\n",
    "business_df = pd.read_feather('../data/yelp_business_cleaned.feather')  # 40 MB\n",
    "review_df = pd.read_feather('../data/yelp_review_cleaned.feather')  # 2.3 GB"
   ]
  },
  {
   "cell_type": "markdown",
   "id": "089c9378-745a-4d64-be39-c13e5199c2e9",
   "metadata": {},
   "source": [
    "Sanity check:"
   ]
  },
  {
   "cell_type": "code",
   "execution_count": 3,
   "id": "da007292-4da6-4065-a564-27a5b81da058",
   "metadata": {},
   "outputs": [
    {
     "data": {
      "text/plain": [
       "((1532223,), (1532233,))"
      ]
     },
     "execution_count": 3,
     "metadata": {},
     "output_type": "execute_result"
    }
   ],
   "source": [
    "user_df.user_id.unique().shape, review_df.user_id.unique().shape"
   ]
  },
  {
   "cell_type": "code",
   "execution_count": 4,
   "id": "7cf674a8-c1a9-4249-adbc-1e774f032762",
   "metadata": {},
   "outputs": [
    {
     "data": {
      "text/plain": [
       "((68054,), (68054,))"
      ]
     },
     "execution_count": 4,
     "metadata": {},
     "output_type": "execute_result"
    }
   ],
   "source": [
    "business_df.business_id.unique().shape, review_df.business_id.unique().shape"
   ]
  },
  {
   "cell_type": "markdown",
   "id": "24e6c01e-7192-4693-9fd2-95f32705ca44",
   "metadata": {},
   "source": [
    "Take a sample out of concern for hardware:"
   ]
  },
  {
   "cell_type": "code",
   "execution_count": 5,
   "id": "097c1c11-4f49-46e6-b979-8c7ac7391957",
   "metadata": {},
   "outputs": [],
   "source": [
    "review_df = review_df.sample(100_000, random_state=42)"
   ]
  },
  {
   "cell_type": "markdown",
   "id": "00c075ec-c363-408d-be77-ff6cf4c6da6f",
   "metadata": {},
   "source": [
    "We will use the review dataset to build our user-item matrix; first un-scale stars:"
   ]
  },
  {
   "cell_type": "code",
   "execution_count": 6,
   "id": "c48c6aca-3f5b-4bae-a814-f8767a2538aa",
   "metadata": {},
   "outputs": [
    {
     "data": {
      "text/plain": [
       "array([1, 3, 2, 5, 4])"
      ]
     },
     "execution_count": 6,
     "metadata": {},
     "output_type": "execute_result"
    }
   ],
   "source": [
    "stars_scaled_unique = sorted(list(review_df['stars'].unique()))\n",
    "stars_scale_map = dict(list(zip(stars_scaled_unique, range(1, 6))))\n",
    "review_df['stars'] = review_df['stars'].map(stars_scale_map)\n",
    "review_df.stars.unique()"
   ]
  },
  {
   "cell_type": "markdown",
   "id": "b78d8d1d-0481-42fb-a067-28547092498b",
   "metadata": {},
   "source": [
    "Note that previously we only kept these columns for building user-item matrix: `['user_id', 'business_id', 'stars']`, but now we'd like to include more features from review data: `['useful', 'funny', 'cool']`. Notice that there is also a `text` column; we could apply sentiment analysis to extract sentiment categories, and use those for a new feature; but we will not do it for now; this could be a future extension."
   ]
  },
  {
   "cell_type": "code",
   "execution_count": 7,
   "id": "ba0489f7-3bdb-4fcf-8314-00315ce2caec",
   "metadata": {},
   "outputs": [
    {
     "data": {
      "text/html": [
       "<div>\n",
       "<style scoped>\n",
       "    .dataframe tbody tr th:only-of-type {\n",
       "        vertical-align: middle;\n",
       "    }\n",
       "\n",
       "    .dataframe tbody tr th {\n",
       "        vertical-align: top;\n",
       "    }\n",
       "\n",
       "    .dataframe thead th {\n",
       "        text-align: right;\n",
       "    }\n",
       "</style>\n",
       "<table border=\"1\" class=\"dataframe\">\n",
       "  <thead>\n",
       "    <tr style=\"text-align: right;\">\n",
       "      <th></th>\n",
       "      <th>user_id</th>\n",
       "      <th>business_id</th>\n",
       "      <th>stars</th>\n",
       "      <th>useful</th>\n",
       "      <th>funny</th>\n",
       "      <th>cool</th>\n",
       "    </tr>\n",
       "  </thead>\n",
       "  <tbody>\n",
       "    <tr>\n",
       "      <th>1322294</th>\n",
       "      <td>0lpxU4Dfi8AeBt0SeCrEuw</td>\n",
       "      <td>tQKqrLs16Xi-lFrd3_CBAQ</td>\n",
       "      <td>1</td>\n",
       "      <td>0.350319</td>\n",
       "      <td>-0.184315</td>\n",
       "      <td>-0.229438</td>\n",
       "    </tr>\n",
       "    <tr>\n",
       "      <th>4297632</th>\n",
       "      <td>5nw1Zc3fi_ehDJFd3mUEYA</td>\n",
       "      <td>nLxNJuvgoHQHn_IGYifRnw</td>\n",
       "      <td>1</td>\n",
       "      <td>-0.007821</td>\n",
       "      <td>-0.184315</td>\n",
       "      <td>-0.229438</td>\n",
       "    </tr>\n",
       "    <tr>\n",
       "      <th>2143059</th>\n",
       "      <td>7fDqaGdUMccXQ4bnPwR6yg</td>\n",
       "      <td>etaIhl-sduOKc6J_qHmmtA</td>\n",
       "      <td>3</td>\n",
       "      <td>0.350319</td>\n",
       "      <td>-0.184315</td>\n",
       "      <td>0.677802</td>\n",
       "    </tr>\n",
       "  </tbody>\n",
       "</table>\n",
       "</div>"
      ],
      "text/plain": [
       "                        user_id             business_id  stars    useful  \\\n",
       "1322294  0lpxU4Dfi8AeBt0SeCrEuw  tQKqrLs16Xi-lFrd3_CBAQ      1  0.350319   \n",
       "4297632  5nw1Zc3fi_ehDJFd3mUEYA  nLxNJuvgoHQHn_IGYifRnw      1 -0.007821   \n",
       "2143059  7fDqaGdUMccXQ4bnPwR6yg  etaIhl-sduOKc6J_qHmmtA      3  0.350319   \n",
       "\n",
       "            funny      cool  \n",
       "1322294 -0.184315 -0.229438  \n",
       "4297632 -0.184315 -0.229438  \n",
       "2143059 -0.184315  0.677802  "
      ]
     },
     "execution_count": 7,
     "metadata": {},
     "output_type": "execute_result"
    }
   ],
   "source": [
    "review_df = review_df.loc[:, ['user_id', 'business_id', 'stars', 'useful', 'funny', 'cool']]\n",
    "review_df.head(3)"
   ]
  },
  {
   "cell_type": "markdown",
   "id": "143dff04-8e64-4568-9e72-7f430131edef",
   "metadata": {},
   "source": [
    "We also subset and rename columns for the other two data frames before merging all:"
   ]
  },
  {
   "cell_type": "code",
   "execution_count": 8,
   "id": "9053bbb4-e3e8-4c29-a2c2-d115e037d902",
   "metadata": {},
   "outputs": [],
   "source": [
    "user_df.drop(['name'], axis=1, inplace=True)"
   ]
  },
  {
   "cell_type": "code",
   "execution_count": 9,
   "id": "dd6a6b29-57e2-447f-bc7f-30fd45001823",
   "metadata": {},
   "outputs": [],
   "source": [
    "# why we rename it here and not use the suffixes for merging:\n",
    "# we will later need to know which features are related to users\n",
    "# keep a list of column names here is more convenient\n",
    "user_df.rename({'useful': 'useful_user',\n",
    "                'funny': 'funny_user',\n",
    "                'cool': 'cool_user',\n",
    "                'review_count': 'review_count_user'}, axis=1, inplace=True)"
   ]
  },
  {
   "cell_type": "code",
   "execution_count": 10,
   "id": "388555f6-ea1d-4b51-9c8d-510297d290a4",
   "metadata": {},
   "outputs": [],
   "source": [
    "# note: we've already expanded the dictionaries such as attributes in business_data_inspect.ipynb\n",
    "business_df.drop(['original_index', 'name', 'address', 'city', 'state',\n",
    "                  'postal_code', 'latitude', 'longitude',\n",
    "                  'attributes', 'categories', 'is_restaurant', 'GoodForMeal', 'BestNights'], axis=1, inplace=True)"
   ]
  },
  {
   "cell_type": "code",
   "execution_count": 11,
   "id": "c8afc83f-f2fe-44d0-a9cb-8ab9164462d6",
   "metadata": {},
   "outputs": [],
   "source": [
    "business_df.rename({'stars': 'stars_business',\n",
    "                    'review_count': 'review_count_business'}, axis=1, inplace=True)"
   ]
  },
  {
   "cell_type": "markdown",
   "id": "601ca403-85f2-42ec-aa38-ea20a958acb4",
   "metadata": {},
   "source": [
    "Business data has categorical features; need to one-hot encode them (but do not encode id's):"
   ]
  },
  {
   "cell_type": "code",
   "execution_count": 12,
   "id": "f14c15da-16cb-45a8-b5ac-ad751f1b0a4f",
   "metadata": {},
   "outputs": [],
   "source": [
    "dummies = pd.get_dummies(business_df.drop('business_id', axis=1), drop_first=True)"
   ]
  },
  {
   "cell_type": "code",
   "execution_count": 13,
   "id": "9102ba4d-aabd-49ae-9643-f112ec8efcc6",
   "metadata": {},
   "outputs": [],
   "source": [
    "business_df = pd.concat([business_df.loc[:, ['business_id']], dummies], axis=1)"
   ]
  },
  {
   "cell_type": "markdown",
   "id": "b709a26a-cfd7-40be-a6b6-5881f35c8d54",
   "metadata": {},
   "source": [
    "Next, we merge all three data frames together:"
   ]
  },
  {
   "cell_type": "code",
   "execution_count": 14,
   "id": "53cd4c3d-c4ae-42c2-902a-2b4900925b0e",
   "metadata": {},
   "outputs": [],
   "source": [
    "df = pd.merge(review_df, user_df, on='user_id')"
   ]
  },
  {
   "cell_type": "code",
   "execution_count": 15,
   "id": "ee047775-8c6b-486e-9fb9-376cc850761d",
   "metadata": {},
   "outputs": [],
   "source": [
    "df = pd.merge(df, business_df, on='business_id')"
   ]
  },
  {
   "cell_type": "markdown",
   "id": "d9b12eac-1930-468f-a57b-0f2853533370",
   "metadata": {},
   "source": [
    "Take a sample out of concern for hardware:"
   ]
  },
  {
   "cell_type": "code",
   "execution_count": 16,
   "id": "ef5f7203-dc06-40a1-ba32-6cd4883e4725",
   "metadata": {},
   "outputs": [],
   "source": [
    "df = df.sample(10_000, random_state=42)"
   ]
  },
  {
   "cell_type": "code",
   "execution_count": 17,
   "id": "756e0826-94e6-4a3e-ab64-7aa78a9981ec",
   "metadata": {},
   "outputs": [
    {
     "data": {
      "text/plain": [
       "(10000, 7470)"
      ]
     },
     "execution_count": 17,
     "metadata": {},
     "output_type": "execute_result"
    }
   ],
   "source": [
    "df.shape"
   ]
  },
  {
   "cell_type": "markdown",
   "id": "fbe99ee4-3001-478b-8fc7-6431d471c938",
   "metadata": {},
   "source": [
    "## Modeling"
   ]
  },
  {
   "cell_type": "markdown",
   "id": "44e1df14-5e27-47e4-8148-b440c8cd9707",
   "metadata": {},
   "source": [
    "Encode `user_id` and `business_id` to convert string into integers:"
   ]
  },
  {
   "cell_type": "code",
   "execution_count": 18,
   "id": "abc9b3d2-f752-4fef-adc1-cf2c12d6f21f",
   "metadata": {},
   "outputs": [],
   "source": [
    "user_id_encoder = LabelEncoder()\n",
    "business_id_encoder = LabelEncoder()\n",
    "\n",
    "df['user_id'] = user_id_encoder.fit_transform(df['user_id'])\n",
    "df['business_id'] = business_id_encoder.fit_transform(df['business_id'])"
   ]
  },
  {
   "cell_type": "markdown",
   "id": "420b1563-3144-4f83-b80c-d643badfc45c",
   "metadata": {},
   "source": [
    "Train test split:"
   ]
  },
  {
   "cell_type": "code",
   "execution_count": 19,
   "id": "c36cedf5-b404-4ff7-a25f-a6947f01ecf5",
   "metadata": {},
   "outputs": [],
   "source": [
    "df_train, df_test = train_test_split(df, test_size=0.2, random_state=42)"
   ]
  },
  {
   "cell_type": "markdown",
   "id": "949c41c7-f4a1-49f7-859d-d7c9f28a3d77",
   "metadata": {},
   "source": [
    "Helper constants:"
   ]
  },
  {
   "cell_type": "code",
   "execution_count": 20,
   "id": "9cb8d422-0494-4ce7-94ca-307a2727f658",
   "metadata": {},
   "outputs": [],
   "source": [
    "num_users = df['user_id'].nunique()\n",
    "num_businesses = df['business_id'].nunique()"
   ]
  },
  {
   "cell_type": "markdown",
   "id": "61e3e3cf-c07a-421b-bde6-209edae61fb2",
   "metadata": {},
   "source": [
    "Model architecture:"
   ]
  },
  {
   "cell_type": "code",
   "execution_count": 21,
   "id": "8c55bed4-6a55-4f6c-84ad-c7631a776c5b",
   "metadata": {},
   "outputs": [],
   "source": [
    "# embeddings for id's\n",
    "user_input = Input(shape=(1,), name='user_input')\n",
    "user_embedding = Embedding(num_users, 16, name='user_embedding')(user_input)\n",
    "user_flatten = Flatten(name='user_flatten')(user_embedding)\n",
    "\n",
    "business_input = Input(shape=(1,), name='business_input')\n",
    "business_embedding = Embedding(num_businesses, 16, name='business_embedding')(business_input)\n",
    "business_flatten = Flatten(name='business_flatten')(business_embedding)\n",
    "\n",
    "dot_product = Dot(axes=1, name='dot_product')([user_flatten, business_flatten])\n",
    "\n",
    "# add in user and business features\n",
    "user_features_input = Input(shape=(user_df.shape[1] - 1,), name='user_features_input')\n",
    "business_features_input = Input(shape=(business_df.shape[1] - 1,), name='business_features_input')\n",
    "concat_features = Concatenate(name='concat_features')([dot_product, user_features_input, business_features_input])\n",
    "\n",
    "dense_layer = Dense(64, activation='relu', name='dense_layer')(concat_features)\n",
    "output = Dense(1, activation='linear', name='output')(dense_layer)\n",
    "\n",
    "model = Model(inputs=[user_input, business_input, user_features_input, business_features_input], outputs=output)\n",
    "model.compile(optimizer=Adam(0.001), loss='mean_squared_error')"
   ]
  },
  {
   "cell_type": "markdown",
   "id": "a9a5d4f3-bf8b-4667-b5d1-6b1b5ed34dd2",
   "metadata": {},
   "source": [
    "Train:"
   ]
  },
  {
   "cell_type": "code",
   "execution_count": 22,
   "id": "5a114352-9492-463c-a09d-6fb87e0b931a",
   "metadata": {},
   "outputs": [
    {
     "name": "stdout",
     "output_type": "stream",
     "text": [
      "Epoch 1/10\n"
     ]
    },
    {
     "name": "stderr",
     "output_type": "stream",
     "text": [
      "2023-04-24 00:07:23.695916: W tensorflow/tsl/platform/profile_utils/cpu_utils.cc:128] Failed to get CPU frequency: 0 Hz\n"
     ]
    },
    {
     "name": "stdout",
     "output_type": "stream",
     "text": [
      "225/225 [==============================] - 1s 3ms/step - loss: 3.2448 - val_loss: 11.8779\n",
      "Epoch 2/10\n",
      "225/225 [==============================] - 1s 3ms/step - loss: 2.9398 - val_loss: 18.1408\n",
      "Epoch 3/10\n",
      "225/225 [==============================] - 1s 3ms/step - loss: 7.1728 - val_loss: 1.7029\n",
      "Epoch 4/10\n",
      "225/225 [==============================] - 1s 3ms/step - loss: 4.7011 - val_loss: 1.3751\n",
      "Epoch 5/10\n",
      "225/225 [==============================] - 1s 3ms/step - loss: 1.4146 - val_loss: 1.3594\n",
      "Epoch 6/10\n",
      "225/225 [==============================] - 1s 3ms/step - loss: 0.5737 - val_loss: 1.5875\n",
      "Epoch 7/10\n",
      "225/225 [==============================] - 1s 3ms/step - loss: 0.5144 - val_loss: 2.5302\n",
      "Epoch 8/10\n",
      "225/225 [==============================] - 1s 3ms/step - loss: 0.8446 - val_loss: 1.4031\n",
      "Epoch 9/10\n",
      "225/225 [==============================] - 1s 3ms/step - loss: 0.3245 - val_loss: 1.3944\n",
      "Epoch 10/10\n",
      "225/225 [==============================] - 1s 3ms/step - loss: 0.3050 - val_loss: 1.4449\n"
     ]
    },
    {
     "data": {
      "text/plain": [
       "<keras.callbacks.History at 0x3ede997b0>"
      ]
     },
     "execution_count": 22,
     "metadata": {},
     "output_type": "execute_result"
    }
   ],
   "source": [
    "train_inputs = [\n",
    "    df_train['user_id'].values,\n",
    "    df_train['business_id'].values,\n",
    "    df_train[user_df.columns[1:]].values,\n",
    "    df_train[business_df.columns[1:]].values\n",
    "]\n",
    "\n",
    "model.fit(train_inputs, df_train['stars'].values, epochs=10, validation_split=0.1)"
   ]
  },
  {
   "cell_type": "markdown",
   "id": "db71b73b-2671-4a3d-b6a4-a17d16fddac2",
   "metadata": {},
   "source": [
    "Test:"
   ]
  },
  {
   "cell_type": "code",
   "execution_count": 24,
   "id": "e8a7cefa-5e43-4af4-9250-d77411b555cc",
   "metadata": {},
   "outputs": [
    {
     "name": "stdout",
     "output_type": "stream",
     "text": [
      "63/63 [==============================] - 0s 798us/step - loss: 1.2345\n",
      "Test loss (MSE): 1.2345056533813477\n"
     ]
    }
   ],
   "source": [
    "test_inputs = [\n",
    "    df_test['user_id'].values,\n",
    "    df_test['business_id'].values,\n",
    "    df_test[user_df.columns[1:]].values,\n",
    "    df_test[business_df.columns[1:]].values\n",
    "]\n",
    "\n",
    "test_loss = model.evaluate(test_inputs, df_test['stars'].values)\n",
    "print(f'Test loss (MSE): {test_loss}')"
   ]
  },
  {
   "cell_type": "markdown",
   "id": "71d7ef2f-3b05-49f0-831b-dfe0af905c3e",
   "metadata": {},
   "source": [
    "Note that the base model had an RMSE of 1.4 or an MSE of 1.96; we are certainly seeing an improvement here with our more advanced model."
   ]
  },
  {
   "cell_type": "markdown",
   "id": "307afe16-a6e5-4450-8159-d1f206fb0180",
   "metadata": {},
   "source": [
    "## Next Steps"
   ]
  },
  {
   "cell_type": "markdown",
   "id": "fb3a3956-62ae-432a-aa23-001cb52744ae",
   "metadata": {},
   "source": [
    "- Use the full dataset (remove `review_df.sample` and `df.sample`)\n",
    "- Add more features to dataset, specifically:\n",
    "    - Do clustering (e.g., KNN) on users and businesses; the cluster labels will be a new feature we can use; this is called a mixed cluster network.\n",
    "    - Do sentiment analysis on review text; the sentiment categories will be a new feature we can use."
   ]
  },
  {
   "cell_type": "code",
   "execution_count": null,
   "id": "ca15b0d8-d8af-4259-ac3b-c2a8bafb1369",
   "metadata": {},
   "outputs": [],
   "source": []
  }
 ],
 "metadata": {
  "kernelspec": {
   "display_name": "Python 3 (ipykernel)",
   "language": "python",
   "name": "python3"
  },
  "language_info": {
   "codemirror_mode": {
    "name": "ipython",
    "version": 3
   },
   "file_extension": ".py",
   "mimetype": "text/x-python",
   "name": "python",
   "nbconvert_exporter": "python",
   "pygments_lexer": "ipython3",
   "version": "3.10.8"
  }
 },
 "nbformat": 4,
 "nbformat_minor": 5
}
