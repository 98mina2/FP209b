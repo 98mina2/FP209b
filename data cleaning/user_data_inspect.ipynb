{
 "cells": [
  {
   "cell_type": "markdown",
   "id": "7fe75669-864d-471c-be7d-d318e14ad559",
   "metadata": {},
   "source": [
    "# User Data Inspection"
   ]
  },
  {
   "cell_type": "code",
   "execution_count": 1,
   "id": "ffd5c35e-45f6-4ffe-b244-993bceffa514",
   "metadata": {},
   "outputs": [],
   "source": [
    "import random\n",
    "random.seed(109)\n",
    "\n",
    "from pprint import pprint\n",
    "\n",
    "import os\n",
    "import sys\n",
    "import time\n",
    "\n",
    "import numpy as np\n",
    "import pandas as pd\n",
    "import matplotlib.pyplot as plt\n",
    "import seaborn as sns\n",
    "\n",
    "from sklearn.preprocessing import StandardScaler\n",
    "from sklearn.utils import resample"
   ]
  },
  {
   "cell_type": "markdown",
   "id": "31857990-8757-4a6e-934d-7314514b6623",
   "metadata": {},
   "source": [
    "## User Data"
   ]
  },
  {
   "cell_type": "markdown",
   "id": "e30a65c8-3293-46a7-9ac8-44516c50d1ba",
   "metadata": {},
   "source": [
    "User data containing basic info and several numeric features about their interactions on Yelp."
   ]
  },
  {
   "cell_type": "code",
   "execution_count": 2,
   "id": "196901b2-f940-420f-a722-29120f4cff0d",
   "metadata": {},
   "outputs": [],
   "source": [
    "pd.options.display.max_columns = 30"
   ]
  },
  {
   "cell_type": "code",
   "execution_count": 3,
   "id": "73026c1e-8bb9-4e37-87e2-c72803a1f6f1",
   "metadata": {},
   "outputs": [],
   "source": [
    "user_df = pd.read_feather('data/yelp_user.feather')"
   ]
  },
  {
   "cell_type": "code",
   "execution_count": 4,
   "id": "5da3fde5-972a-488f-9daa-53c25bea57cf",
   "metadata": {},
   "outputs": [
    {
     "name": "stdout",
     "output_type": "stream",
     "text": [
      "<class 'pandas.core.frame.DataFrame'>\n",
      "RangeIndex: 1987897 entries, 0 to 1987896\n",
      "Data columns (total 22 columns):\n",
      " #   Column              Dtype  \n",
      "---  ------              -----  \n",
      " 0   user_id             object \n",
      " 1   name                object \n",
      " 2   review_count        int64  \n",
      " 3   yelping_since       object \n",
      " 4   useful              int64  \n",
      " 5   funny               int64  \n",
      " 6   cool                int64  \n",
      " 7   elite               object \n",
      " 8   friends             object \n",
      " 9   fans                int64  \n",
      " 10  average_stars       float64\n",
      " 11  compliment_hot      int64  \n",
      " 12  compliment_more     int64  \n",
      " 13  compliment_profile  int64  \n",
      " 14  compliment_cute     int64  \n",
      " 15  compliment_list     int64  \n",
      " 16  compliment_note     int64  \n",
      " 17  compliment_plain    int64  \n",
      " 18  compliment_cool     int64  \n",
      " 19  compliment_funny    int64  \n",
      " 20  compliment_writer   int64  \n",
      " 21  compliment_photos   int64  \n",
      "dtypes: float64(1), int64(16), object(5)\n",
      "memory usage: 333.7+ MB\n"
     ]
    }
   ],
   "source": [
    "user_df.info()"
   ]
  },
  {
   "cell_type": "code",
   "execution_count": 5,
   "id": "20e7ab7a-6505-4942-ae73-71ffa9e975a0",
   "metadata": {},
   "outputs": [
    {
     "data": {
      "text/html": [
       "<div>\n",
       "<style scoped>\n",
       "    .dataframe tbody tr th:only-of-type {\n",
       "        vertical-align: middle;\n",
       "    }\n",
       "\n",
       "    .dataframe tbody tr th {\n",
       "        vertical-align: top;\n",
       "    }\n",
       "\n",
       "    .dataframe thead th {\n",
       "        text-align: right;\n",
       "    }\n",
       "</style>\n",
       "<table border=\"1\" class=\"dataframe\">\n",
       "  <thead>\n",
       "    <tr style=\"text-align: right;\">\n",
       "      <th></th>\n",
       "      <th>user_id</th>\n",
       "      <th>name</th>\n",
       "      <th>review_count</th>\n",
       "      <th>yelping_since</th>\n",
       "      <th>useful</th>\n",
       "      <th>funny</th>\n",
       "      <th>cool</th>\n",
       "      <th>elite</th>\n",
       "      <th>friends</th>\n",
       "      <th>fans</th>\n",
       "      <th>average_stars</th>\n",
       "      <th>compliment_hot</th>\n",
       "      <th>compliment_more</th>\n",
       "      <th>compliment_profile</th>\n",
       "      <th>compliment_cute</th>\n",
       "      <th>compliment_list</th>\n",
       "      <th>compliment_note</th>\n",
       "      <th>compliment_plain</th>\n",
       "      <th>compliment_cool</th>\n",
       "      <th>compliment_funny</th>\n",
       "      <th>compliment_writer</th>\n",
       "      <th>compliment_photos</th>\n",
       "    </tr>\n",
       "  </thead>\n",
       "  <tbody>\n",
       "    <tr>\n",
       "      <th>0</th>\n",
       "      <td>qVc8ODYU5SZjKXVBgXdI7w</td>\n",
       "      <td>Walker</td>\n",
       "      <td>585</td>\n",
       "      <td>2007-01-25 16:47:26</td>\n",
       "      <td>7217</td>\n",
       "      <td>1259</td>\n",
       "      <td>5994</td>\n",
       "      <td>2007</td>\n",
       "      <td>NSCy54eWehBJyZdG2iE84w, pe42u7DcCH2QmI81NX-8qA...</td>\n",
       "      <td>267</td>\n",
       "      <td>3.91</td>\n",
       "      <td>250</td>\n",
       "      <td>65</td>\n",
       "      <td>55</td>\n",
       "      <td>56</td>\n",
       "      <td>18</td>\n",
       "      <td>232</td>\n",
       "      <td>844</td>\n",
       "      <td>467</td>\n",
       "      <td>467</td>\n",
       "      <td>239</td>\n",
       "      <td>180</td>\n",
       "    </tr>\n",
       "    <tr>\n",
       "      <th>1</th>\n",
       "      <td>j14WgRoU_-2ZE1aw1dXrJg</td>\n",
       "      <td>Daniel</td>\n",
       "      <td>4333</td>\n",
       "      <td>2009-01-25 04:35:42</td>\n",
       "      <td>43091</td>\n",
       "      <td>13066</td>\n",
       "      <td>27281</td>\n",
       "      <td>2009,2010,2011,2012,2013,2014,2015,2016,2017,2...</td>\n",
       "      <td>ueRPE0CX75ePGMqOFVj6IQ, 52oH4DrRvzzl8wh5UXyU0A...</td>\n",
       "      <td>3138</td>\n",
       "      <td>3.74</td>\n",
       "      <td>1145</td>\n",
       "      <td>264</td>\n",
       "      <td>184</td>\n",
       "      <td>157</td>\n",
       "      <td>251</td>\n",
       "      <td>1847</td>\n",
       "      <td>7054</td>\n",
       "      <td>3131</td>\n",
       "      <td>3131</td>\n",
       "      <td>1521</td>\n",
       "      <td>1946</td>\n",
       "    </tr>\n",
       "    <tr>\n",
       "      <th>2</th>\n",
       "      <td>2WnXYQFK0hXEoTxPtV2zvg</td>\n",
       "      <td>Steph</td>\n",
       "      <td>665</td>\n",
       "      <td>2008-07-25 10:41:00</td>\n",
       "      <td>2086</td>\n",
       "      <td>1010</td>\n",
       "      <td>1003</td>\n",
       "      <td>2009,2010,2011,2012,2013</td>\n",
       "      <td>LuO3Bn4f3rlhyHIaNfTlnA, j9B4XdHUhDfTKVecyWQgyA...</td>\n",
       "      <td>52</td>\n",
       "      <td>3.32</td>\n",
       "      <td>89</td>\n",
       "      <td>13</td>\n",
       "      <td>10</td>\n",
       "      <td>17</td>\n",
       "      <td>3</td>\n",
       "      <td>66</td>\n",
       "      <td>96</td>\n",
       "      <td>119</td>\n",
       "      <td>119</td>\n",
       "      <td>35</td>\n",
       "      <td>18</td>\n",
       "    </tr>\n",
       "  </tbody>\n",
       "</table>\n",
       "</div>"
      ],
      "text/plain": [
       "                  user_id    name  review_count        yelping_since  useful  \\\n",
       "0  qVc8ODYU5SZjKXVBgXdI7w  Walker           585  2007-01-25 16:47:26    7217   \n",
       "1  j14WgRoU_-2ZE1aw1dXrJg  Daniel          4333  2009-01-25 04:35:42   43091   \n",
       "2  2WnXYQFK0hXEoTxPtV2zvg   Steph           665  2008-07-25 10:41:00    2086   \n",
       "\n",
       "   funny   cool                                              elite  \\\n",
       "0   1259   5994                                               2007   \n",
       "1  13066  27281  2009,2010,2011,2012,2013,2014,2015,2016,2017,2...   \n",
       "2   1010   1003                           2009,2010,2011,2012,2013   \n",
       "\n",
       "                                             friends  fans  average_stars  \\\n",
       "0  NSCy54eWehBJyZdG2iE84w, pe42u7DcCH2QmI81NX-8qA...   267           3.91   \n",
       "1  ueRPE0CX75ePGMqOFVj6IQ, 52oH4DrRvzzl8wh5UXyU0A...  3138           3.74   \n",
       "2  LuO3Bn4f3rlhyHIaNfTlnA, j9B4XdHUhDfTKVecyWQgyA...    52           3.32   \n",
       "\n",
       "   compliment_hot  compliment_more  compliment_profile  compliment_cute  \\\n",
       "0             250               65                  55               56   \n",
       "1            1145              264                 184              157   \n",
       "2              89               13                  10               17   \n",
       "\n",
       "   compliment_list  compliment_note  compliment_plain  compliment_cool  \\\n",
       "0               18              232               844              467   \n",
       "1              251             1847              7054             3131   \n",
       "2                3               66                96              119   \n",
       "\n",
       "   compliment_funny  compliment_writer  compliment_photos  \n",
       "0               467                239                180  \n",
       "1              3131               1521               1946  \n",
       "2               119                 35                 18  "
      ]
     },
     "execution_count": 5,
     "metadata": {},
     "output_type": "execute_result"
    }
   ],
   "source": [
    "user_df.head(3)"
   ]
  },
  {
   "cell_type": "markdown",
   "id": "e312b07c-498a-486e-bc1a-47051681c96b",
   "metadata": {},
   "source": [
    "### Filtering (keep only the reviewers from the processed review data)"
   ]
  },
  {
   "cell_type": "markdown",
   "id": "fa87b28d-eb6c-4cbe-bb2c-050fd4ab7768",
   "metadata": {},
   "source": [
    "Load cleaned review data:"
   ]
  },
  {
   "cell_type": "code",
   "execution_count": 6,
   "id": "6ac120f5-d03a-4bbf-a6c7-6333407d0f8d",
   "metadata": {},
   "outputs": [],
   "source": [
    "review_cleaned_df = pd.read_feather('data/yelp_review_cleaned.feather')"
   ]
  },
  {
   "cell_type": "code",
   "execution_count": 7,
   "id": "85c116a6-0e5e-453d-ba05-b9eeab19e685",
   "metadata": {},
   "outputs": [
    {
     "data": {
      "text/html": [
       "<div>\n",
       "<style scoped>\n",
       "    .dataframe tbody tr th:only-of-type {\n",
       "        vertical-align: middle;\n",
       "    }\n",
       "\n",
       "    .dataframe tbody tr th {\n",
       "        vertical-align: top;\n",
       "    }\n",
       "\n",
       "    .dataframe thead th {\n",
       "        text-align: right;\n",
       "    }\n",
       "</style>\n",
       "<table border=\"1\" class=\"dataframe\">\n",
       "  <thead>\n",
       "    <tr style=\"text-align: right;\">\n",
       "      <th></th>\n",
       "      <th>review_id</th>\n",
       "      <th>user_id</th>\n",
       "      <th>business_id</th>\n",
       "      <th>text</th>\n",
       "      <th>date</th>\n",
       "      <th>stars</th>\n",
       "      <th>useful</th>\n",
       "      <th>funny</th>\n",
       "      <th>cool</th>\n",
       "    </tr>\n",
       "  </thead>\n",
       "  <tbody>\n",
       "    <tr>\n",
       "      <th>0</th>\n",
       "      <td>KU_O5udG6zpxOg-VcAEodg</td>\n",
       "      <td>mh_-eMZ6K5RLWhZyISBhwA</td>\n",
       "      <td>XQfwVwDr-v0ZS3_CbbE5Xw</td>\n",
       "      <td>If you decide to eat here, just be aware it is...</td>\n",
       "      <td>2018-07-07 22:09:11</td>\n",
       "      <td>-0.577114</td>\n",
       "      <td>-0.36596</td>\n",
       "      <td>-0.184315</td>\n",
       "      <td>-0.229438</td>\n",
       "    </tr>\n",
       "  </tbody>\n",
       "</table>\n",
       "</div>"
      ],
      "text/plain": [
       "                review_id                 user_id             business_id  \\\n",
       "0  KU_O5udG6zpxOg-VcAEodg  mh_-eMZ6K5RLWhZyISBhwA  XQfwVwDr-v0ZS3_CbbE5Xw   \n",
       "\n",
       "                                                text                date  \\\n",
       "0  If you decide to eat here, just be aware it is... 2018-07-07 22:09:11   \n",
       "\n",
       "      stars   useful     funny      cool  \n",
       "0 -0.577114 -0.36596 -0.184315 -0.229438  "
      ]
     },
     "execution_count": 7,
     "metadata": {},
     "output_type": "execute_result"
    }
   ],
   "source": [
    "review_cleaned_df.head(1)"
   ]
  },
  {
   "cell_type": "code",
   "execution_count": 8,
   "id": "e2275401-2f6e-4a2b-9abe-31a992034faa",
   "metadata": {},
   "outputs": [],
   "source": [
    "user_filtered_df = user_df.loc[user_df['user_id'].isin(review_cleaned_df['user_id'])].copy()"
   ]
  },
  {
   "cell_type": "code",
   "execution_count": 9,
   "id": "27bf7a8c-13d1-4798-b9c6-10ef9178d56f",
   "metadata": {},
   "outputs": [],
   "source": [
    "del user_df  # save memory\n",
    "user_df = user_filtered_df"
   ]
  },
  {
   "cell_type": "code",
   "execution_count": 10,
   "id": "6ce1ef1b-d8fe-405f-bbab-686a96b13b3a",
   "metadata": {},
   "outputs": [
    {
     "data": {
      "text/html": [
       "<div>\n",
       "<style scoped>\n",
       "    .dataframe tbody tr th:only-of-type {\n",
       "        vertical-align: middle;\n",
       "    }\n",
       "\n",
       "    .dataframe tbody tr th {\n",
       "        vertical-align: top;\n",
       "    }\n",
       "\n",
       "    .dataframe thead th {\n",
       "        text-align: right;\n",
       "    }\n",
       "</style>\n",
       "<table border=\"1\" class=\"dataframe\">\n",
       "  <thead>\n",
       "    <tr style=\"text-align: right;\">\n",
       "      <th></th>\n",
       "      <th>user_id</th>\n",
       "      <th>name</th>\n",
       "      <th>review_count</th>\n",
       "      <th>yelping_since</th>\n",
       "      <th>useful</th>\n",
       "      <th>funny</th>\n",
       "      <th>cool</th>\n",
       "      <th>elite</th>\n",
       "      <th>friends</th>\n",
       "      <th>fans</th>\n",
       "      <th>average_stars</th>\n",
       "      <th>compliment_hot</th>\n",
       "      <th>compliment_more</th>\n",
       "      <th>compliment_profile</th>\n",
       "      <th>compliment_cute</th>\n",
       "      <th>compliment_list</th>\n",
       "      <th>compliment_note</th>\n",
       "      <th>compliment_plain</th>\n",
       "      <th>compliment_cool</th>\n",
       "      <th>compliment_funny</th>\n",
       "      <th>compliment_writer</th>\n",
       "      <th>compliment_photos</th>\n",
       "    </tr>\n",
       "  </thead>\n",
       "  <tbody>\n",
       "    <tr>\n",
       "      <th>0</th>\n",
       "      <td>qVc8ODYU5SZjKXVBgXdI7w</td>\n",
       "      <td>Walker</td>\n",
       "      <td>585</td>\n",
       "      <td>2007-01-25 16:47:26</td>\n",
       "      <td>7217</td>\n",
       "      <td>1259</td>\n",
       "      <td>5994</td>\n",
       "      <td>2007</td>\n",
       "      <td>NSCy54eWehBJyZdG2iE84w, pe42u7DcCH2QmI81NX-8qA...</td>\n",
       "      <td>267</td>\n",
       "      <td>3.91</td>\n",
       "      <td>250</td>\n",
       "      <td>65</td>\n",
       "      <td>55</td>\n",
       "      <td>56</td>\n",
       "      <td>18</td>\n",
       "      <td>232</td>\n",
       "      <td>844</td>\n",
       "      <td>467</td>\n",
       "      <td>467</td>\n",
       "      <td>239</td>\n",
       "      <td>180</td>\n",
       "    </tr>\n",
       "    <tr>\n",
       "      <th>1</th>\n",
       "      <td>j14WgRoU_-2ZE1aw1dXrJg</td>\n",
       "      <td>Daniel</td>\n",
       "      <td>4333</td>\n",
       "      <td>2009-01-25 04:35:42</td>\n",
       "      <td>43091</td>\n",
       "      <td>13066</td>\n",
       "      <td>27281</td>\n",
       "      <td>2009,2010,2011,2012,2013,2014,2015,2016,2017,2...</td>\n",
       "      <td>ueRPE0CX75ePGMqOFVj6IQ, 52oH4DrRvzzl8wh5UXyU0A...</td>\n",
       "      <td>3138</td>\n",
       "      <td>3.74</td>\n",
       "      <td>1145</td>\n",
       "      <td>264</td>\n",
       "      <td>184</td>\n",
       "      <td>157</td>\n",
       "      <td>251</td>\n",
       "      <td>1847</td>\n",
       "      <td>7054</td>\n",
       "      <td>3131</td>\n",
       "      <td>3131</td>\n",
       "      <td>1521</td>\n",
       "      <td>1946</td>\n",
       "    </tr>\n",
       "    <tr>\n",
       "      <th>2</th>\n",
       "      <td>2WnXYQFK0hXEoTxPtV2zvg</td>\n",
       "      <td>Steph</td>\n",
       "      <td>665</td>\n",
       "      <td>2008-07-25 10:41:00</td>\n",
       "      <td>2086</td>\n",
       "      <td>1010</td>\n",
       "      <td>1003</td>\n",
       "      <td>2009,2010,2011,2012,2013</td>\n",
       "      <td>LuO3Bn4f3rlhyHIaNfTlnA, j9B4XdHUhDfTKVecyWQgyA...</td>\n",
       "      <td>52</td>\n",
       "      <td>3.32</td>\n",
       "      <td>89</td>\n",
       "      <td>13</td>\n",
       "      <td>10</td>\n",
       "      <td>17</td>\n",
       "      <td>3</td>\n",
       "      <td>66</td>\n",
       "      <td>96</td>\n",
       "      <td>119</td>\n",
       "      <td>119</td>\n",
       "      <td>35</td>\n",
       "      <td>18</td>\n",
       "    </tr>\n",
       "  </tbody>\n",
       "</table>\n",
       "</div>"
      ],
      "text/plain": [
       "                  user_id    name  review_count        yelping_since  useful  \\\n",
       "0  qVc8ODYU5SZjKXVBgXdI7w  Walker           585  2007-01-25 16:47:26    7217   \n",
       "1  j14WgRoU_-2ZE1aw1dXrJg  Daniel          4333  2009-01-25 04:35:42   43091   \n",
       "2  2WnXYQFK0hXEoTxPtV2zvg   Steph           665  2008-07-25 10:41:00    2086   \n",
       "\n",
       "   funny   cool                                              elite  \\\n",
       "0   1259   5994                                               2007   \n",
       "1  13066  27281  2009,2010,2011,2012,2013,2014,2015,2016,2017,2...   \n",
       "2   1010   1003                           2009,2010,2011,2012,2013   \n",
       "\n",
       "                                             friends  fans  average_stars  \\\n",
       "0  NSCy54eWehBJyZdG2iE84w, pe42u7DcCH2QmI81NX-8qA...   267           3.91   \n",
       "1  ueRPE0CX75ePGMqOFVj6IQ, 52oH4DrRvzzl8wh5UXyU0A...  3138           3.74   \n",
       "2  LuO3Bn4f3rlhyHIaNfTlnA, j9B4XdHUhDfTKVecyWQgyA...    52           3.32   \n",
       "\n",
       "   compliment_hot  compliment_more  compliment_profile  compliment_cute  \\\n",
       "0             250               65                  55               56   \n",
       "1            1145              264                 184              157   \n",
       "2              89               13                  10               17   \n",
       "\n",
       "   compliment_list  compliment_note  compliment_plain  compliment_cool  \\\n",
       "0               18              232               844              467   \n",
       "1              251             1847              7054             3131   \n",
       "2                3               66                96              119   \n",
       "\n",
       "   compliment_funny  compliment_writer  compliment_photos  \n",
       "0               467                239                180  \n",
       "1              3131               1521               1946  \n",
       "2               119                 35                 18  "
      ]
     },
     "execution_count": 10,
     "metadata": {},
     "output_type": "execute_result"
    }
   ],
   "source": [
    "user_filtered_df.head(3)"
   ]
  },
  {
   "cell_type": "code",
   "execution_count": 11,
   "id": "6283c9f8-282d-493a-8b8d-b978d1e11125",
   "metadata": {},
   "outputs": [
    {
     "data": {
      "text/plain": [
       "(1532223, 22)"
      ]
     },
     "execution_count": 11,
     "metadata": {},
     "output_type": "execute_result"
    }
   ],
   "source": [
    "user_df.shape"
   ]
  },
  {
   "cell_type": "markdown",
   "id": "44a46c24-5c81-444c-95ff-68908c70578c",
   "metadata": {},
   "source": [
    "### Data Missingness"
   ]
  },
  {
   "cell_type": "code",
   "execution_count": 12,
   "id": "960d9be6-360b-4284-8a38-ddc67b76bafa",
   "metadata": {},
   "outputs": [
    {
     "data": {
      "text/plain": [
       "user_id               0\n",
       "name                  0\n",
       "review_count          0\n",
       "yelping_since         0\n",
       "useful                0\n",
       "funny                 0\n",
       "cool                  0\n",
       "elite                 0\n",
       "friends               0\n",
       "fans                  0\n",
       "average_stars         0\n",
       "compliment_hot        0\n",
       "compliment_more       0\n",
       "compliment_profile    0\n",
       "compliment_cute       0\n",
       "compliment_list       0\n",
       "compliment_note       0\n",
       "compliment_plain      0\n",
       "compliment_cool       0\n",
       "compliment_funny      0\n",
       "compliment_writer     0\n",
       "compliment_photos     0\n",
       "dtype: int64"
      ]
     },
     "execution_count": 12,
     "metadata": {},
     "output_type": "execute_result"
    }
   ],
   "source": [
    "user_df.isnull().sum()"
   ]
  },
  {
   "cell_type": "markdown",
   "id": "db983b22-c89d-4f44-8058-35b1d771e131",
   "metadata": {},
   "source": [
    "We observe no missing data."
   ]
  },
  {
   "cell_type": "markdown",
   "id": "54380afc-0667-46f8-975f-50e955fc7d87",
   "metadata": {},
   "source": [
    "### Feature Simplification"
   ]
  },
  {
   "cell_type": "markdown",
   "id": "7778c39b-fda7-4a97-b7c2-0176c83dc1df",
   "metadata": {},
   "source": [
    "We note that features `elite` and `friends` are lists of values. In the context of our model (recommendation system), the specific values do not matter that much, so we will aggretate the said variables by transforming them into counts. Aggregating instead of splitting can also potentially reduce overfitting."
   ]
  },
  {
   "cell_type": "code",
   "execution_count": 13,
   "id": "06ff1057-2cd6-4140-b4b4-d57fb2348b62",
   "metadata": {},
   "outputs": [],
   "source": [
    "user_df['elite_count'] = user_df['elite'].str.count(',') + 1\n",
    "user_df['friends_count'] = user_df['friends'].str.count(',') + 1"
   ]
  },
  {
   "cell_type": "code",
   "execution_count": 14,
   "id": "6c561fc3-be05-447a-b837-7f8b169599cd",
   "metadata": {},
   "outputs": [],
   "source": [
    "user_df.drop(['elite', 'friends'], axis=1, inplace=True)"
   ]
  },
  {
   "cell_type": "code",
   "execution_count": 15,
   "id": "f6346617-8399-4165-9afc-16edc6d34ca0",
   "metadata": {},
   "outputs": [
    {
     "data": {
      "text/html": [
       "<div>\n",
       "<style scoped>\n",
       "    .dataframe tbody tr th:only-of-type {\n",
       "        vertical-align: middle;\n",
       "    }\n",
       "\n",
       "    .dataframe tbody tr th {\n",
       "        vertical-align: top;\n",
       "    }\n",
       "\n",
       "    .dataframe thead th {\n",
       "        text-align: right;\n",
       "    }\n",
       "</style>\n",
       "<table border=\"1\" class=\"dataframe\">\n",
       "  <thead>\n",
       "    <tr style=\"text-align: right;\">\n",
       "      <th></th>\n",
       "      <th>elite_count</th>\n",
       "      <th>friends_count</th>\n",
       "    </tr>\n",
       "  </thead>\n",
       "  <tbody>\n",
       "    <tr>\n",
       "      <th>0</th>\n",
       "      <td>1</td>\n",
       "      <td>14995</td>\n",
       "    </tr>\n",
       "    <tr>\n",
       "      <th>1</th>\n",
       "      <td>14</td>\n",
       "      <td>4646</td>\n",
       "    </tr>\n",
       "    <tr>\n",
       "      <th>2</th>\n",
       "      <td>5</td>\n",
       "      <td>381</td>\n",
       "    </tr>\n",
       "  </tbody>\n",
       "</table>\n",
       "</div>"
      ],
      "text/plain": [
       "   elite_count  friends_count\n",
       "0            1          14995\n",
       "1           14           4646\n",
       "2            5            381"
      ]
     },
     "execution_count": 15,
     "metadata": {},
     "output_type": "execute_result"
    }
   ],
   "source": [
    "user_df.loc[:2, ['elite_count', 'friends_count']]"
   ]
  },
  {
   "cell_type": "markdown",
   "id": "2062de65-b1cf-4ba2-8d2a-735991638831",
   "metadata": {},
   "source": [
    "We will also convert `yelping_since` into `membership_days` for how long a user has been a member. We will use March 28, 2023 as the baseline \"today\":"
   ]
  },
  {
   "cell_type": "code",
   "execution_count": 16,
   "id": "657b5988-680e-4b9d-9f02-91892bb760af",
   "metadata": {},
   "outputs": [],
   "source": [
    "today = pd.to_datetime('2023-03-28')"
   ]
  },
  {
   "cell_type": "code",
   "execution_count": 17,
   "id": "8e57035b-2c51-4c0d-b2cf-151cfb474fbf",
   "metadata": {},
   "outputs": [
    {
     "data": {
      "text/plain": [
       "0    5905\n",
       "1    5174\n",
       "2    5358\n",
       "Name: membership_days, dtype: int64"
      ]
     },
     "execution_count": 17,
     "metadata": {},
     "output_type": "execute_result"
    }
   ],
   "source": [
    "user_df['membership_days'] = (today - pd.to_datetime(user_df['yelping_since'])).dt.days\n",
    "user_df['membership_days'].head(3)"
   ]
  },
  {
   "cell_type": "code",
   "execution_count": 18,
   "id": "440cc75e-eb1f-4d5e-bd2c-20df3e7078a0",
   "metadata": {},
   "outputs": [],
   "source": [
    "user_df.drop('yelping_since', axis=1, inplace=True)"
   ]
  },
  {
   "cell_type": "markdown",
   "id": "136ca750-0270-46ef-88cc-5d526e3e9197",
   "metadata": {},
   "source": [
    "### Feature Scaling"
   ]
  },
  {
   "cell_type": "markdown",
   "id": "a3ee86fd-452b-4efb-b64c-c5c5e40d3ce3",
   "metadata": {},
   "source": [
    "We will scale all numeric features:"
   ]
  },
  {
   "cell_type": "code",
   "execution_count": 19,
   "id": "fe81134e-bb37-43c1-a4a0-2cddccf13c6a",
   "metadata": {},
   "outputs": [
    {
     "data": {
      "text/plain": [
       "['review_count',\n",
       " 'useful',\n",
       " 'funny',\n",
       " 'cool',\n",
       " 'fans',\n",
       " 'average_stars',\n",
       " 'compliment_hot',\n",
       " 'compliment_more',\n",
       " 'compliment_profile',\n",
       " 'compliment_cute',\n",
       " 'compliment_list',\n",
       " 'compliment_note',\n",
       " 'compliment_plain',\n",
       " 'compliment_cool',\n",
       " 'compliment_funny',\n",
       " 'compliment_writer',\n",
       " 'compliment_photos',\n",
       " 'elite_count',\n",
       " 'friends_count',\n",
       " 'membership_days']"
      ]
     },
     "execution_count": 19,
     "metadata": {},
     "output_type": "execute_result"
    }
   ],
   "source": [
    "num_cols = user_df.columns[user_df.dtypes.apply(lambda x: x in ['int64', 'float64'])].to_list()\n",
    "num_cols"
   ]
  },
  {
   "cell_type": "code",
   "execution_count": 20,
   "id": "7a8f8638-8ebe-4881-a356-7143723a13b8",
   "metadata": {},
   "outputs": [],
   "source": [
    "scaler = StandardScaler()\n",
    "scaled = scaler.fit_transform(user_df.loc[:, num_cols])"
   ]
  },
  {
   "cell_type": "markdown",
   "id": "81180c76-8bfc-49f8-b841-2bccf012d7ec",
   "metadata": {},
   "source": [
    "Put scaled values back to original data frame:"
   ]
  },
  {
   "cell_type": "code",
   "execution_count": 21,
   "id": "433e06ba-b1ae-4126-bed3-c22fd99f3075",
   "metadata": {},
   "outputs": [],
   "source": [
    "# drop original features first\n",
    "user_df.drop(num_cols, axis=1, inplace=True)\n",
    "# put in scaled values\n",
    "user_clean_df = pd.concat([user_df, pd.DataFrame(scaled, columns=num_cols, index=user_df.index)], axis=1)"
   ]
  },
  {
   "cell_type": "code",
   "execution_count": 22,
   "id": "8b43173f-8586-49d9-aa2f-7d44f77ca5bb",
   "metadata": {},
   "outputs": [
    {
     "data": {
      "text/plain": [
       "(1532223, 22)"
      ]
     },
     "execution_count": 22,
     "metadata": {},
     "output_type": "execute_result"
    }
   ],
   "source": [
    "user_clean_df.shape"
   ]
  },
  {
   "cell_type": "code",
   "execution_count": 23,
   "id": "875286fa-fcbd-43e1-af48-62bc798e8aa1",
   "metadata": {},
   "outputs": [
    {
     "data": {
      "text/html": [
       "<div>\n",
       "<style scoped>\n",
       "    .dataframe tbody tr th:only-of-type {\n",
       "        vertical-align: middle;\n",
       "    }\n",
       "\n",
       "    .dataframe tbody tr th {\n",
       "        vertical-align: top;\n",
       "    }\n",
       "\n",
       "    .dataframe thead th {\n",
       "        text-align: right;\n",
       "    }\n",
       "</style>\n",
       "<table border=\"1\" class=\"dataframe\">\n",
       "  <thead>\n",
       "    <tr style=\"text-align: right;\">\n",
       "      <th></th>\n",
       "      <th>user_id</th>\n",
       "      <th>name</th>\n",
       "      <th>review_count</th>\n",
       "      <th>useful</th>\n",
       "      <th>funny</th>\n",
       "      <th>cool</th>\n",
       "      <th>fans</th>\n",
       "      <th>average_stars</th>\n",
       "      <th>compliment_hot</th>\n",
       "      <th>compliment_more</th>\n",
       "      <th>compliment_profile</th>\n",
       "      <th>compliment_cute</th>\n",
       "      <th>compliment_list</th>\n",
       "      <th>compliment_note</th>\n",
       "      <th>compliment_plain</th>\n",
       "      <th>compliment_cool</th>\n",
       "      <th>compliment_funny</th>\n",
       "      <th>compliment_writer</th>\n",
       "      <th>compliment_photos</th>\n",
       "      <th>elite_count</th>\n",
       "      <th>friends_count</th>\n",
       "      <th>membership_days</th>\n",
       "    </tr>\n",
       "  </thead>\n",
       "  <tbody>\n",
       "    <tr>\n",
       "      <th>0</th>\n",
       "      <td>qVc8ODYU5SZjKXVBgXdI7w</td>\n",
       "      <td>Walker</td>\n",
       "      <td>6.064810</td>\n",
       "      <td>9.945867</td>\n",
       "      <td>2.699783</td>\n",
       "      <td>9.392911</td>\n",
       "      <td>12.967617</td>\n",
       "      <td>0.197086</td>\n",
       "      <td>3.021775</td>\n",
       "      <td>4.490039</td>\n",
       "      <td>3.236180</td>\n",
       "      <td>4.362515</td>\n",
       "      <td>1.580633</td>\n",
       "      <td>3.388603</td>\n",
       "      <td>6.378814</td>\n",
       "      <td>4.315452</td>\n",
       "      <td>4.315452</td>\n",
       "      <td>6.666662</td>\n",
       "      <td>1.674484</td>\n",
       "      <td>-0.182042</td>\n",
       "      <td>96.049122</td>\n",
       "      <td>2.455114</td>\n",
       "    </tr>\n",
       "    <tr>\n",
       "      <th>1</th>\n",
       "      <td>j14WgRoU_-2ZE1aw1dXrJg</td>\n",
       "      <td>Daniel</td>\n",
       "      <td>46.827381</td>\n",
       "      <td>59.731661</td>\n",
       "      <td>28.437743</td>\n",
       "      <td>42.913078</td>\n",
       "      <td>153.332297</td>\n",
       "      <td>0.041537</td>\n",
       "      <td>13.935330</td>\n",
       "      <td>18.311122</td>\n",
       "      <td>10.856576</td>\n",
       "      <td>12.253229</td>\n",
       "      <td>22.129803</td>\n",
       "      <td>27.155924</td>\n",
       "      <td>53.516180</td>\n",
       "      <td>29.115568</td>\n",
       "      <td>29.115568</td>\n",
       "      <td>42.620595</td>\n",
       "      <td>18.240911</td>\n",
       "      <td>12.982835</td>\n",
       "      <td>29.506322</td>\n",
       "      <td>1.805462</td>\n",
       "    </tr>\n",
       "    <tr>\n",
       "      <th>2</th>\n",
       "      <td>2WnXYQFK0hXEoTxPtV2zvg</td>\n",
       "      <td>Steph</td>\n",
       "      <td>6.934875</td>\n",
       "      <td>2.825086</td>\n",
       "      <td>2.156990</td>\n",
       "      <td>1.533694</td>\n",
       "      <td>2.456155</td>\n",
       "      <td>-0.342759</td>\n",
       "      <td>1.058554</td>\n",
       "      <td>0.878500</td>\n",
       "      <td>0.577902</td>\n",
       "      <td>1.315606</td>\n",
       "      <td>0.257725</td>\n",
       "      <td>0.945646</td>\n",
       "      <td>0.701076</td>\n",
       "      <td>1.075797</td>\n",
       "      <td>1.075797</td>\n",
       "      <td>0.945443</td>\n",
       "      <td>0.154800</td>\n",
       "      <td>3.868690</td>\n",
       "      <td>2.082895</td>\n",
       "      <td>1.968986</td>\n",
       "    </tr>\n",
       "  </tbody>\n",
       "</table>\n",
       "</div>"
      ],
      "text/plain": [
       "                  user_id    name  review_count     useful      funny  \\\n",
       "0  qVc8ODYU5SZjKXVBgXdI7w  Walker      6.064810   9.945867   2.699783   \n",
       "1  j14WgRoU_-2ZE1aw1dXrJg  Daniel     46.827381  59.731661  28.437743   \n",
       "2  2WnXYQFK0hXEoTxPtV2zvg   Steph      6.934875   2.825086   2.156990   \n",
       "\n",
       "        cool        fans  average_stars  compliment_hot  compliment_more  \\\n",
       "0   9.392911   12.967617       0.197086        3.021775         4.490039   \n",
       "1  42.913078  153.332297       0.041537       13.935330        18.311122   \n",
       "2   1.533694    2.456155      -0.342759        1.058554         0.878500   \n",
       "\n",
       "   compliment_profile  compliment_cute  compliment_list  compliment_note  \\\n",
       "0            3.236180         4.362515         1.580633         3.388603   \n",
       "1           10.856576        12.253229        22.129803        27.155924   \n",
       "2            0.577902         1.315606         0.257725         0.945646   \n",
       "\n",
       "   compliment_plain  compliment_cool  compliment_funny  compliment_writer  \\\n",
       "0          6.378814         4.315452          4.315452           6.666662   \n",
       "1         53.516180        29.115568         29.115568          42.620595   \n",
       "2          0.701076         1.075797          1.075797           0.945443   \n",
       "\n",
       "   compliment_photos  elite_count  friends_count  membership_days  \n",
       "0           1.674484    -0.182042      96.049122         2.455114  \n",
       "1          18.240911    12.982835      29.506322         1.805462  \n",
       "2           0.154800     3.868690       2.082895         1.968986  "
      ]
     },
     "execution_count": 23,
     "metadata": {},
     "output_type": "execute_result"
    }
   ],
   "source": [
    "user_clean_df.head(3)"
   ]
  },
  {
   "cell_type": "markdown",
   "id": "8e3a692d-e849-4ad7-918c-8f2b5de8c18c",
   "metadata": {},
   "source": [
    "### Save Final Data Frame"
   ]
  },
  {
   "cell_type": "code",
   "execution_count": 24,
   "id": "7cc05a40-9ca9-4513-a25a-73b5ceb9eadd",
   "metadata": {},
   "outputs": [],
   "source": [
    "user_clean_df.reset_index(drop=True).to_feather('data/yelp_user_cleaned.feather')"
   ]
  },
  {
   "cell_type": "code",
   "execution_count": 25,
   "id": "0e4cb0a2-3c59-4aca-a77d-4f220f38a9d3",
   "metadata": {},
   "outputs": [
    {
     "data": {
      "text/plain": [
       "(1532223, 22)"
      ]
     },
     "execution_count": 25,
     "metadata": {},
     "output_type": "execute_result"
    }
   ],
   "source": [
    "user_clean_df.shape"
   ]
  },
  {
   "cell_type": "code",
   "execution_count": null,
   "id": "e223c4e3-22a4-4bec-93ee-07208e641bc9",
   "metadata": {},
   "outputs": [],
   "source": []
  }
 ],
 "metadata": {
  "kernelspec": {
   "display_name": "Python 3 (ipykernel)",
   "language": "python",
   "name": "python3"
  },
  "language_info": {
   "codemirror_mode": {
    "name": "ipython",
    "version": 3
   },
   "file_extension": ".py",
   "mimetype": "text/x-python",
   "name": "python",
   "nbconvert_exporter": "python",
   "pygments_lexer": "ipython3",
   "version": "3.10.9"
  }
 },
 "nbformat": 4,
 "nbformat_minor": 5
}
