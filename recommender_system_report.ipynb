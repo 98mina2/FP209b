{
 "cells": [
  {
   "attachments": {},
   "cell_type": "markdown",
   "id": "a4150e87",
   "metadata": {},
   "source": [
    "# Restaurant Recommender System\n",
    "\n",
    "**Authors**: Lyla Kiratiwudhikul, Mina Lee, Tom Zhang"
   ]
  },
  {
   "cell_type": "code",
   "execution_count": null,
   "id": "0bac5684",
   "metadata": {},
   "outputs": [],
   "source": [
    "from pprint import pprint\n",
    "\n",
    "import numpy as np\n",
    "import pandas as pd\n",
    "import seaborn as sns\n",
    "import matplotlib.pyplot as plt\n",
    "\n",
    "from surprise import Dataset, Reader, KNNWithMeans # pip install scikit-surprise\n",
    "from surprise.model_selection import GridSearchCV"
   ]
  },
  {
   "attachments": {},
   "cell_type": "markdown",
   "id": "5969f1a4",
   "metadata": {},
   "source": [
    "## Motivations and Objectives\n",
    "\n",
    "For the past few decades, with the fast growing market of digital platforms, \n",
    "companies have tried to customize the advertising of their products based on individual customers' preferences or interests. \n",
    "This practice has been utilized across various industries and companies, from the e-commerce site Amazon suggesting relevant products to the streaming platform Netflix recommending similar shows to their users' view history and profile. The recommendation systems help increase sales as the users are able to easily see and purchase recommended products that match their needs and preferences.\n",
    "\n",
    "In this project, we focus on devising a restaurant recommendation system (hereby referred to as “recommender”).\n",
    "We use data of restaurants and customer profiles from Yelp, a platform for crowd-sourced reviews about businesses.\n",
    "As an individual has unique restaurant preferences, such as cuisines, ambience, pets, diet types, and/or parking availability, we aim to build the recommender to recommend restaurants to users based on the insights gleaned from their reviews on the previous restaurants they have been to."
   ]
  },
  {
   "attachments": {},
   "cell_type": "markdown",
   "id": "a83c8336",
   "metadata": {},
   "source": [
    "## Data Overview\n",
    "\n",
    "The data is downloaded from [Yelp official website](https://www.yelp.com/dataset/documentation/main). There are two datasets relevant to our analysis and models: `business` and `review` data. The `business` dataset contains information about the businesses including name, location, hours, average rating stars, hours, number of reviews, and other features such as cuisine types and parking availability. The `review` dataset records full review text data as well as the `user_id` who wrote the review and the `business_id` for which the review was written. There are 150,346 businesses and 6,990,280 reviews in the Yelp original datasets. Below is the list of features in the two raw datasets:\n",
    "\n",
    "**Business:**\n",
    "- `business_id`: business’s ID, string\n",
    "- `name`: business’s name, string\n",
    "- `address`: business’s full address, string\n",
    "- `city`: business’s city, string\n",
    "- `state`: business’s state, string, 2 character state code, if applicable\n",
    "- `postal_code`: business’s postal code, string\n",
    "- `latitude`: business’s latitude, float\n",
    "- `longitude`: business’s longitude, float\n",
    "- `stars`: business’s average stars rating, float (ranging from 1 to 5, with 0.5 increment)\n",
    "- `review_count`: business’s number of reviews, integer\n",
    "- `is_open`\t: whether the business is open or closed; 0 or 1 for closed or open, integer\n",
    "- `attributes`: business’s features (e.g whether it offers parking, whether it accept credit cards, etc), JSON object\n",
    "- `categories`: business’s categories (e.g. “Mexican”, “Burger”, etc), array of strings\n",
    "- `hours`: business’s working hours, object of key day (Monday-Sunday) to value hours\n",
    "\n",
    "**Review:**\n",
    "- `review_id`: unique review ID, string\n",
    "- `user_id`: 22 character user’s ID, string\n",
    "- `business_id`: 22 character business’s ID, string\n",
    "- `stars`: business’s stars rating, integer (1 to 5)\n",
    "- `useful`: number of useful votes received, integer\n",
    "- `integer`: number of funny votes received, integer\n",
    "- `cool`: number of cool votes received, integer\t\n",
    "- `text`: review itself, string\n",
    "- `date`: date format YYYY-MM-DD, string\n",
    "\n",
    "\n",
    "\n"
   ]
  },
  {
   "attachments": {},
   "cell_type": "markdown",
   "id": "6ef6722d",
   "metadata": {},
   "source": [
    "### Data Preparation\n",
    "\n",
    "**Business:**\n",
    "\n",
    "As the main goal of this project is to build a recommender system that suggests top restaurants and their offerings based on user location, we have excluded the entries that are not classified as restaurants such as “spas”, “hotels”, and “hair salons” by dropping all rows whose `categories` do not contain any of the following keywords: “food”, “restaurant”, “bar”, “pubs”, “restaurant”, “tea”, and “coffee”. This has decreased the number of entries from 150,346 to 69,253.\n",
    "\n",
    "Further, we have expanded `attributes` columns based on the JSON objects given. The first attempt returned 39 new columns. However, some of the expanded features contained nested JSON objects, so we further expanded `BusinessParking`, `Ambience`, `DietaryRestrictons`, and `Music` features and concatenated them to the other attributes, resulting in final 62 columns.\n",
    "\n",
    "In addition, the missing values in original and newly created attributes based features are filled with `None`, indicating that the information is not available. We decided to impute the missing values this way instead of mode imputation method because there are users who might be indifferent regarding the missing attributes and those who are concerned about them (e.g. whether there is parking or not).\n",
    "\n",
    "For `hours`, an expansion of operating hour objects into seven days was performed first. For the 9,710 missing entries for hours, we imputed the operating hours with the modes of the dataset for businesses whose value for the hours column was completely missing and imputed with `\"closed\"` for businesses whose hours are available for only some days and are not provided for the other days (i.e. we assumed that these restaurants are closed on the missing days).\n",
    "\n",
    "Furthermore, there are a few states that have only one business in our dataset, which are not suitable for our recommender task, and we have, thus, decided to drop these states with only one business: North Carolina, Colorado, Hawaii, Montana, and South Dakota.\n",
    "\n",
    "The final dataset for the business records has a total of 84 features with 68,054 entries. The business dataset has a total of five numeric features (`latitude`, `longitude`, `stars`, `review_count`, `is_open`). However, since `is_open` is a binary feature and `latitude` and `longitude` are useful in their original states. Only `stars` and `review_count` have been standardized to prevent any potential bias from large scales.\n",
    "\n",
    "\n",
    "**Review:**\n",
    "\n",
    "For the review dataset, we have first filtered the dataset in accordance with the business dataset by filtering out reviews for irrelevant businesses (using `business_id`) that have been pre-processed out as described above. This has reduced the size of the review dataset from 6,990,280 to 5,257,329 entries. Since the review dataset do not have missing entries, no imputation or dropping related to missing values have been conducted. However, we have decided to standardize the numeric features (`stars`, `useful`, `funny`, `cool`) in the review dataset to prevent any larger scales dominating the analysis and leading to a biased result.\n",
    "\n",
    "Note: the code for data preparation can be found in `business_dat_inspect.ipynb` and `review_data_inspect.ipynb`."
   ]
  },
  {
   "attachments": {},
   "cell_type": "markdown",
   "id": "e0592271",
   "metadata": {},
   "source": [
    "## Exploratory Data Analysis\n",
    "\n",
    "After cleaning the business data as described above, there are 68,054 restaurant-type businesses and 5,257,329 user reviews left in the datasets. Figure 1 shows that the restaurants in the dataset are located in 12 states with over 23% of them in Pennsylvania.\n",
    "\n",
    "<figure>\n",
    "<figcaption><strong>Figure 1</strong></figcaption>\n",
    "<img src=\"Figures/map_numrecords_by_state.png\"  width=\"700\">\n",
    "</figure>"
   ]
  },
  {
   "cell_type": "markdown",
   "id": "c1ab3e3b",
   "metadata": {},
   "source": [
    "The average star (a rating ranging from 1 to 5 with 0.5 increment) of these restaurants is approximately 3.6 with around 75 reviews for each restaurant. "
   ]
  },
  {
   "cell_type": "code",
   "execution_count": 3,
   "id": "5d26eb36",
   "metadata": {},
   "outputs": [
    {
     "name": "stdout",
     "output_type": "stream",
     "text": [
      "There are 68054 business records with 84 total features.\n"
     ]
    },
    {
     "data": {
      "text/html": [
       "<div>\n",
       "<style scoped>\n",
       "    .dataframe tbody tr th:only-of-type {\n",
       "        vertical-align: middle;\n",
       "    }\n",
       "\n",
       "    .dataframe tbody tr th {\n",
       "        vertical-align: top;\n",
       "    }\n",
       "\n",
       "    .dataframe thead th {\n",
       "        text-align: right;\n",
       "    }\n",
       "</style>\n",
       "<table border=\"1\" class=\"dataframe\">\n",
       "  <thead>\n",
       "    <tr style=\"text-align: right;\">\n",
       "      <th></th>\n",
       "      <th>original_index</th>\n",
       "      <th>business_id</th>\n",
       "      <th>name</th>\n",
       "      <th>address</th>\n",
       "      <th>city</th>\n",
       "      <th>state</th>\n",
       "      <th>postal_code</th>\n",
       "      <th>latitude</th>\n",
       "      <th>longitude</th>\n",
       "      <th>stars</th>\n",
       "      <th>...</th>\n",
       "      <th>music_live</th>\n",
       "      <th>music_video</th>\n",
       "      <th>music_karaoke</th>\n",
       "      <th>hours_Monday</th>\n",
       "      <th>hours_Tuesday</th>\n",
       "      <th>hours_Wednesday</th>\n",
       "      <th>hours_Thursday</th>\n",
       "      <th>hours_Friday</th>\n",
       "      <th>hours_Saturday</th>\n",
       "      <th>hours_Sunday</th>\n",
       "    </tr>\n",
       "  </thead>\n",
       "  <tbody>\n",
       "    <tr>\n",
       "      <th>0</th>\n",
       "      <td>3</td>\n",
       "      <td>MTSW4McQd7CbVtyjqoe9mw</td>\n",
       "      <td>St Honore Pastries</td>\n",
       "      <td>935 Race St</td>\n",
       "      <td>Philadelphia</td>\n",
       "      <td>PA</td>\n",
       "      <td>19107</td>\n",
       "      <td>39.955505</td>\n",
       "      <td>-75.155564</td>\n",
       "      <td>4.0</td>\n",
       "      <td>...</td>\n",
       "      <td>None</td>\n",
       "      <td>None</td>\n",
       "      <td>None</td>\n",
       "      <td>7:0-20:0</td>\n",
       "      <td>7:0-20:0</td>\n",
       "      <td>7:0-20:0</td>\n",
       "      <td>7:0-20:0</td>\n",
       "      <td>7:0-21:0</td>\n",
       "      <td>7:0-21:0</td>\n",
       "      <td>7:0-21:0</td>\n",
       "    </tr>\n",
       "    <tr>\n",
       "      <th>1</th>\n",
       "      <td>4</td>\n",
       "      <td>mWMc6_wTdE0EUBKIGXDVfA</td>\n",
       "      <td>Perkiomen Valley Brewery</td>\n",
       "      <td>101 Walnut St</td>\n",
       "      <td>Green Lane</td>\n",
       "      <td>PA</td>\n",
       "      <td>18054</td>\n",
       "      <td>40.338183</td>\n",
       "      <td>-75.471659</td>\n",
       "      <td>4.5</td>\n",
       "      <td>...</td>\n",
       "      <td>None</td>\n",
       "      <td>None</td>\n",
       "      <td>None</td>\n",
       "      <td>closed</td>\n",
       "      <td>closed</td>\n",
       "      <td>14:0-22:0</td>\n",
       "      <td>16:0-22:0</td>\n",
       "      <td>12:0-22:0</td>\n",
       "      <td>12:0-22:0</td>\n",
       "      <td>12:0-18:0</td>\n",
       "    </tr>\n",
       "    <tr>\n",
       "      <th>2</th>\n",
       "      <td>5</td>\n",
       "      <td>CF33F8-E6oudUQ46HnavjQ</td>\n",
       "      <td>Sonic Drive-In</td>\n",
       "      <td>615 S Main St</td>\n",
       "      <td>Ashland City</td>\n",
       "      <td>TN</td>\n",
       "      <td>37015</td>\n",
       "      <td>36.269593</td>\n",
       "      <td>-87.058943</td>\n",
       "      <td>2.0</td>\n",
       "      <td>...</td>\n",
       "      <td>None</td>\n",
       "      <td>None</td>\n",
       "      <td>None</td>\n",
       "      <td>0:0-0:0</td>\n",
       "      <td>6:0-22:0</td>\n",
       "      <td>6:0-22:0</td>\n",
       "      <td>6:0-22:0</td>\n",
       "      <td>9:0-0:0</td>\n",
       "      <td>9:0-22:0</td>\n",
       "      <td>8:0-22:0</td>\n",
       "    </tr>\n",
       "  </tbody>\n",
       "</table>\n",
       "<p>3 rows × 84 columns</p>\n",
       "</div>"
      ],
      "text/plain": [
       "   original_index             business_id                      name  \\\n",
       "0               3  MTSW4McQd7CbVtyjqoe9mw        St Honore Pastries   \n",
       "1               4  mWMc6_wTdE0EUBKIGXDVfA  Perkiomen Valley Brewery   \n",
       "2               5  CF33F8-E6oudUQ46HnavjQ            Sonic Drive-In   \n",
       "\n",
       "         address          city state postal_code   latitude  longitude  stars  \\\n",
       "0    935 Race St  Philadelphia    PA       19107  39.955505 -75.155564    4.0   \n",
       "1  101 Walnut St    Green Lane    PA       18054  40.338183 -75.471659    4.5   \n",
       "2  615 S Main St  Ashland City    TN       37015  36.269593 -87.058943    2.0   \n",
       "\n",
       "   ...  music_live  music_video music_karaoke hours_Monday  hours_Tuesday  \\\n",
       "0  ...        None         None          None     7:0-20:0       7:0-20:0   \n",
       "1  ...        None         None          None       closed         closed   \n",
       "2  ...        None         None          None      0:0-0:0       6:0-22:0   \n",
       "\n",
       "  hours_Wednesday hours_Thursday hours_Friday hours_Saturday hours_Sunday  \n",
       "0        7:0-20:0       7:0-20:0     7:0-21:0       7:0-21:0     7:0-21:0  \n",
       "1       14:0-22:0      16:0-22:0    12:0-22:0      12:0-22:0    12:0-18:0  \n",
       "2        6:0-22:0       6:0-22:0      9:0-0:0       9:0-22:0     8:0-22:0  \n",
       "\n",
       "[3 rows x 84 columns]"
      ]
     },
     "metadata": {},
     "output_type": "display_data"
    },
    {
     "data": {
      "text/html": [
       "<div>\n",
       "<style scoped>\n",
       "    .dataframe tbody tr th:only-of-type {\n",
       "        vertical-align: middle;\n",
       "    }\n",
       "\n",
       "    .dataframe tbody tr th {\n",
       "        vertical-align: top;\n",
       "    }\n",
       "\n",
       "    .dataframe thead th {\n",
       "        text-align: right;\n",
       "    }\n",
       "</style>\n",
       "<table border=\"1\" class=\"dataframe\">\n",
       "  <thead>\n",
       "    <tr style=\"text-align: right;\">\n",
       "      <th></th>\n",
       "      <th>stars</th>\n",
       "      <th>review_count</th>\n",
       "    </tr>\n",
       "  </thead>\n",
       "  <tbody>\n",
       "    <tr>\n",
       "      <th>count</th>\n",
       "      <td>68054.000000</td>\n",
       "      <td>68054.000000</td>\n",
       "    </tr>\n",
       "    <tr>\n",
       "      <th>mean</th>\n",
       "      <td>3.563949</td>\n",
       "      <td>74.619861</td>\n",
       "    </tr>\n",
       "    <tr>\n",
       "      <th>std</th>\n",
       "      <td>0.851437</td>\n",
       "      <td>169.900997</td>\n",
       "    </tr>\n",
       "    <tr>\n",
       "      <th>min</th>\n",
       "      <td>1.000000</td>\n",
       "      <td>5.000000</td>\n",
       "    </tr>\n",
       "    <tr>\n",
       "      <th>25%</th>\n",
       "      <td>3.000000</td>\n",
       "      <td>11.000000</td>\n",
       "    </tr>\n",
       "    <tr>\n",
       "      <th>50%</th>\n",
       "      <td>3.500000</td>\n",
       "      <td>27.000000</td>\n",
       "    </tr>\n",
       "    <tr>\n",
       "      <th>75%</th>\n",
       "      <td>4.000000</td>\n",
       "      <td>73.000000</td>\n",
       "    </tr>\n",
       "    <tr>\n",
       "      <th>max</th>\n",
       "      <td>5.000000</td>\n",
       "      <td>7568.000000</td>\n",
       "    </tr>\n",
       "  </tbody>\n",
       "</table>\n",
       "</div>"
      ],
      "text/plain": [
       "              stars  review_count\n",
       "count  68054.000000  68054.000000\n",
       "mean       3.563949     74.619861\n",
       "std        0.851437    169.900997\n",
       "min        1.000000      5.000000\n",
       "25%        3.000000     11.000000\n",
       "50%        3.500000     27.000000\n",
       "75%        4.000000     73.000000\n",
       "max        5.000000   7568.000000"
      ]
     },
     "execution_count": 3,
     "metadata": {},
     "output_type": "execute_result"
    }
   ],
   "source": [
    "busi_df = pd.read_feather(\"data/yelp_business_cleaned.feather\")\n",
    "print(f\"There are {busi_df.shape[0]} business records with {busi_df.shape[1]} total features.\")\n",
    "display(busi_df.head(3))\n",
    "busi_df[['stars', 'review_count']].describe()"
   ]
  },
  {
   "attachments": {},
   "cell_type": "markdown",
   "id": "0d311e68",
   "metadata": {},
   "source": [
    "When looking at the distribution of rating stars, it is slightly left skewed with mode at $4.0$. On the other hand, the highly right skewed distribution of the number of reviews shown below indicates that a small number of restaurants are more popular than the others and have more reviews."
   ]
  },
  {
   "cell_type": "code",
   "execution_count": 7,
   "id": "4cec1317",
   "metadata": {},
   "outputs": [
    {
     "data": {
      "text/plain": [
       "Text(0, 0.5, 'Number of restaurants')"
      ]
     },
     "execution_count": 7,
     "metadata": {},
     "output_type": "execute_result"
    },
    {
     "data": {
      "image/png": "[encoded data removed]",
      "text/plain": [
       "<Figure size 1200x400 with 2 Axes>"
      ]
     },
     "metadata": {},
     "output_type": "display_data"
    }
   ],
   "source": [
    "fig, ax = plt.subplots(1, 2, figsize = (12, 4))\n",
    "sns.histplot(data = busi_df, x = 'review_count', \n",
    "             color = 'cornflowerblue', stat = 'percent',\n",
    "             log_scale = True, ax = ax[0])\n",
    "ax[0].set_title(\"Distribution of Number of Reviews\")\n",
    "ax[0].set_xlabel(\"Number of Reviews (log)\")\n",
    "\n",
    "sns.barplot(data = busi_df.groupby(['stars'])[['business_id']].agg('count').reset_index().astype({'stars': str}),\n",
    "            x = 'stars', \n",
    "            y = 'business_id',\n",
    "            color = 'cornflowerblue', ax = ax[1])\n",
    "ax[1].set_title(\"Distribution of Rating Stars\")\n",
    "ax[1].set_xlabel(\"Rating Stars\")\n",
    "ax[1].set_ylabel(\"Number of restaurants\")"
   ]
  },
  {
   "attachments": {},
   "cell_type": "markdown",
   "id": "4f156cb1",
   "metadata": {},
   "source": [
    "Still, not all of the restaurants in the dataset are still in operation. About 30% of the businesses have been closed. This fact has an important implication for our recommender system. We may use data from restaurants that are now closed during training to gain more insights into what users like and dislike. However, we will not recommend users to a closed restaurant. "
   ]
  },
  {
   "cell_type": "code",
   "execution_count": 12,
   "id": "1a60408f",
   "metadata": {},
   "outputs": [
    {
     "data": {
      "text/plain": [
       "Text(0, 0.5, 'Percentage (%)')"
      ]
     },
     "execution_count": 12,
     "metadata": {},
     "output_type": "execute_result"
    },
    {
     "data": {
      "image/png": "[encoded data removed]",
      "text/plain": [
       "<Figure size 300x300 with 1 Axes>"
      ]
     },
     "metadata": {},
     "output_type": "display_data"
    }
   ],
   "source": [
    "# proportion of businesses that are still in operation\n",
    "in_oper = busi_df['is_open'].value_counts(normalize = True, sort = True, dropna = False)\n",
    "in_oper = in_oper.to_frame().reset_index()\n",
    "in_oper.rename(columns = {'is_open': 'proportion', 'index' : 'in operation'}, inplace = True)\n",
    "in_oper['in operation'] = in_oper['in operation'].map({1: \"Yes\", 0: \"No\"})\n",
    "in_oper['proportion'] = in_oper['proportion'] * 100\n",
    "\n",
    "fig, ax = plt.subplots(figsize = (3, 3))\n",
    "sns.barplot(data = in_oper,\n",
    "            x = 'in operation', y = \"proportion\", \n",
    "            order = ['Yes', 'No'],\n",
    "            color = \"cornflowerblue\")\n",
    "plt.title(\"Proportion of businesses that are still in operation\")\n",
    "plt.xlabel(\"In Operation\")\n",
    "plt.ylabel(\"Percentage (%)\")"
   ]
  },
  {
   "attachments": {},
   "cell_type": "markdown",
   "id": "b61183a0",
   "metadata": {},
   "source": [
    "The following describes some characteristics of the restaurants in the dataset that users might weigh when choosing a restaurant and hence might be a critical aspect for our recommender system: \n",
    "- More than half of the restaurants price their services below $30 and there are a small number of high-end restaurants (pricing over $61).\n",
    "- In addition, for customers who have cars, over 60 percent of the restaurants indicate that they have at least one parking option (e.g. on street, parking lots, valet, etc.). \n",
    "- We believe that certain users have dietary restrictions and so we look at the special diet types that restaurants offer. The data shows that more than $99\\%$ of restaurants do not indicate their dietary accommodations on Yelp. Yet, for those whom we do have data, gluten-free, vegetarian, and vegan are the top 3 most available options. \n",
    "- There are only about $5\\%$ of restaurants that are dog-friendly. This feature might be important for dog owners who want to eat out and bring their dogs with them. \n",
    "\n",
    "Regardless, we must use these characteristics with caution as the information for the majority of businesses on our dataset is not available.\n"
   ]
  },
  {
   "cell_type": "code",
   "execution_count": 35,
   "id": "6e4188a9",
   "metadata": {},
   "outputs": [
    {
     "data": {
      "text/plain": [
       "Text(0, 0.5, 'Percentage (%)')"
      ]
     },
     "execution_count": 35,
     "metadata": {},
     "output_type": "execute_result"
    },
    {
     "data": {
      "image/png": "[encoded data removed]",
      "text/plain": [
       "<Figure size 1200x1000 with 4 Axes>"
      ]
     },
     "metadata": {},
     "output_type": "display_data"
    }
   ],
   "source": [
    "### Price ranges\n",
    "label_map = {\"1\": \"under $10\",\n",
    "             \"2\": \"$11-30\",\n",
    "             \"3\": \"$31-60\",\n",
    "             \"4\": \"over $61\",\n",
    "             \"None\": \"N/A\"}\n",
    "priceranges = busi_df['RestaurantsPriceRange2'].map(label_map).value_counts(normalize = True, sort = True, dropna = False)\n",
    "priceranges = priceranges.to_frame().reset_index()\n",
    "priceranges.rename(columns = {'RestaurantsPriceRange2': 'proportion', 'index' : 'price range'}, inplace = True)\n",
    "priceranges['proportion'] = priceranges['proportion'] * 100\n",
    "# priceranges\n",
    "\n",
    "busi_df['has_parking'] = busi_df[['parking_garage', 'parking_street', \n",
    "                        'parking_validated', 'parking_lot', \n",
    "                        'parking_valet']].replace({\"None\": np.nan,\n",
    "                                                \"True\": 1, \n",
    "                                                \"False\": 0}).max(axis = 1)\n",
    "parking_stat = busi_df['has_parking'].value_counts(dropna = False, normalize = True).to_frame().reset_index()\n",
    "parking_stat.rename(columns = {'has_parking': 'proportion', 'index' : 'has_parking'}, inplace = True)\n",
    "parking_stat['has_parking'] = parking_stat['has_parking'].map({1: \"Yes\", 0: \"No\"})\n",
    "parking_stat['has_parking'].fillna(\"N/A\", inplace = True)\n",
    "parking_stat['proportion'] = parking_stat['proportion'] * 100\n",
    "# parking_stat\n",
    "\n",
    "diets = busi_df[['diet_dairy-free', 'diet_gluten-free',\n",
    "                'diet_vegan', 'diet_kosher',\n",
    "                'diet_halal', 'diet_soy-free',\n",
    "                'diet_vegetarian']].replace({\"None\": np.nan,\n",
    "                                        \"True\": 1, \n",
    "                                        \"False\": 0})\n",
    "val_count_list = []\n",
    "for d in list(diets.columns):\n",
    "    count = diets[d].value_counts(dropna = False, normalize = True).to_frame()\n",
    "    val_count_list.append(count)\n",
    "diets_counts = pd.concat(val_count_list, axis = 1)\n",
    "diets_counts.reset_index(inplace = True)\n",
    "diets_counts['index'] = diets_counts['index'].map({1: \"Yes\", 0: \"No\"})\n",
    "diets_counts['index'].fillna(\"N/A\", inplace = True)\n",
    "diets_counts = diets_counts.melt(id_vars = ['index'], \n",
    "                                 var_name = \"diet type\",\n",
    "                                 value_name = 'proportion'\n",
    "                                 )\n",
    "diets_counts = diets_counts[diets_counts['index'] != \"N/A\"]\n",
    "diets_counts['proportion'] = diets_counts['proportion'] * 100\n",
    "diets_counts['diet type'] = diets_counts['diet type'].str.replace(\"diet_\", \"\")\n",
    "diets_counts.sort_values([\"index\", \"proportion\"], ascending = [False, False], inplace = True)\n",
    "# diets_counts\n",
    "\n",
    "dog_allow = busi_df['DogsAllowed'].value_counts(normalize = True, sort = True, dropna = False)\n",
    "dog_allow = dog_allow.to_frame().reset_index()\n",
    "dog_allow.rename(columns = {'DogsAllowed': 'proportion', 'index' : 'Allowing dogs'}, inplace = True)\n",
    "dog_allow['Allowing dogs'] = dog_allow['Allowing dogs'].map({\"True\": \"Yes\", \"False\": \"No\", \"None\": \"N/A\"})\n",
    "dog_allow['proportion'] = dog_allow['proportion'] * 100\n",
    "# dog_allow\n",
    "\n",
    "\n",
    "fig, ax = plt.subplots(2, 2, figsize = (12, 10))\n",
    "ax = ax.ravel()\n",
    "sns.barplot(data = priceranges,\n",
    "            y = 'price range', x = \"proportion\", \n",
    "            order = [\"under $10\", \"$11-30\", \"$31-60\", \"over $61\", \"N/A\"],\n",
    "            color = \"cornflowerblue\", ax = ax[0])\n",
    "ax[0].set_title(\"Proportion of businesses by Price Ranges\")\n",
    "ax[0].set_ylabel(\"Price Range\")\n",
    "ax[0].set_xlabel(\"Percentage (%)\")\n",
    "\n",
    "sns.barplot(data = parking_stat,\n",
    "            x = 'has_parking', y = \"proportion\",\n",
    "            color = \"cornflowerblue\", ax = ax[1])\n",
    "ax[1].set_title(\"Proportion of businesses by parking availability\")\n",
    "ax[1].set_xlabel(\"Parking Availability\")\n",
    "ax[1].set_ylabel(\"Percentage\")\n",
    "\n",
    "sns.barplot(data = diets_counts,\n",
    "            x = 'proportion', y = \"diet type\",\n",
    "            hue = 'index',\n",
    "            palette = [\"cornflowerblue\", \"wheat\"], ax = ax[2])\n",
    "ax[2].set_title(\"Proportion of special diet types offered\")\n",
    "ax[2].set_xlabel(\"Percentage (%)\")\n",
    "ax[2].set_ylabel(\"Diet Type\")\n",
    "ax[2].legend(title = \"\")\n",
    "\n",
    "sns.barplot(data = dog_allow[dog_allow['Allowing dogs'] != \"N/A\"],\n",
    "            x = 'Allowing dogs', y = \"proportion\", \n",
    "            order = ['Yes', 'No'],\n",
    "            color = \"cornflowerblue\", ax = ax[3])\n",
    "ax[3].set_title(\"Proportion of restaurants that allow dogs\")\n",
    "ax[3].set_xlabel(\"Allowing Dogs\")\n",
    "ax[3].set_ylabel(\"Percentage (%)\")"
   ]
  },
  {
   "attachments": {},
   "cell_type": "markdown",
   "id": "bbc8ff28",
   "metadata": {},
   "source": [
    "As for the 5,257,329 user review data, ..... TODO ......\n",
    "\n",
    "\n",
    "Note: check why there are negative stars in this dataset"
   ]
  },
  {
   "attachments": {},
   "cell_type": "markdown",
   "id": "064d949a-394c-4a65-b9cf-3c1f3f8805c4",
   "metadata": {},
   "source": [
    "## Baseline Model\n",
    "\n",
    "There are multiple ways to implement a recommendation system:\n",
    "\n",
    "- collaborative filtering\n",
    "- content-based filtering\n",
    "- hybrid\n",
    "\n",
    "In particular, collaborative filtering can be further divided into two types (a hyper-parameter):\n",
    "\n",
    "- user-based: find similar users based on ratings a user gave out\n",
    "- item-based: find similar items based on ratings given to an item\n",
    "\n",
    "In either case, the algorithm relies on a user-item matrix, in which the rows match the users and columns the items. From here, we can then make predictions after calculating similarities amongst the users or items. This is known as a memory-based approach. If we apply an extra step to reduce the sparse user-item matrix with matrix factorization, this would be called a model-based approach.\n",
    "\n",
    "For our baseline model, we will implement the memory-based collaborative filtering technique.\n",
    "\n",
    "We also need to install `scikit-surprise`, a recommendation system package: `pip install scikit-surprise`. One of its functions `KNNWithMeans` would be particularly useful here. It is a basic collaborative filtering algorithm, taking into account the mean ratings of each user."
   ]
  },
  {
   "cell_type": "markdown",
   "id": "0a41a5b7-c665-49ec-8a8a-7cd9d84d9619",
   "metadata": {},
   "source": [
    "## Prep Data"
   ]
  },
  {
   "cell_type": "markdown",
   "id": "da69063c-268a-4cd3-8e52-ddfbc06686cf",
   "metadata": {},
   "source": [
    "We require a data frame with 3 columns: user, item, rating; with each row corresponding to a user's rating for a particular restaurant."
   ]
  },
  {
   "cell_type": "code",
   "execution_count": 2,
   "id": "956d588e-0302-483b-ae84-e8983bd9ec15",
   "metadata": {},
   "outputs": [],
   "source": [
    "review_df = pd.read_feather('data/yelp_review_cleaned.feather')"
   ]
  },
  {
   "cell_type": "code",
   "execution_count": 3,
   "id": "58959566-d452-4fac-80d2-8cbdb9394d5b",
   "metadata": {},
   "outputs": [],
   "source": [
    "df = review_df.loc[:, ['user_id', 'business_id', 'stars']]"
   ]
  },
  {
   "cell_type": "markdown",
   "id": "6caf13ff-b70f-4bff-91c7-117fac56da49",
   "metadata": {},
   "source": [
    "Note that we previously scaled `stars`, so we will now un-scale it as we're now using it as our response:"
   ]
  },
  {
   "cell_type": "code",
   "execution_count": 4,
   "id": "40fe39f5-4ab5-41d2-b6ef-ca658eea0c11",
   "metadata": {},
   "outputs": [],
   "source": [
    "stars_scaled_unique = sorted(list(df['stars'].unique()))"
   ]
  },
  {
   "cell_type": "code",
   "execution_count": 5,
   "id": "91d465f4-d1c0-42fb-a26f-65abe81963b9",
   "metadata": {},
   "outputs": [
    {
     "data": {
      "text/plain": [
       "{-2.0123613662910693: 1,\n",
       " -1.2947376560318022: 2,\n",
       " -0.5771139457725354: 3,\n",
       " 0.1405097644867315: 4,\n",
       " 0.8581334747459984: 5}"
      ]
     },
     "execution_count": 5,
     "metadata": {},
     "output_type": "execute_result"
    }
   ],
   "source": [
    "stars_scale_map = dict(list(zip(stars_scaled_unique, range(1, 6))))\n",
    "stars_scale_map"
   ]
  },
  {
   "cell_type": "code",
   "execution_count": 6,
   "id": "1690f452-3d40-4c98-ab50-3ce39ec3b852",
   "metadata": {},
   "outputs": [],
   "source": [
    "df['stars'] = df['stars'].map(stars_scale_map)"
   ]
  },
  {
   "cell_type": "code",
   "execution_count": 7,
   "id": "a9b5bbf1-ae65-4d7d-8906-dfd629cd10c2",
   "metadata": {},
   "outputs": [
    {
     "data": {
      "text/plain": [
       "array([3, 5, 4, 1, 2])"
      ]
     },
     "execution_count": 7,
     "metadata": {},
     "output_type": "execute_result"
    }
   ],
   "source": [
    "df.stars.unique()"
   ]
  },
  {
   "cell_type": "markdown",
   "id": "af2cb1e2-e05a-489b-8c00-9fe90b7a14f7",
   "metadata": {},
   "source": [
    "We will take a smaller random sample out of concerns for the hardware:"
   ]
  },
  {
   "cell_type": "code",
   "execution_count": 8,
   "id": "959c9c23-ad08-4341-ba6e-fae55e10414c",
   "metadata": {},
   "outputs": [
    {
     "data": {
      "text/plain": [
       "(5257329, 3)"
      ]
     },
     "execution_count": 8,
     "metadata": {},
     "output_type": "execute_result"
    }
   ],
   "source": [
    "df.shape"
   ]
  },
  {
   "cell_type": "code",
   "execution_count": 9,
   "id": "14e00028-ac4d-41e0-8c67-296bb431a187",
   "metadata": {},
   "outputs": [],
   "source": [
    "sub = df.sample(10000, random_state=42)"
   ]
  },
  {
   "cell_type": "code",
   "execution_count": 10,
   "id": "9ce94772-92bc-4b8b-9e8b-44343645c61c",
   "metadata": {},
   "outputs": [
    {
     "data": {
      "text/html": [
       "<div>\n",
       "<style scoped>\n",
       "    .dataframe tbody tr th:only-of-type {\n",
       "        vertical-align: middle;\n",
       "    }\n",
       "\n",
       "    .dataframe tbody tr th {\n",
       "        vertical-align: top;\n",
       "    }\n",
       "\n",
       "    .dataframe thead th {\n",
       "        text-align: right;\n",
       "    }\n",
       "</style>\n",
       "<table border=\"1\" class=\"dataframe\">\n",
       "  <thead>\n",
       "    <tr style=\"text-align: right;\">\n",
       "      <th></th>\n",
       "      <th>user_id</th>\n",
       "      <th>business_id</th>\n",
       "      <th>stars</th>\n",
       "    </tr>\n",
       "  </thead>\n",
       "  <tbody>\n",
       "    <tr>\n",
       "      <th>1322294</th>\n",
       "      <td>0lpxU4Dfi8AeBt0SeCrEuw</td>\n",
       "      <td>tQKqrLs16Xi-lFrd3_CBAQ</td>\n",
       "      <td>1</td>\n",
       "    </tr>\n",
       "    <tr>\n",
       "      <th>4297632</th>\n",
       "      <td>5nw1Zc3fi_ehDJFd3mUEYA</td>\n",
       "      <td>nLxNJuvgoHQHn_IGYifRnw</td>\n",
       "      <td>1</td>\n",
       "    </tr>\n",
       "    <tr>\n",
       "      <th>2143059</th>\n",
       "      <td>7fDqaGdUMccXQ4bnPwR6yg</td>\n",
       "      <td>etaIhl-sduOKc6J_qHmmtA</td>\n",
       "      <td>3</td>\n",
       "    </tr>\n",
       "    <tr>\n",
       "      <th>3068250</th>\n",
       "      <td>GyFJNSJjI5aWww-D0Btcbw</td>\n",
       "      <td>GlKffg2PMtzByocI5OHIQA</td>\n",
       "      <td>3</td>\n",
       "    </tr>\n",
       "    <tr>\n",
       "      <th>1371839</th>\n",
       "      <td>o66iBwIWxfWPypnqfrHVNw</td>\n",
       "      <td>XVFUNtPWYpxhoWPtBQHFdQ</td>\n",
       "      <td>2</td>\n",
       "    </tr>\n",
       "  </tbody>\n",
       "</table>\n",
       "</div>"
      ],
      "text/plain": [
       "                        user_id             business_id  stars\n",
       "1322294  0lpxU4Dfi8AeBt0SeCrEuw  tQKqrLs16Xi-lFrd3_CBAQ      1\n",
       "4297632  5nw1Zc3fi_ehDJFd3mUEYA  nLxNJuvgoHQHn_IGYifRnw      1\n",
       "2143059  7fDqaGdUMccXQ4bnPwR6yg  etaIhl-sduOKc6J_qHmmtA      3\n",
       "3068250  GyFJNSJjI5aWww-D0Btcbw  GlKffg2PMtzByocI5OHIQA      3\n",
       "1371839  o66iBwIWxfWPypnqfrHVNw  XVFUNtPWYpxhoWPtBQHFdQ      2"
      ]
     },
     "execution_count": 10,
     "metadata": {},
     "output_type": "execute_result"
    }
   ],
   "source": [
    "sub.head()"
   ]
  },
  {
   "cell_type": "markdown",
   "id": "92799140-a065-4cb4-8f4f-2557adbf6bee",
   "metadata": {},
   "source": [
    "## Build Recommender"
   ]
  },
  {
   "cell_type": "markdown",
   "id": "ba377d19-2502-490b-b456-d967de6150dd",
   "metadata": {},
   "source": [
    "Test: Collaborative filtering (item-based matrix, memory-based method, cosine-similarity):"
   ]
  },
  {
   "cell_type": "code",
   "execution_count": 11,
   "id": "12bb5d35-fa5d-465e-9ce9-0a304aab4071",
   "metadata": {},
   "outputs": [],
   "source": [
    "# load in data into scikit-surprise format\n",
    "reader = Reader(rating_scale=(1, 5))\n",
    "data = Dataset.load_from_df(sub, reader)"
   ]
  },
  {
   "cell_type": "code",
   "execution_count": 12,
   "id": "96c9ba4b-8fce-4c55-945e-85040e25da20",
   "metadata": {},
   "outputs": [],
   "source": [
    "# configs\n",
    "sim_options = {\n",
    "    \"name\": \"cosine\",  # to use item-based cosine similarity\n",
    "    \"user_based\": False,  # Compute similarities between items\n",
    "}\n",
    "\n",
    "algo = KNNWithMeans(sim_options=sim_options)"
   ]
  },
  {
   "cell_type": "code",
   "execution_count": 13,
   "id": "4b634980-3ffe-42bd-94fa-1f0cf80e36d3",
   "metadata": {},
   "outputs": [],
   "source": [
    "trainingSet = data.build_full_trainset()"
   ]
  },
  {
   "cell_type": "code",
   "execution_count": 14,
   "id": "c7a7dcd0-7698-411c-b202-68d2e39af8e4",
   "metadata": {},
   "outputs": [
    {
     "name": "stdout",
     "output_type": "stream",
     "text": [
      "Computing the cosine similarity matrix...\n",
      "Done computing similarity matrix.\n"
     ]
    },
    {
     "data": {
      "text/plain": [
       "<surprise.prediction_algorithms.knns.KNNWithMeans at 0x3baeb9cc0>"
      ]
     },
     "execution_count": 14,
     "metadata": {},
     "output_type": "execute_result"
    }
   ],
   "source": [
    "algo.fit(trainingSet)"
   ]
  },
  {
   "cell_type": "code",
   "execution_count": 15,
   "id": "3cc8fe84-78cd-4c5a-bfd5-885fc0a74c63",
   "metadata": {},
   "outputs": [
    {
     "data": {
      "text/plain": [
       "2.0"
      ]
     },
     "execution_count": 15,
     "metadata": {},
     "output_type": "execute_result"
    }
   ],
   "source": [
    "prediction = algo.predict(sub.iloc[4, 0], sub.iloc[4, 1])\n",
    "prediction.est"
   ]
  },
  {
   "cell_type": "markdown",
   "id": "c356da20-c298-405a-894f-fa895d1d35ce",
   "metadata": {},
   "source": [
    "Now incorporate hyper-parameter tuning with grid search:"
   ]
  },
  {
   "cell_type": "code",
   "execution_count": 16,
   "id": "36420f5c-5f15-496f-8862-981f78877f60",
   "metadata": {},
   "outputs": [],
   "source": [
    "sim_options = {\n",
    "    \"name\": [\"msd\", \"cosine\"],\n",
    "    \"min_support\": [3, 4, 5],\n",
    "    \"user_based\": [False, True],\n",
    "}\n",
    "\n",
    "param_grid = {\"sim_options\": sim_options}"
   ]
  },
  {
   "cell_type": "code",
   "execution_count": 17,
   "id": "2f63ed71-b730-4bb2-8fb7-8a7ce08f3451",
   "metadata": {},
   "outputs": [
    {
     "name": "stdout",
     "output_type": "stream",
     "text": [
      "Computing the msd similarity matrix...\n",
      "Done computing similarity matrix.\n",
      "Computing the msd similarity matrix...\n",
      "Done computing similarity matrix.\n",
      "Computing the msd similarity matrix...\n",
      "Done computing similarity matrix.\n",
      "Computing the msd similarity matrix...\n",
      "Done computing similarity matrix.\n",
      "Computing the msd similarity matrix...\n",
      "Done computing similarity matrix.\n",
      "Computing the msd similarity matrix...\n",
      "Done computing similarity matrix.\n",
      "Computing the msd similarity matrix...\n",
      "Done computing similarity matrix.\n",
      "Computing the msd similarity matrix...\n",
      "Done computing similarity matrix.\n",
      "Computing the msd similarity matrix...\n",
      "Done computing similarity matrix.\n",
      "Computing the msd similarity matrix...\n",
      "Done computing similarity matrix.\n",
      "Computing the msd similarity matrix...\n",
      "Done computing similarity matrix.\n",
      "Computing the msd similarity matrix...\n",
      "Done computing similarity matrix.\n",
      "Computing the msd similarity matrix...\n",
      "Done computing similarity matrix.\n",
      "Computing the msd similarity matrix...\n",
      "Done computing similarity matrix.\n",
      "Computing the msd similarity matrix...\n",
      "Done computing similarity matrix.\n",
      "Computing the msd similarity matrix...\n",
      "Done computing similarity matrix.\n",
      "Computing the msd similarity matrix...\n",
      "Done computing similarity matrix.\n",
      "Computing the msd similarity matrix...\n",
      "Done computing similarity matrix.\n",
      "Computing the cosine similarity matrix...\n",
      "Done computing similarity matrix.\n",
      "Computing the cosine similarity matrix...\n",
      "Done computing similarity matrix.\n",
      "Computing the cosine similarity matrix...\n",
      "Done computing similarity matrix.\n",
      "Computing the cosine similarity matrix...\n",
      "Done computing similarity matrix.\n",
      "Computing the cosine similarity matrix...\n",
      "Done computing similarity matrix.\n",
      "Computing the cosine similarity matrix...\n",
      "Done computing similarity matrix.\n",
      "Computing the cosine similarity matrix...\n",
      "Done computing similarity matrix.\n",
      "Computing the cosine similarity matrix...\n",
      "Done computing similarity matrix.\n",
      "Computing the cosine similarity matrix...\n",
      "Done computing similarity matrix.\n",
      "Computing the cosine similarity matrix...\n",
      "Done computing similarity matrix.\n",
      "Computing the cosine similarity matrix...\n",
      "Done computing similarity matrix.\n",
      "Computing the cosine similarity matrix...\n",
      "Done computing similarity matrix.\n",
      "Computing the cosine similarity matrix...\n",
      "Done computing similarity matrix.\n",
      "Computing the cosine similarity matrix...\n",
      "Done computing similarity matrix.\n",
      "Computing the cosine similarity matrix...\n",
      "Done computing similarity matrix.\n",
      "Computing the cosine similarity matrix...\n",
      "Done computing similarity matrix.\n",
      "Computing the cosine similarity matrix...\n",
      "Done computing similarity matrix.\n",
      "Computing the cosine similarity matrix...\n",
      "Done computing similarity matrix.\n"
     ]
    }
   ],
   "source": [
    "gs = GridSearchCV(KNNWithMeans, param_grid, measures=[\"rmse\", \"mae\"], cv=3)\n",
    "gs.fit(data)"
   ]
  },
  {
   "cell_type": "code",
   "execution_count": 22,
   "id": "e68e3dcd-bb6f-46cd-bda8-d599fea6b715",
   "metadata": {},
   "outputs": [
    {
     "name": "stdout",
     "output_type": "stream",
     "text": [
      "best rmse: 1.4087381876138967\n",
      "best params: {'sim_options': {'name': 'msd', 'min_support': 3, 'user_based': True}}\n"
     ]
    }
   ],
   "source": [
    "print(f'best rmse: {gs.best_score[\"rmse\"]}')\n",
    "print(f'best params: {gs.best_params[\"rmse\"]}')"
   ]
  },
  {
   "cell_type": "markdown",
   "id": "0c0b7b22-6e49-4189-b48e-da7d3f9d6ab6",
   "metadata": {},
   "source": [
    "## Up Next"
   ]
  },
  {
   "cell_type": "markdown",
   "id": "87455c07-c7ad-49c1-ba46-42a0f7188686",
   "metadata": {},
   "source": [
    "- Test model-based approach in collaborative filtering\n",
    "- Test content-based recommenders\n",
    "- Use more complex models such as neural networks rather than just cosine similarities"
   ]
  }
 ],
 "metadata": {
  "kernelspec": {
   "display_name": "ds_harvard",
   "language": "python",
   "name": "python3"
  },
  "language_info": {
   "codemirror_mode": {
    "name": "ipython",
    "version": 3
   },
   "file_extension": ".py",
   "mimetype": "text/x-python",
   "name": "python",
   "nbconvert_exporter": "python",
   "pygments_lexer": "ipython3",
   "version": "3.10.9"
  },
  "vscode": {
   "interpreter": {
    "hash": "8c825be55757a755ec7f5c4bfe234e5c4b54b398decb7368d4d838abb1da92b6"
   }
  }
 },
 "nbformat": 4,
 "nbformat_minor": 5
}
