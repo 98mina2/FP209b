{
 "cells": [
  {
   "attachments": {},
   "cell_type": "markdown",
   "metadata": {},
   "source": [
    "# Data Analysis on Yelp Business Dataset"
   ]
  },
  {
   "cell_type": "code",
   "execution_count": 7,
   "metadata": {},
   "outputs": [],
   "source": [
    "from pprint import pprint\n",
    "\n",
    "import numpy as np\n",
    "import pandas as pd\n",
    "import seaborn as sns\n",
    "import matplotlib.pyplot as plt"
   ]
  },
  {
   "attachments": {},
   "cell_type": "markdown",
   "metadata": {},
   "source": [
    "Import the cleaned Business data:"
   ]
  },
  {
   "cell_type": "code",
   "execution_count": 2,
   "metadata": {},
   "outputs": [
    {
     "name": "stdout",
     "output_type": "stream",
     "text": [
      "There are 68054 business records left with 84 total features.\n"
     ]
    },
    {
     "data": {
      "text/html": [
       "<div>\n",
       "<style scoped>\n",
       "    .dataframe tbody tr th:only-of-type {\n",
       "        vertical-align: middle;\n",
       "    }\n",
       "\n",
       "    .dataframe tbody tr th {\n",
       "        vertical-align: top;\n",
       "    }\n",
       "\n",
       "    .dataframe thead th {\n",
       "        text-align: right;\n",
       "    }\n",
       "</style>\n",
       "<table border=\"1\" class=\"dataframe\">\n",
       "  <thead>\n",
       "    <tr style=\"text-align: right;\">\n",
       "      <th></th>\n",
       "      <th>original_index</th>\n",
       "      <th>business_id</th>\n",
       "      <th>name</th>\n",
       "      <th>address</th>\n",
       "      <th>city</th>\n",
       "      <th>state</th>\n",
       "      <th>postal_code</th>\n",
       "      <th>latitude</th>\n",
       "      <th>longitude</th>\n",
       "      <th>stars</th>\n",
       "      <th>...</th>\n",
       "      <th>music_live</th>\n",
       "      <th>music_video</th>\n",
       "      <th>music_karaoke</th>\n",
       "      <th>hours_Monday</th>\n",
       "      <th>hours_Tuesday</th>\n",
       "      <th>hours_Wednesday</th>\n",
       "      <th>hours_Thursday</th>\n",
       "      <th>hours_Friday</th>\n",
       "      <th>hours_Saturday</th>\n",
       "      <th>hours_Sunday</th>\n",
       "    </tr>\n",
       "  </thead>\n",
       "  <tbody>\n",
       "    <tr>\n",
       "      <th>0</th>\n",
       "      <td>3</td>\n",
       "      <td>MTSW4McQd7CbVtyjqoe9mw</td>\n",
       "      <td>St Honore Pastries</td>\n",
       "      <td>935 Race St</td>\n",
       "      <td>Philadelphia</td>\n",
       "      <td>PA</td>\n",
       "      <td>19107</td>\n",
       "      <td>39.955505</td>\n",
       "      <td>-75.155564</td>\n",
       "      <td>4.0</td>\n",
       "      <td>...</td>\n",
       "      <td>None</td>\n",
       "      <td>None</td>\n",
       "      <td>None</td>\n",
       "      <td>7:0-20:0</td>\n",
       "      <td>7:0-20:0</td>\n",
       "      <td>7:0-20:0</td>\n",
       "      <td>7:0-20:0</td>\n",
       "      <td>7:0-21:0</td>\n",
       "      <td>7:0-21:0</td>\n",
       "      <td>7:0-21:0</td>\n",
       "    </tr>\n",
       "    <tr>\n",
       "      <th>1</th>\n",
       "      <td>4</td>\n",
       "      <td>mWMc6_wTdE0EUBKIGXDVfA</td>\n",
       "      <td>Perkiomen Valley Brewery</td>\n",
       "      <td>101 Walnut St</td>\n",
       "      <td>Green Lane</td>\n",
       "      <td>PA</td>\n",
       "      <td>18054</td>\n",
       "      <td>40.338183</td>\n",
       "      <td>-75.471659</td>\n",
       "      <td>4.5</td>\n",
       "      <td>...</td>\n",
       "      <td>None</td>\n",
       "      <td>None</td>\n",
       "      <td>None</td>\n",
       "      <td>closed</td>\n",
       "      <td>closed</td>\n",
       "      <td>14:0-22:0</td>\n",
       "      <td>16:0-22:0</td>\n",
       "      <td>12:0-22:0</td>\n",
       "      <td>12:0-22:0</td>\n",
       "      <td>12:0-18:0</td>\n",
       "    </tr>\n",
       "    <tr>\n",
       "      <th>2</th>\n",
       "      <td>5</td>\n",
       "      <td>CF33F8-E6oudUQ46HnavjQ</td>\n",
       "      <td>Sonic Drive-In</td>\n",
       "      <td>615 S Main St</td>\n",
       "      <td>Ashland City</td>\n",
       "      <td>TN</td>\n",
       "      <td>37015</td>\n",
       "      <td>36.269593</td>\n",
       "      <td>-87.058943</td>\n",
       "      <td>2.0</td>\n",
       "      <td>...</td>\n",
       "      <td>None</td>\n",
       "      <td>None</td>\n",
       "      <td>None</td>\n",
       "      <td>0:0-0:0</td>\n",
       "      <td>6:0-22:0</td>\n",
       "      <td>6:0-22:0</td>\n",
       "      <td>6:0-22:0</td>\n",
       "      <td>9:0-0:0</td>\n",
       "      <td>9:0-22:0</td>\n",
       "      <td>8:0-22:0</td>\n",
       "    </tr>\n",
       "  </tbody>\n",
       "</table>\n",
       "<p>3 rows × 84 columns</p>\n",
       "</div>"
      ],
      "text/plain": [
       "   original_index             business_id                      name  \\\n",
       "0               3  MTSW4McQd7CbVtyjqoe9mw        St Honore Pastries   \n",
       "1               4  mWMc6_wTdE0EUBKIGXDVfA  Perkiomen Valley Brewery   \n",
       "2               5  CF33F8-E6oudUQ46HnavjQ            Sonic Drive-In   \n",
       "\n",
       "         address          city state postal_code   latitude  longitude  stars  \\\n",
       "0    935 Race St  Philadelphia    PA       19107  39.955505 -75.155564    4.0   \n",
       "1  101 Walnut St    Green Lane    PA       18054  40.338183 -75.471659    4.5   \n",
       "2  615 S Main St  Ashland City    TN       37015  36.269593 -87.058943    2.0   \n",
       "\n",
       "   ...  music_live  music_video music_karaoke hours_Monday  hours_Tuesday  \\\n",
       "0  ...        None         None          None     7:0-20:0       7:0-20:0   \n",
       "1  ...        None         None          None       closed         closed   \n",
       "2  ...        None         None          None      0:0-0:0       6:0-22:0   \n",
       "\n",
       "  hours_Wednesday hours_Thursday hours_Friday hours_Saturday hours_Sunday  \n",
       "0        7:0-20:0       7:0-20:0     7:0-21:0       7:0-21:0     7:0-21:0  \n",
       "1       14:0-22:0      16:0-22:0    12:0-22:0      12:0-22:0    12:0-18:0  \n",
       "2        6:0-22:0       6:0-22:0      9:0-0:0       9:0-22:0     8:0-22:0  \n",
       "\n",
       "[3 rows x 84 columns]"
      ]
     },
     "execution_count": 2,
     "metadata": {},
     "output_type": "execute_result"
    }
   ],
   "source": [
    "df = pd.read_feather(\"data/yelp_business_cleaned.feather\")\n",
    "print(f\"There are {df.shape[0]} business records left with {df.shape[1]} total features.\")\n",
    "df.head(3)"
   ]
  },
  {
   "cell_type": "code",
   "execution_count": 3,
   "metadata": {},
   "outputs": [
    {
     "name": "stdout",
     "output_type": "stream",
     "text": [
      "<class 'pandas.core.frame.DataFrame'>\n",
      "RangeIndex: 68054 entries, 0 to 68053\n",
      "Data columns (total 84 columns):\n",
      " #   Column                      Non-Null Count  Dtype  \n",
      "---  ------                      --------------  -----  \n",
      " 0   original_index              68054 non-null  int64  \n",
      " 1   business_id                 68054 non-null  object \n",
      " 2   name                        68054 non-null  object \n",
      " 3   address                     68054 non-null  object \n",
      " 4   city                        68054 non-null  object \n",
      " 5   state                       68054 non-null  object \n",
      " 6   postal_code                 68054 non-null  object \n",
      " 7   latitude                    68054 non-null  float64\n",
      " 8   longitude                   68054 non-null  float64\n",
      " 9   stars                       68054 non-null  float64\n",
      " 10  review_count                68054 non-null  int64  \n",
      " 11  is_open                     68054 non-null  int64  \n",
      " 12  attributes                  68054 non-null  object \n",
      " 13  categories                  68054 non-null  object \n",
      " 14  is_restaurant               68054 non-null  bool   \n",
      " 15  RestaurantsDelivery         68054 non-null  object \n",
      " 16  OutdoorSeating              68054 non-null  object \n",
      " 17  BusinessAcceptsCreditCards  68054 non-null  object \n",
      " 18  BikeParking                 68054 non-null  object \n",
      " 19  RestaurantsPriceRange2      68054 non-null  object \n",
      " 20  RestaurantsTakeOut          68054 non-null  object \n",
      " 21  ByAppointmentOnly           68054 non-null  object \n",
      " 22  WiFi                        68054 non-null  object \n",
      " 23  Alcohol                     68054 non-null  object \n",
      " 24  Caters                      68054 non-null  object \n",
      " 25  WheelchairAccessible        68054 non-null  object \n",
      " 26  GoodForKids                 68054 non-null  object \n",
      " 27  RestaurantsAttire           68054 non-null  object \n",
      " 28  RestaurantsReservations     68054 non-null  object \n",
      " 29  CoatCheck                   68054 non-null  object \n",
      " 30  DogsAllowed                 68054 non-null  object \n",
      " 31  RestaurantsTableService     68054 non-null  object \n",
      " 32  RestaurantsGoodForGroups    68054 non-null  object \n",
      " 33  HasTV                       68054 non-null  object \n",
      " 34  HappyHour                   68054 non-null  object \n",
      " 35  DriveThru                   68054 non-null  object \n",
      " 36  NoiseLevel                  68054 non-null  object \n",
      " 37  GoodForMeal                 68054 non-null  object \n",
      " 38  BusinessAcceptsBitcoin      68054 non-null  object \n",
      " 39  Smoking                     68054 non-null  object \n",
      " 40  GoodForDancing              68054 non-null  object \n",
      " 41  BestNights                  68054 non-null  object \n",
      " 42  BYOB                        68054 non-null  object \n",
      " 43  Corkage                     68054 non-null  object \n",
      " 44  BYOBCorkage                 68054 non-null  object \n",
      " 45  AcceptsInsurance            68054 non-null  object \n",
      " 46  RestaurantsCounterService   68054 non-null  object \n",
      " 47  Open24Hours                 68054 non-null  object \n",
      " 48  AgesAllowed                 68054 non-null  object \n",
      " 49  parking_garage              68054 non-null  object \n",
      " 50  parking_street              68054 non-null  object \n",
      " 51  parking_validated           68054 non-null  object \n",
      " 52  parking_lot                 68054 non-null  object \n",
      " 53  parking_valet               68054 non-null  object \n",
      " 54  ambience_romantic           68054 non-null  object \n",
      " 55  ambience_intimate           68054 non-null  object \n",
      " 56  ambience_touristy           68054 non-null  object \n",
      " 57  ambience_hipster            68054 non-null  object \n",
      " 58  ambience_divey              68054 non-null  object \n",
      " 59  ambience_classy             68054 non-null  object \n",
      " 60  ambience_trendy             68054 non-null  object \n",
      " 61  ambience_upscale            68054 non-null  object \n",
      " 62  ambience_casual             68054 non-null  object \n",
      " 63  diet_dairy-free             68054 non-null  object \n",
      " 64  diet_gluten-free            68054 non-null  object \n",
      " 65  diet_vegan                  68054 non-null  object \n",
      " 66  diet_kosher                 68054 non-null  object \n",
      " 67  diet_halal                  68054 non-null  object \n",
      " 68  diet_soy-free               68054 non-null  object \n",
      " 69  diet_vegetarian             68054 non-null  object \n",
      " 70  music_dj                    68054 non-null  object \n",
      " 71  music_background_music      68054 non-null  object \n",
      " 72  music_no_music              68054 non-null  object \n",
      " 73  music_jukebox               68054 non-null  object \n",
      " 74  music_live                  68054 non-null  object \n",
      " 75  music_video                 68054 non-null  object \n",
      " 76  music_karaoke               68054 non-null  object \n",
      " 77  hours_Monday                68054 non-null  object \n",
      " 78  hours_Tuesday               68054 non-null  object \n",
      " 79  hours_Wednesday             68054 non-null  object \n",
      " 80  hours_Thursday              68054 non-null  object \n",
      " 81  hours_Friday                68054 non-null  object \n",
      " 82  hours_Saturday              68054 non-null  object \n",
      " 83  hours_Sunday                68054 non-null  object \n",
      "dtypes: bool(1), float64(3), int64(3), object(77)\n",
      "memory usage: 43.2+ MB\n"
     ]
    }
   ],
   "source": [
    "df.info()"
   ]
  },
  {
   "attachments": {},
   "cell_type": "markdown",
   "metadata": {},
   "source": [
    "# Exploratory Data Analysis"
   ]
  },
  {
   "attachments": {},
   "cell_type": "markdown",
   "metadata": {},
   "source": [
    "<!-- ![Number of business records by state](Figures/map_numrecords_by_state.png | width=100) -->\n",
    "<img src=\"Figures/map_numrecords_by_state.png\"  width=\"800\" >"
   ]
  },
  {
   "cell_type": "code",
   "execution_count": 6,
   "metadata": {},
   "outputs": [
    {
     "data": {
      "text/html": [
       "<div>\n",
       "<style scoped>\n",
       "    .dataframe tbody tr th:only-of-type {\n",
       "        vertical-align: middle;\n",
       "    }\n",
       "\n",
       "    .dataframe tbody tr th {\n",
       "        vertical-align: top;\n",
       "    }\n",
       "\n",
       "    .dataframe thead th {\n",
       "        text-align: right;\n",
       "    }\n",
       "</style>\n",
       "<table border=\"1\" class=\"dataframe\">\n",
       "  <thead>\n",
       "    <tr style=\"text-align: right;\">\n",
       "      <th></th>\n",
       "      <th>stars</th>\n",
       "      <th>review_count</th>\n",
       "    </tr>\n",
       "  </thead>\n",
       "  <tbody>\n",
       "    <tr>\n",
       "      <th>count</th>\n",
       "      <td>68054.000000</td>\n",
       "      <td>68054.000000</td>\n",
       "    </tr>\n",
       "    <tr>\n",
       "      <th>mean</th>\n",
       "      <td>3.563949</td>\n",
       "      <td>74.619861</td>\n",
       "    </tr>\n",
       "    <tr>\n",
       "      <th>std</th>\n",
       "      <td>0.851437</td>\n",
       "      <td>169.900997</td>\n",
       "    </tr>\n",
       "    <tr>\n",
       "      <th>min</th>\n",
       "      <td>1.000000</td>\n",
       "      <td>5.000000</td>\n",
       "    </tr>\n",
       "    <tr>\n",
       "      <th>25%</th>\n",
       "      <td>3.000000</td>\n",
       "      <td>11.000000</td>\n",
       "    </tr>\n",
       "    <tr>\n",
       "      <th>50%</th>\n",
       "      <td>3.500000</td>\n",
       "      <td>27.000000</td>\n",
       "    </tr>\n",
       "    <tr>\n",
       "      <th>75%</th>\n",
       "      <td>4.000000</td>\n",
       "      <td>73.000000</td>\n",
       "    </tr>\n",
       "    <tr>\n",
       "      <th>max</th>\n",
       "      <td>5.000000</td>\n",
       "      <td>7568.000000</td>\n",
       "    </tr>\n",
       "  </tbody>\n",
       "</table>\n",
       "</div>"
      ],
      "text/plain": [
       "              stars  review_count\n",
       "count  68054.000000  68054.000000\n",
       "mean       3.563949     74.619861\n",
       "std        0.851437    169.900997\n",
       "min        1.000000      5.000000\n",
       "25%        3.000000     11.000000\n",
       "50%        3.500000     27.000000\n",
       "75%        4.000000     73.000000\n",
       "max        5.000000   7568.000000"
      ]
     },
     "execution_count": 6,
     "metadata": {},
     "output_type": "execute_result"
    }
   ],
   "source": [
    "df[['stars', 'review_count']].describe()"
   ]
  },
  {
   "cell_type": "code",
   "execution_count": 171,
   "metadata": {},
   "outputs": [
    {
     "data": {
      "text/plain": [
       "Text(0.5, 0, 'Number of Reviews')"
      ]
     },
     "execution_count": 171,
     "metadata": {},
     "output_type": "execute_result"
    },
    {
     "data": {
      "image/png": "[encoded data removed]",
      "text/plain": [
       "<Figure size 640x480 with 1 Axes>"
      ]
     },
     "metadata": {},
     "output_type": "display_data"
    }
   ],
   "source": [
    "sns.histplot(data = df, x = 'review_count', \n",
    "             color = 'cornflowerblue', stat = 'percent',\n",
    "             log_scale = True)\n",
    "plt.title(\"Distribution of Number of Reviews\")\n",
    "plt.xlabel(\"Number of Reviews\")"
   ]
  },
  {
   "cell_type": "code",
   "execution_count": 189,
   "metadata": {},
   "outputs": [
    {
     "data": {
      "text/html": [
       "<div>\n",
       "<style scoped>\n",
       "    .dataframe tbody tr th:only-of-type {\n",
       "        vertical-align: middle;\n",
       "    }\n",
       "\n",
       "    .dataframe tbody tr th {\n",
       "        vertical-align: top;\n",
       "    }\n",
       "\n",
       "    .dataframe thead th {\n",
       "        text-align: right;\n",
       "    }\n",
       "</style>\n",
       "<table border=\"1\" class=\"dataframe\">\n",
       "  <thead>\n",
       "    <tr style=\"text-align: right;\">\n",
       "      <th></th>\n",
       "      <th>stars</th>\n",
       "      <th>business_id</th>\n",
       "    </tr>\n",
       "  </thead>\n",
       "  <tbody>\n",
       "    <tr>\n",
       "      <th>0</th>\n",
       "      <td>1.0</td>\n",
       "      <td>311</td>\n",
       "    </tr>\n",
       "    <tr>\n",
       "      <th>1</th>\n",
       "      <td>1.5</td>\n",
       "      <td>1800</td>\n",
       "    </tr>\n",
       "    <tr>\n",
       "      <th>2</th>\n",
       "      <td>2.0</td>\n",
       "      <td>3813</td>\n",
       "    </tr>\n",
       "    <tr>\n",
       "      <th>3</th>\n",
       "      <td>2.5</td>\n",
       "      <td>6109</td>\n",
       "    </tr>\n",
       "    <tr>\n",
       "      <th>4</th>\n",
       "      <td>3.0</td>\n",
       "      <td>9436</td>\n",
       "    </tr>\n",
       "    <tr>\n",
       "      <th>5</th>\n",
       "      <td>3.5</td>\n",
       "      <td>14423</td>\n",
       "    </tr>\n",
       "    <tr>\n",
       "      <th>6</th>\n",
       "      <td>4.0</td>\n",
       "      <td>16950</td>\n",
       "    </tr>\n",
       "    <tr>\n",
       "      <th>7</th>\n",
       "      <td>4.5</td>\n",
       "      <td>12034</td>\n",
       "    </tr>\n",
       "    <tr>\n",
       "      <th>8</th>\n",
       "      <td>5.0</td>\n",
       "      <td>3178</td>\n",
       "    </tr>\n",
       "  </tbody>\n",
       "</table>\n",
       "</div>"
      ],
      "text/plain": [
       "  stars  business_id\n",
       "0   1.0          311\n",
       "1   1.5         1800\n",
       "2   2.0         3813\n",
       "3   2.5         6109\n",
       "4   3.0         9436\n",
       "5   3.5        14423\n",
       "6   4.0        16950\n",
       "7   4.5        12034\n",
       "8   5.0         3178"
      ]
     },
     "execution_count": 189,
     "metadata": {},
     "output_type": "execute_result"
    }
   ],
   "source": [
    "df.groupby(['stars'])[['business_id']].agg('count').reset_index().astype({'stars': str})"
   ]
  },
  {
   "cell_type": "code",
   "execution_count": 186,
   "metadata": {},
   "outputs": [
    {
     "data": {
      "text/plain": [
       "Text(0, 0.5, 'Number of restaurants')"
      ]
     },
     "execution_count": 186,
     "metadata": {},
     "output_type": "execute_result"
    },
    {
     "data": {
      "image/png": "[encoded data removed]",
      "text/plain": [
       "<Figure size 640x480 with 1 Axes>"
      ]
     },
     "metadata": {},
     "output_type": "display_data"
    }
   ],
   "source": [
    "sns.barplot(data = df.groupby(['stars'])[['business_id']].agg('count').reset_index().astype({'stars': str}),\n",
    "            x = 'stars', \n",
    "            y = 'business_id',\n",
    "            color = 'cornflowerblue')\n",
    "plt.title(\"Distribution of Rating Stars\")\n",
    "plt.xlabel(\"Rating Stars\")\n",
    "plt.ylabel(\"Number of restaurants\")"
   ]
  },
  {
   "cell_type": "code",
   "execution_count": 169,
   "metadata": {},
   "outputs": [
    {
     "data": {
      "text/plain": [
       "74       2404\n",
       "87       1639\n",
       "438      2064\n",
       "888      2062\n",
       "1082     2126\n",
       "         ... \n",
       "66915    3054\n",
       "67146    1232\n",
       "67185    1213\n",
       "67343    4207\n",
       "67583    2679\n",
       "Name: review_count, Length: 303, dtype: int64"
      ]
     },
     "execution_count": 169,
     "metadata": {},
     "output_type": "execute_result"
    }
   ],
   "source": [
    "df[df['review_count'] > 1000]['review_count']"
   ]
  },
  {
   "attachments": {},
   "cell_type": "markdown",
   "metadata": {},
   "source": [
    "### Proportion of businesses that are still open (in operation)"
   ]
  },
  {
   "cell_type": "code",
   "execution_count": 156,
   "metadata": {},
   "outputs": [
    {
     "data": {
      "text/html": [
       "<div>\n",
       "<style scoped>\n",
       "    .dataframe tbody tr th:only-of-type {\n",
       "        vertical-align: middle;\n",
       "    }\n",
       "\n",
       "    .dataframe tbody tr th {\n",
       "        vertical-align: top;\n",
       "    }\n",
       "\n",
       "    .dataframe thead th {\n",
       "        text-align: right;\n",
       "    }\n",
       "</style>\n",
       "<table border=\"1\" class=\"dataframe\">\n",
       "  <thead>\n",
       "    <tr style=\"text-align: right;\">\n",
       "      <th></th>\n",
       "      <th>in operation</th>\n",
       "      <th>proportion</th>\n",
       "    </tr>\n",
       "  </thead>\n",
       "  <tbody>\n",
       "    <tr>\n",
       "      <th>0</th>\n",
       "      <td>Yes</td>\n",
       "      <td>69.430158</td>\n",
       "    </tr>\n",
       "    <tr>\n",
       "      <th>1</th>\n",
       "      <td>No</td>\n",
       "      <td>30.569842</td>\n",
       "    </tr>\n",
       "  </tbody>\n",
       "</table>\n",
       "</div>"
      ],
      "text/plain": [
       "  in operation  proportion\n",
       "0          Yes   69.430158\n",
       "1           No   30.569842"
      ]
     },
     "execution_count": 156,
     "metadata": {},
     "output_type": "execute_result"
    }
   ],
   "source": [
    "in_oper = df['is_open'].value_counts(normalize = True, sort = True, dropna = False)\n",
    "in_oper = in_oper.to_frame().reset_index()\n",
    "in_oper.rename(columns = {'is_open': 'proportion', 'index' : 'in operation'}, inplace = True)\n",
    "in_oper['in operation'] = in_oper['in operation'].map({1: \"Yes\", 0: \"No\"})\n",
    "in_oper['proportion'] = in_oper['proportion'] * 100\n",
    "in_oper"
   ]
  },
  {
   "cell_type": "code",
   "execution_count": 157,
   "metadata": {},
   "outputs": [
    {
     "data": {
      "text/plain": [
       "Text(0, 0.5, 'Percentage (%)')"
      ]
     },
     "execution_count": 157,
     "metadata": {},
     "output_type": "execute_result"
    },
    {
     "data": {
      "image/png": "[encoded data removed]",
      "text/plain": [
       "<Figure size 400x400 with 1 Axes>"
      ]
     },
     "metadata": {},
     "output_type": "display_data"
    }
   ],
   "source": [
    "fig, ax = plt.subplots(figsize = (4, 4))\n",
    "sns.barplot(data = in_oper,\n",
    "            x = 'in operation', y = \"proportion\", \n",
    "            order = ['Yes', 'No'],\n",
    "            color = \"cornflowerblue\")\n",
    "plt.title(\"Proportion of businesses that are still in operation\")\n",
    "plt.xlabel(\"In Operation\")\n",
    "plt.ylabel(\"Percentage (%)\")"
   ]
  },
  {
   "attachments": {},
   "cell_type": "markdown",
   "metadata": {},
   "source": [
    "### Price Ranges"
   ]
  },
  {
   "cell_type": "code",
   "execution_count": 149,
   "metadata": {},
   "outputs": [
    {
     "data": {
      "text/html": [
       "<div>\n",
       "<style scoped>\n",
       "    .dataframe tbody tr th:only-of-type {\n",
       "        vertical-align: middle;\n",
       "    }\n",
       "\n",
       "    .dataframe tbody tr th {\n",
       "        vertical-align: top;\n",
       "    }\n",
       "\n",
       "    .dataframe thead th {\n",
       "        text-align: right;\n",
       "    }\n",
       "</style>\n",
       "<table border=\"1\" class=\"dataframe\">\n",
       "  <thead>\n",
       "    <tr style=\"text-align: right;\">\n",
       "      <th></th>\n",
       "      <th>price range</th>\n",
       "      <th>proportion</th>\n",
       "    </tr>\n",
       "  </thead>\n",
       "  <tbody>\n",
       "    <tr>\n",
       "      <th>0</th>\n",
       "      <td>$11-30</td>\n",
       "      <td>44.632204</td>\n",
       "    </tr>\n",
       "    <tr>\n",
       "      <th>1</th>\n",
       "      <td>under $10</td>\n",
       "      <td>36.506304</td>\n",
       "    </tr>\n",
       "    <tr>\n",
       "      <th>2</th>\n",
       "      <td>N/A</td>\n",
       "      <td>14.927851</td>\n",
       "    </tr>\n",
       "    <tr>\n",
       "      <th>3</th>\n",
       "      <td>$31-60</td>\n",
       "      <td>3.466365</td>\n",
       "    </tr>\n",
       "    <tr>\n",
       "      <th>4</th>\n",
       "      <td>over $61</td>\n",
       "      <td>0.467276</td>\n",
       "    </tr>\n",
       "  </tbody>\n",
       "</table>\n",
       "</div>"
      ],
      "text/plain": [
       "  price range  proportion\n",
       "0      $11-30   44.632204\n",
       "1   under $10   36.506304\n",
       "2         N/A   14.927851\n",
       "3      $31-60    3.466365\n",
       "4    over $61    0.467276"
      ]
     },
     "execution_count": 149,
     "metadata": {},
     "output_type": "execute_result"
    }
   ],
   "source": [
    "label_map = {\"1\": \"under $10\",\n",
    "             \"2\": \"$11-30\",\n",
    "             \"3\": \"$31-60\",\n",
    "             \"4\": \"over $61\",\n",
    "             \"None\": \"N/A\"}\n",
    "# df['RestaurantsPriceRange2'].map(label_map).value_counts(normalize = True, sort = True)\n",
    "priceranges = df['RestaurantsPriceRange2'].map(label_map).value_counts(normalize = True, sort = True, dropna = False)\n",
    "priceranges = priceranges.to_frame().reset_index()\n",
    "priceranges.rename(columns = {'RestaurantsPriceRange2': 'proportion', 'index' : 'price range'}, inplace = True)\n",
    "priceranges['proportion'] = priceranges['proportion'] * 100\n",
    "priceranges"
   ]
  },
  {
   "cell_type": "code",
   "execution_count": 153,
   "metadata": {},
   "outputs": [
    {
     "data": {
      "text/plain": [
       "Text(0.5, 0, 'Percentage (%)')"
      ]
     },
     "execution_count": 153,
     "metadata": {},
     "output_type": "execute_result"
    },
    {
     "data": {
      "image/png": "[encoded data removed]",
      "text/plain": [
       "<Figure size 400x400 with 1 Axes>"
      ]
     },
     "metadata": {},
     "output_type": "display_data"
    }
   ],
   "source": [
    "fig, ax = plt.subplots(figsize = (4, 4))\n",
    "sns.barplot(data = priceranges,\n",
    "            y = 'price range', x = \"proportion\", \n",
    "            order = [\"under $10\", \"$11-30\", \"$31-60\", \"over $61\", \"N/A\"],\n",
    "            color = \"cornflowerblue\")\n",
    "plt.title(\"Proportion of businesses by Price Ranges\")\n",
    "plt.ylabel(\"Price Range\")\n",
    "plt.xlabel(\"Percentage (%)\")"
   ]
  },
  {
   "attachments": {},
   "cell_type": "markdown",
   "metadata": {},
   "source": [
    "### Opening 24 hours"
   ]
  },
  {
   "cell_type": "code",
   "execution_count": 141,
   "metadata": {},
   "outputs": [
    {
     "data": {
      "text/html": [
       "<div>\n",
       "<style scoped>\n",
       "    .dataframe tbody tr th:only-of-type {\n",
       "        vertical-align: middle;\n",
       "    }\n",
       "\n",
       "    .dataframe tbody tr th {\n",
       "        vertical-align: top;\n",
       "    }\n",
       "\n",
       "    .dataframe thead th {\n",
       "        text-align: right;\n",
       "    }\n",
       "</style>\n",
       "<table border=\"1\" class=\"dataframe\">\n",
       "  <thead>\n",
       "    <tr style=\"text-align: right;\">\n",
       "      <th></th>\n",
       "      <th>Open 24 Hr</th>\n",
       "      <th>proportion</th>\n",
       "    </tr>\n",
       "  </thead>\n",
       "  <tbody>\n",
       "    <tr>\n",
       "      <th>0</th>\n",
       "      <td>N/A</td>\n",
       "      <td>99.961795</td>\n",
       "    </tr>\n",
       "    <tr>\n",
       "      <th>1</th>\n",
       "      <td>No</td>\n",
       "      <td>0.024980</td>\n",
       "    </tr>\n",
       "    <tr>\n",
       "      <th>2</th>\n",
       "      <td>Yes</td>\n",
       "      <td>0.013225</td>\n",
       "    </tr>\n",
       "  </tbody>\n",
       "</table>\n",
       "</div>"
      ],
      "text/plain": [
       "  Open 24 Hr  proportion\n",
       "0        N/A   99.961795\n",
       "1         No    0.024980\n",
       "2        Yes    0.013225"
      ]
     },
     "execution_count": 141,
     "metadata": {},
     "output_type": "execute_result"
    }
   ],
   "source": [
    "open24h = df['Open24Hours'].value_counts(normalize = True, sort = True, dropna = False)\n",
    "open24h = open24h.to_frame().reset_index()\n",
    "open24h.rename(columns = {'Open24Hours': 'proportion', 'index' : 'Open 24 Hr'}, inplace = True)\n",
    "open24h['Open 24 Hr'] = open24h['Open 24 Hr'].map({\"True\": \"Yes\", \"False\": \"No\", \"None\": \"N/A\"})\n",
    "open24h['proportion'] = open24h['proportion'] * 100\n",
    "open24h"
   ]
  },
  {
   "cell_type": "code",
   "execution_count": 148,
   "metadata": {},
   "outputs": [
    {
     "data": {
      "text/plain": [
       "Text(0, 0.5, 'Percentage (%)')"
      ]
     },
     "execution_count": 148,
     "metadata": {},
     "output_type": "execute_result"
    },
    {
     "data": {
      "image/png": "[encoded data removed]",
      "text/plain": [
       "<Figure size 400x400 with 1 Axes>"
      ]
     },
     "metadata": {},
     "output_type": "display_data"
    }
   ],
   "source": [
    "fig, ax = plt.subplots(figsize = (4, 4))\n",
    "sns.barplot(data = open24h[open24h['Open 24 Hr'] != \"N/A\"],\n",
    "            x = 'Open 24 Hr', y = \"proportion\", \n",
    "            order = ['Yes', 'No'],\n",
    "            color = \"cornflowerblue\")\n",
    "plt.title(\"Proportion of businesses that open 24 hours\")\n",
    "plt.xlabel(\"Open 24 Hours\")\n",
    "plt.ylabel(\"Percentage (%)\")"
   ]
  },
  {
   "attachments": {},
   "cell_type": "markdown",
   "metadata": {},
   "source": [
    "### Parking availability"
   ]
  },
  {
   "cell_type": "code",
   "execution_count": 68,
   "metadata": {},
   "outputs": [
    {
     "data": {
      "text/html": [
       "<div>\n",
       "<style scoped>\n",
       "    .dataframe tbody tr th:only-of-type {\n",
       "        vertical-align: middle;\n",
       "    }\n",
       "\n",
       "    .dataframe tbody tr th {\n",
       "        vertical-align: top;\n",
       "    }\n",
       "\n",
       "    .dataframe thead th {\n",
       "        text-align: right;\n",
       "    }\n",
       "</style>\n",
       "<table border=\"1\" class=\"dataframe\">\n",
       "  <thead>\n",
       "    <tr style=\"text-align: right;\">\n",
       "      <th></th>\n",
       "      <th>has_parking</th>\n",
       "      <th>proportion</th>\n",
       "    </tr>\n",
       "  </thead>\n",
       "  <tbody>\n",
       "    <tr>\n",
       "      <th>0</th>\n",
       "      <td>Yes</td>\n",
       "      <td>63.730273</td>\n",
       "    </tr>\n",
       "    <tr>\n",
       "      <th>1</th>\n",
       "      <td>No</td>\n",
       "      <td>23.194816</td>\n",
       "    </tr>\n",
       "    <tr>\n",
       "      <th>2</th>\n",
       "      <td>N/A</td>\n",
       "      <td>13.074911</td>\n",
       "    </tr>\n",
       "  </tbody>\n",
       "</table>\n",
       "</div>"
      ],
      "text/plain": [
       "  has_parking  proportion\n",
       "0         Yes   63.730273\n",
       "1          No   23.194816\n",
       "2         N/A   13.074911"
      ]
     },
     "execution_count": 68,
     "metadata": {},
     "output_type": "execute_result"
    }
   ],
   "source": [
    "df['has_parking'] = df[['parking_garage', 'parking_street', \n",
    "                        'parking_validated', 'parking_lot', \n",
    "                        'parking_valet']].replace({\"None\": np.nan,\n",
    "                                                \"True\": 1, \n",
    "                                                \"False\": 0}).max(axis = 1)\n",
    "parking_stat = df['has_parking'].value_counts(dropna = False, normalize = True).to_frame().reset_index()\n",
    "parking_stat.rename(columns = {'has_parking': 'proportion', 'index' : 'has_parking'}, inplace = True)\n",
    "parking_stat['has_parking'] = parking_stat['has_parking'].map({1: \"Yes\", 0: \"No\"})\n",
    "parking_stat['has_parking'].fillna(\"N/A\", inplace = True)\n",
    "parking_stat['proportion'] = parking_stat['proportion'] * 100\n",
    "parking_stat"
   ]
  },
  {
   "cell_type": "code",
   "execution_count": 76,
   "metadata": {},
   "outputs": [
    {
     "data": {
      "text/plain": [
       "Text(0, 0.5, 'Percentage')"
      ]
     },
     "execution_count": 76,
     "metadata": {},
     "output_type": "execute_result"
    },
    {
     "data": {
      "image/png": "[encoded data removed]",
      "text/plain": [
       "<Figure size 400x400 with 1 Axes>"
      ]
     },
     "metadata": {},
     "output_type": "display_data"
    }
   ],
   "source": [
    "fig, ax = plt.subplots(figsize = (4, 4))\n",
    "sns.barplot(data = parking_stat,\n",
    "            x = 'has_parking', y = \"proportion\",\n",
    "            color = \"cornflowerblue\")\n",
    "plt.title(\"Proportion of businesses by parking availability\")\n",
    "plt.xlabel(\"Parking Availability\")\n",
    "plt.ylabel(\"Percentage\")"
   ]
  },
  {
   "attachments": {},
   "cell_type": "markdown",
   "metadata": {},
   "source": [
    "### Diet types"
   ]
  },
  {
   "cell_type": "code",
   "execution_count": 135,
   "metadata": {},
   "outputs": [
    {
     "data": {
      "text/html": [
       "<div>\n",
       "<style scoped>\n",
       "    .dataframe tbody tr th:only-of-type {\n",
       "        vertical-align: middle;\n",
       "    }\n",
       "\n",
       "    .dataframe tbody tr th {\n",
       "        vertical-align: top;\n",
       "    }\n",
       "\n",
       "    .dataframe thead th {\n",
       "        text-align: right;\n",
       "    }\n",
       "</style>\n",
       "<table border=\"1\" class=\"dataframe\">\n",
       "  <thead>\n",
       "    <tr style=\"text-align: right;\">\n",
       "      <th></th>\n",
       "      <th>index</th>\n",
       "      <th>diet type</th>\n",
       "      <th>proportion</th>\n",
       "    </tr>\n",
       "  </thead>\n",
       "  <tbody>\n",
       "    <tr>\n",
       "      <th>5</th>\n",
       "      <td>Yes</td>\n",
       "      <td>gluten-free</td>\n",
       "      <td>0.027919</td>\n",
       "    </tr>\n",
       "    <tr>\n",
       "      <th>20</th>\n",
       "      <td>Yes</td>\n",
       "      <td>vegetarian</td>\n",
       "      <td>0.022041</td>\n",
       "    </tr>\n",
       "    <tr>\n",
       "      <th>8</th>\n",
       "      <td>Yes</td>\n",
       "      <td>vegan</td>\n",
       "      <td>0.020572</td>\n",
       "    </tr>\n",
       "    <tr>\n",
       "      <th>2</th>\n",
       "      <td>Yes</td>\n",
       "      <td>dairy-free</td>\n",
       "      <td>0.008817</td>\n",
       "    </tr>\n",
       "    <tr>\n",
       "      <th>17</th>\n",
       "      <td>Yes</td>\n",
       "      <td>soy-free</td>\n",
       "      <td>0.005878</td>\n",
       "    </tr>\n",
       "    <tr>\n",
       "      <th>14</th>\n",
       "      <td>Yes</td>\n",
       "      <td>halal</td>\n",
       "      <td>0.001469</td>\n",
       "    </tr>\n",
       "    <tr>\n",
       "      <th>11</th>\n",
       "      <td>Yes</td>\n",
       "      <td>kosher</td>\n",
       "      <td>NaN</td>\n",
       "    </tr>\n",
       "    <tr>\n",
       "      <th>10</th>\n",
       "      <td>No</td>\n",
       "      <td>kosher</td>\n",
       "      <td>0.044083</td>\n",
       "    </tr>\n",
       "    <tr>\n",
       "      <th>13</th>\n",
       "      <td>No</td>\n",
       "      <td>halal</td>\n",
       "      <td>0.042613</td>\n",
       "    </tr>\n",
       "    <tr>\n",
       "      <th>16</th>\n",
       "      <td>No</td>\n",
       "      <td>soy-free</td>\n",
       "      <td>0.038205</td>\n",
       "    </tr>\n",
       "    <tr>\n",
       "      <th>1</th>\n",
       "      <td>No</td>\n",
       "      <td>dairy-free</td>\n",
       "      <td>0.035266</td>\n",
       "    </tr>\n",
       "    <tr>\n",
       "      <th>7</th>\n",
       "      <td>No</td>\n",
       "      <td>vegan</td>\n",
       "      <td>0.023511</td>\n",
       "    </tr>\n",
       "    <tr>\n",
       "      <th>19</th>\n",
       "      <td>No</td>\n",
       "      <td>vegetarian</td>\n",
       "      <td>0.022041</td>\n",
       "    </tr>\n",
       "    <tr>\n",
       "      <th>4</th>\n",
       "      <td>No</td>\n",
       "      <td>gluten-free</td>\n",
       "      <td>0.016164</td>\n",
       "    </tr>\n",
       "  </tbody>\n",
       "</table>\n",
       "</div>"
      ],
      "text/plain": [
       "   index    diet type  proportion\n",
       "5    Yes  gluten-free    0.027919\n",
       "20   Yes   vegetarian    0.022041\n",
       "8    Yes        vegan    0.020572\n",
       "2    Yes   dairy-free    0.008817\n",
       "17   Yes     soy-free    0.005878\n",
       "14   Yes        halal    0.001469\n",
       "11   Yes       kosher         NaN\n",
       "10    No       kosher    0.044083\n",
       "13    No        halal    0.042613\n",
       "16    No     soy-free    0.038205\n",
       "1     No   dairy-free    0.035266\n",
       "7     No        vegan    0.023511\n",
       "19    No   vegetarian    0.022041\n",
       "4     No  gluten-free    0.016164"
      ]
     },
     "execution_count": 135,
     "metadata": {},
     "output_type": "execute_result"
    }
   ],
   "source": [
    "diets = df[['diet_dairy-free',\n",
    "                        'diet_gluten-free',\n",
    "                        'diet_vegan',\n",
    "                        'diet_kosher',\n",
    "                        'diet_halal',\n",
    "                        'diet_soy-free',\n",
    "                        'diet_vegetarian']].replace({\"None\": np.nan,\n",
    "                                                \"True\": 1, \n",
    "                                                \"False\": 0})\n",
    "val_count_list = []\n",
    "for d in list(diets.columns):\n",
    "    count = diets[d].value_counts(dropna = False, normalize = True).to_frame()\n",
    "    val_count_list.append(count)\n",
    "diets_counts = pd.concat(val_count_list, axis = 1)\n",
    "diets_counts.reset_index(inplace = True)\n",
    "diets_counts['index'] = diets_counts['index'].map({1: \"Yes\", 0: \"No\"})\n",
    "diets_counts['index'].fillna(\"N/A\", inplace = True)\n",
    "diets_counts = diets_counts.melt(id_vars = ['index'], \n",
    "                                 var_name = \"diet type\",\n",
    "                                 value_name = 'proportion'\n",
    "                                 )\n",
    "diets_counts = diets_counts[diets_counts['index'] != \"N/A\"]\n",
    "diets_counts['proportion'] = diets_counts['proportion'] * 100\n",
    "diets_counts['diet type'] = diets_counts['diet type'].str.replace(\"diet_\", \"\")\n",
    "diets_counts.sort_values([\"index\", \"proportion\"], ascending = [False, False], inplace = True)\n",
    "diets_counts"
   ]
  },
  {
   "cell_type": "code",
   "execution_count": 137,
   "metadata": {},
   "outputs": [
    {
     "data": {
      "text/plain": [
       "<matplotlib.legend.Legend at 0x1809fb610>"
      ]
     },
     "execution_count": 137,
     "metadata": {},
     "output_type": "execute_result"
    },
    {
     "data": {
      "image/png": "[encoded data removed]",
      "text/plain": [
       "<Figure size 400x400 with 1 Axes>"
      ]
     },
     "metadata": {},
     "output_type": "display_data"
    }
   ],
   "source": [
    "fig, ax = plt.subplots(figsize = (4, 4))\n",
    "sns.barplot(data = diets_counts,\n",
    "            x = 'proportion', y = \"diet type\",\n",
    "            hue = 'index',\n",
    "            palette = [\"cornflowerblue\", \"wheat\"])\n",
    "plt.title(\"Proportion of special diet types offered\")\n",
    "plt.xlabel(\"Percentage (%)\")\n",
    "plt.ylabel(\"Diet Type\")\n",
    "plt.legend(title = \"\")"
   ]
  },
  {
   "attachments": {},
   "cell_type": "markdown",
   "metadata": {},
   "source": [
    "### Allowing Dogs"
   ]
  },
  {
   "cell_type": "code",
   "execution_count": 138,
   "metadata": {},
   "outputs": [
    {
     "data": {
      "text/plain": [
       "None     54316\n",
       "False    10037\n",
       "True      3701\n",
       "Name: DogsAllowed, dtype: int64"
      ]
     },
     "execution_count": 138,
     "metadata": {},
     "output_type": "execute_result"
    }
   ],
   "source": [
    "df['DogsAllowed'].value_counts()"
   ]
  },
  {
   "cell_type": "code",
   "execution_count": 159,
   "metadata": {},
   "outputs": [
    {
     "data": {
      "text/html": [
       "<div>\n",
       "<style scoped>\n",
       "    .dataframe tbody tr th:only-of-type {\n",
       "        vertical-align: middle;\n",
       "    }\n",
       "\n",
       "    .dataframe tbody tr th {\n",
       "        vertical-align: top;\n",
       "    }\n",
       "\n",
       "    .dataframe thead th {\n",
       "        text-align: right;\n",
       "    }\n",
       "</style>\n",
       "<table border=\"1\" class=\"dataframe\">\n",
       "  <thead>\n",
       "    <tr style=\"text-align: right;\">\n",
       "      <th></th>\n",
       "      <th>Allowing dogs</th>\n",
       "      <th>proportion</th>\n",
       "    </tr>\n",
       "  </thead>\n",
       "  <tbody>\n",
       "    <tr>\n",
       "      <th>0</th>\n",
       "      <td>N/A</td>\n",
       "      <td>79.813090</td>\n",
       "    </tr>\n",
       "    <tr>\n",
       "      <th>1</th>\n",
       "      <td>No</td>\n",
       "      <td>14.748582</td>\n",
       "    </tr>\n",
       "    <tr>\n",
       "      <th>2</th>\n",
       "      <td>Yes</td>\n",
       "      <td>5.438328</td>\n",
       "    </tr>\n",
       "  </tbody>\n",
       "</table>\n",
       "</div>"
      ],
      "text/plain": [
       "  Allowing dogs  proportion\n",
       "0           N/A   79.813090\n",
       "1            No   14.748582\n",
       "2           Yes    5.438328"
      ]
     },
     "execution_count": 159,
     "metadata": {},
     "output_type": "execute_result"
    }
   ],
   "source": [
    "dog_allow = df['DogsAllowed'].value_counts(normalize = True, sort = True, dropna = False)\n",
    "dog_allow = dog_allow.to_frame().reset_index()\n",
    "dog_allow.rename(columns = {'DogsAllowed': 'proportion', 'index' : 'Allowing dogs'}, inplace = True)\n",
    "dog_allow['Allowing dogs'] = dog_allow['Allowing dogs'].map({\"True\": \"Yes\", \"False\": \"No\", \"None\": \"N/A\"})\n",
    "dog_allow['proportion'] = dog_allow['proportion'] * 100\n",
    "dog_allow"
   ]
  },
  {
   "cell_type": "code",
   "execution_count": 161,
   "metadata": {},
   "outputs": [
    {
     "data": {
      "text/plain": [
       "Text(0, 0.5, 'Percentage (%)')"
      ]
     },
     "execution_count": 161,
     "metadata": {},
     "output_type": "execute_result"
    },
    {
     "data": {
      "image/png": "[encoded data removed]",
      "text/plain": [
       "<Figure size 400x400 with 1 Axes>"
      ]
     },
     "metadata": {},
     "output_type": "display_data"
    }
   ],
   "source": [
    "fig, ax = plt.subplots(figsize = (4, 4))\n",
    "sns.barplot(data = dog_allow[dog_allow['Allowing dogs'] != \"N/A\"],\n",
    "            x = 'Allowing dogs', y = \"proportion\", \n",
    "            order = ['Yes', 'No'],\n",
    "            color = \"cornflowerblue\")\n",
    "plt.title(\"Proportion of restaurants that allow dogs\")\n",
    "plt.xlabel(\"Allowing Dogs\")\n",
    "plt.ylabel(\"Percentage (%)\")"
   ]
  },
  {
   "cell_type": "code",
   "execution_count": null,
   "metadata": {},
   "outputs": [],
   "source": []
  }
 ],
 "metadata": {
  "kernelspec": {
   "display_name": "ds_harvard",
   "language": "python",
   "name": "python3"
  },
  "language_info": {
   "codemirror_mode": {
    "name": "ipython",
    "version": 3
   },
   "file_extension": ".py",
   "mimetype": "text/x-python",
   "name": "python",
   "nbconvert_exporter": "python",
   "pygments_lexer": "ipython3",
   "version": "3.10.9"
  },
  "orig_nbformat": 4,
  "vscode": {
   "interpreter": {
    "hash": "8c825be55757a755ec7f5c4bfe234e5c4b54b398decb7368d4d838abb1da92b6"
   }
  }
 },
 "nbformat": 4,
 "nbformat_minor": 2
}
